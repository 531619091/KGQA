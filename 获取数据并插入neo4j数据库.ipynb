{
 "cells": [
  {
   "cell_type": "code",
   "execution_count": 1,
   "metadata": {},
   "outputs": [
    {
     "name": "stdout",
     "output_type": "stream",
     "text": [
      "提示：当前环境 pandas 版本高于 0.25，get_price 与 get_fundamentals_continuously 接口 panel 参数将固定为 False\n",
      "注意：0.25 以上版本 pandas 不支持 panel，如使用该数据结构和相关函数请注意修改\n",
      "auth success \n"
     ]
    }
   ],
   "source": [
    "import pandas as pd\n",
    "import numpy as np\n",
    "from jqdatasdk import *\n",
    "#这里需要你在聚宽网注册它们的的jqdata的账户，然后就可以调用api获取数据了\n",
    "auth('账户名','密码')"
   ]
  },
  {
   "cell_type": "code",
   "execution_count": 2,
   "metadata": {},
   "outputs": [],
   "source": [
    "import re\n",
    "#import hanlp\n",
    "pd.set_option('display.max_rows', 100)\n",
    "pd.set_option('display.max_columns', 100)\n",
    "pd.set_option(\"display.max_colwidth\",1000)"
   ]
  },
  {
   "cell_type": "code",
   "execution_count": 5,
   "metadata": {},
   "outputs": [],
   "source": [
    "text ='朱蕾：女，1971年3月出生，美国国籍，美国天普大学会计学硕士，波士顿大学金融学硕士，哥伦比亚大学会计学博士，美国注册会计师，会计学副教授。曾任普华永道会计师事务所高级分析员、AnalysisGroup经理、美国波士顿大学会计学助理教授、上海交通大学高级金融学院副教授。现任复旦大学泛海国际金融学院副教授（终身教职）及上海益民商业集团股份有限公司独立董事。2019年2月至今，担任公司独立董事。。'"
   ]
  },
  {
   "cell_type": "code",
   "execution_count": 144,
   "metadata": {},
   "outputs": [],
   "source": []
  },
  {
   "cell_type": "code",
   "execution_count": null,
   "metadata": {
    "scrolled": false
   },
   "outputs": [],
   "source": [
    "\n",
    "from py2neo import Graph,Node,Relationship,NodeMatcher,RelationshipMatcher\n",
    "from LAC import LAC\n",
    "from tqdm import tqdm\n",
    "lac = LAC(mode='lac')\n",
    "graph=Graph('http://localhost:7474/db/data/',name='stock',username='neo4j',password='neo4j')\n",
    "rmatcher = RelationshipMatcher(graph)\n",
    "import traceback\n",
    "\n",
    "i = 0\n",
    "\n",
    "for index,stock in tqdm(finance.run_query(query(finance.STK_COMPANY_INFO).filter(finance.STK_COMPANY_INFO.id>39345)).iterrows()):\n",
    "    try:\n",
    "        i += 1\n",
    "        print('处理第',i,'条：',stock['short_name'])\n",
    "        stock_code = stock['code']\n",
    "        stock_name = stock['short_name']\n",
    "        stock_full_name = stock['full_name']\n",
    "        stock_english_name = stock['fullname_en']\n",
    "        register_location = stock['register_location']\n",
    "        office_address = stock['office_address']\n",
    "        register_capital = stock['register_capital']\n",
    "        main_business = stock['main_business']\n",
    "        province = stock['province']\n",
    "        city = stock['city']\n",
    "        industry_1 = stock['industry_1']\n",
    "        industry_2 = stock['industry_2']\n",
    "        cpafirm = stock['cpafirm']\n",
    "        lawfirm = stock['lawfirm']\n",
    "        stock_node = Node('COMPANY',code=stock_code,name=stock_full_name,short_name=stock_name,english_name=stock_english_name,\\\n",
    "                         register_location=register_location,office_address=office_address,register_capital=register_capital,\\\n",
    "                         main_business=main_business,province=province,city=city,industry_1=industry_1,cpafirm=cpafirm,\\\n",
    "                         lawfirm=lawfirm)\n",
    "        graph.create(stock_node)\n",
    "        stock_node = graph.nodes.match('COMPANY',code=stock_code).first()\n",
    "\n",
    "\n",
    "        #公司任职信息\n",
    "        for index,manager in finance.run_query(query(finance.STK_MANAGEMENT_INFO).\\\n",
    "                              filter(finance.STK_MANAGEMENT_INFO.code==stock_code).\\\n",
    "                                               order_by(finance.STK_MANAGEMENT_INFO.pub_date)).iterrows():\n",
    "\n",
    "            name = manager['name']\n",
    "            person_id = manager['person_id']\n",
    "            gender = manager['gender']\n",
    "            birth_year = manager['birth_year']\n",
    "            highest_degree = manager['highest_degree']\n",
    "            title = manager['title']\n",
    "            title_class = manager['title_class']\n",
    "            on_job = manager['on_job']\n",
    "            start_date = manager['start_date']\n",
    "            leave_date = manager['leave_date']\n",
    "            person_node = graph.nodes.match('PERSON',name=name,person_id=person_id).first()\n",
    "\n",
    "            if person_node is None:\n",
    "                graph.create(Node('PERSON',name=name,person_id=person_id,gender=gender,birth_year=birth_year,\n",
    "                                 highest_degree=highest_degree))\n",
    "                person_node = graph.nodes.match('PERSON',name=name,person_id=person_id).first()\n",
    "\n",
    "            manager_relation = rmatcher.match({person_node,stock_node},r_type='SERVED_IN',name='任职',title=title,title_class=title_class,\\\n",
    "                                            on_job=on_job,start_date=str(start_date),leave_date=str(leave_date)).first()\n",
    "\n",
    "            if manager_relation is None:\n",
    "\n",
    "                graph.create(Relationship(person_node,'SERVED_IN',stock_node,name='任职',title=title,title_class=title_class,\\\n",
    "                                                on_job=on_job,start_date=str(start_date),leave_date=str(leave_date)))\n",
    "                manager_relation = rmatcher.match({person_node,stock_node},r_type='SERVED_IN',name='任职',title=title,title_class=title_class,\\\n",
    "                                            on_job=on_job,start_date=str(start_date),leave_date=str(leave_date)).first()\n",
    "\n",
    "            #个人简历\n",
    "            if manager['resume'] is not None:\n",
    "                lac_result = lac.run(manager['resume'])\n",
    "                for org,tag in zip(*lac_result):\n",
    "                    if tag =='ORG':\n",
    "                        org_node = graph.nodes.match(name=org).first()\n",
    "                        if org_node is None:\n",
    "                            graph.create(Node('ORGANIZATION',name=org))\n",
    "                            org_node = graph.nodes.match('ORGANIZATION',name=org).first()\n",
    "\n",
    "                        org_relation = rmatcher.match({person_node,org_node},r_type='STAYED_IN',name='曾任职或学习机构').first()\n",
    "                        if org_relation is None:\n",
    "                            org_relation = Relationship(person_node,'STAYED_IN',org_node,name='曾任职或学习机构')\n",
    "                            graph.create(org_relation)\n",
    "\n",
    "        #十大股东\n",
    "        for index,share_holder in finance.run_query(query(finance.STK_SHAREHOLDER_TOP10).filter(finance.STK_SHAREHOLDER_TOP10.code==stock_code).\\\n",
    "                                  order_by(finance.STK_SHAREHOLDER_TOP10.pub_date.desc()).limit(10)).iterrows():\n",
    "            shareholder_name = share_holder['shareholder_name']\n",
    "            shareholder_rank = share_holder['shareholder_rank']\n",
    "            shareholder_class = share_holder['shareholder_class']\n",
    "            share_number = share_holder['share_number']\n",
    "            share_ratio = share_holder['share_ratio']\n",
    "            share_nature = share_holder['sharesnature']\n",
    "            shareholder_node = graph.nodes.match(name=shareholder_name).first()\n",
    "\n",
    "            if shareholder_node is None:\n",
    "                graph.create(Node('SHAREHOLDER',name=shareholder_name,shareholder_class=shareholder_class))\n",
    "                shareholder_node = graph.nodes.match('SHAREHOLDER',name=shareholder_name,shareholder_class=shareholder_class).first()\n",
    "\n",
    "            shareholder_relation = rmatcher.match({shareholder_node,stock_node},r_type='HOLD',name='持股',\\\n",
    "                                                  share_number=share_number,share_ratio=share_ratio).first()\n",
    "            if shareholder_relation is None:\n",
    "                shareholder_relation = Relationship(shareholder_node,'HOLD',stock_node,name='持股',\\\n",
    "                                                  share_number=share_number,share_ratio=share_ratio)\n",
    "                graph.create(shareholder_relation)\n",
    "\n",
    "        #十大流通股东\n",
    "        for index,share_holder in finance.run_query(query(finance.STK_SHAREHOLDER_FLOATING_TOP10).filter(finance.STK_SHAREHOLDER_FLOATING_TOP10.code==stock_code).\\\n",
    "                                  order_by(finance.STK_SHAREHOLDER_FLOATING_TOP10.pub_date.desc()).limit(10)).iterrows():\n",
    "            shareholder_name = share_holder['shareholder_name']\n",
    "            shareholder_rank = share_holder['shareholder_rank']\n",
    "            shareholder_class = share_holder['shareholder_class']\n",
    "            share_number = share_holder['share_number']\n",
    "            share_ratio = share_holder['share_ratio']\n",
    "            share_nature = share_holder['sharesnature']\n",
    "            shareholder_node = graph.nodes.match(name=shareholder_name).first()\n",
    "\n",
    "            if shareholder_node is None:\n",
    "                graph.create(Node('SHAREHOLDER',name=shareholder_name,shareholder_class=shareholder_class))\n",
    "                shareholder_node = graph.nodes.match('SHAREHOLDER',name=shareholder_name,shareholder_class=shareholder_class).first()\n",
    "\n",
    "            shareholder_relation = rmatcher.match({shareholder_node,stock_node},r_type='FLOAT_HOLD',name='流通股持股',\\\n",
    "                                                  share_number=share_number,share_ratio=share_ratio).first()\n",
    "            if shareholder_relation is None:\n",
    "                shareholder_relation = Relationship(shareholder_node,'FLOAT_HOLD',stock_node,name='流通股持股',\\\n",
    "                                                  share_number=share_number,share_ratio=share_ratio)\n",
    "                graph.create(shareholder_relation)\n",
    "    except Exception as e:\n",
    "        traceback.print_exc()\n",
    "        continue"
   ]
  },
  {
   "cell_type": "code",
   "execution_count": 147,
   "metadata": {},
   "outputs": [
    {
     "data": {
      "text/plain": [
       "(339, 45)"
      ]
     },
     "execution_count": 147,
     "metadata": {},
     "output_type": "execute_result"
    }
   ],
   "source": [
    "finance.run_query(query(finance.STK_COMPANY_INFO).filter(finance.STK_COMPANY_INFO.id>39345)).shape"
   ]
  },
  {
   "cell_type": "code",
   "execution_count": 134,
   "metadata": {},
   "outputs": [],
   "source": [
    "stock_node = Node('COMPANY',code='1111',name='英力特')"
   ]
  },
  {
   "cell_type": "code",
   "execution_count": 73,
   "metadata": {},
   "outputs": [
    {
     "data": {
      "text/plain": [
       "Node('COMPANY', code='1111', name='test')"
      ]
     },
     "execution_count": 73,
     "metadata": {},
     "output_type": "execute_result"
    }
   ],
   "source": [
    "stock_node"
   ]
  },
  {
   "cell_type": "code",
   "execution_count": 135,
   "metadata": {},
   "outputs": [],
   "source": [
    "graph.create(stock_node)"
   ]
  },
  {
   "cell_type": "code",
   "execution_count": 141,
   "metadata": {},
   "outputs": [],
   "source": [
    "graph.nodes.match(name='社保基金').first()"
   ]
  },
  {
   "cell_type": "code",
   "execution_count": 107,
   "metadata": {},
   "outputs": [],
   "source": [
    "org_node = graph.nodes.match('ORGANIZATION',name='顺德胜利织衣厂').first()\n",
    "person_node = graph.nodes.match('PERSON',name='何国英').first()"
   ]
  },
  {
   "cell_type": "code",
   "execution_count": 113,
   "metadata": {},
   "outputs": [],
   "source": [
    "org_relation = Relationship(person_node,'STAYED_IN',org_node,name='曾任职或学习机构')\n",
    "graph.create(org_relation)"
   ]
  },
  {
   "cell_type": "code",
   "execution_count": 115,
   "metadata": {},
   "outputs": [
    {
     "data": {
      "text/plain": [
       "STAYED_IN(Node('PERSON', birth_year='1962', gender='m', highest_degree='硕士及研究生', name='何国英', person_id=201301102), Node('ORGANIZATION', name='顺德胜利织衣厂'), name='曾任职或学习机构')"
      ]
     },
     "execution_count": 115,
     "metadata": {},
     "output_type": "execute_result"
    }
   ],
   "source": [
    "org_relation"
   ]
  },
  {
   "cell_type": "code",
   "execution_count": 114,
   "metadata": {},
   "outputs": [],
   "source": [
    "org_relation =rmatcher.match({person_node,org_node},r_type='STAYED_IN',name='曾任职或学习机构').first()"
   ]
  },
  {
   "cell_type": "code",
   "execution_count": 6,
   "metadata": {},
   "outputs": [
    {
     "data": {
      "text/html": [
       "<div>\n",
       "<style scoped>\n",
       "    .dataframe tbody tr th:only-of-type {\n",
       "        vertical-align: middle;\n",
       "    }\n",
       "\n",
       "    .dataframe tbody tr th {\n",
       "        vertical-align: top;\n",
       "    }\n",
       "\n",
       "    .dataframe thead th {\n",
       "        text-align: right;\n",
       "    }\n",
       "</style>\n",
       "<table border=\"1\" class=\"dataframe\">\n",
       "  <thead>\n",
       "    <tr style=\"text-align: right;\">\n",
       "      <th></th>\n",
       "      <th>id</th>\n",
       "      <th>code</th>\n",
       "      <th>period_start</th>\n",
       "      <th>period_end</th>\n",
       "      <th>pub_date</th>\n",
       "      <th>report_type_id</th>\n",
       "      <th>report_type</th>\n",
       "      <th>rank</th>\n",
       "      <th>symbol</th>\n",
       "      <th>name</th>\n",
       "      <th>shares</th>\n",
       "      <th>market_cap</th>\n",
       "      <th>proportion</th>\n",
       "    </tr>\n",
       "  </thead>\n",
       "  <tbody>\n",
       "    <tr>\n",
       "      <th>0</th>\n",
       "      <td>16128446</td>\n",
       "      <td>000001</td>\n",
       "      <td>2020-10-01</td>\n",
       "      <td>2020-12-31</td>\n",
       "      <td>2021-01-21</td>\n",
       "      <td>403004</td>\n",
       "      <td>第四季度</td>\n",
       "      <td>1</td>\n",
       "      <td>601318</td>\n",
       "      <td>中国平安</td>\n",
       "      <td>3337526.0</td>\n",
       "      <td>2.902980e+08</td>\n",
       "      <td>6.04</td>\n",
       "    </tr>\n",
       "    <tr>\n",
       "      <th>1</th>\n",
       "      <td>16128447</td>\n",
       "      <td>000001</td>\n",
       "      <td>2020-10-01</td>\n",
       "      <td>2020-12-31</td>\n",
       "      <td>2021-01-21</td>\n",
       "      <td>403004</td>\n",
       "      <td>第四季度</td>\n",
       "      <td>2</td>\n",
       "      <td>002127</td>\n",
       "      <td>南极电商</td>\n",
       "      <td>20744721.0</td>\n",
       "      <td>2.837878e+08</td>\n",
       "      <td>5.90</td>\n",
       "    </tr>\n",
       "    <tr>\n",
       "      <th>2</th>\n",
       "      <td>16128448</td>\n",
       "      <td>000001</td>\n",
       "      <td>2020-10-01</td>\n",
       "      <td>2020-12-31</td>\n",
       "      <td>2021-01-21</td>\n",
       "      <td>403004</td>\n",
       "      <td>第四季度</td>\n",
       "      <td>3</td>\n",
       "      <td>000961</td>\n",
       "      <td>中南建设</td>\n",
       "      <td>28897307.0</td>\n",
       "      <td>2.551632e+08</td>\n",
       "      <td>5.30</td>\n",
       "    </tr>\n",
       "    <tr>\n",
       "      <th>3</th>\n",
       "      <td>16128449</td>\n",
       "      <td>000001</td>\n",
       "      <td>2020-10-01</td>\n",
       "      <td>2020-12-31</td>\n",
       "      <td>2021-01-21</td>\n",
       "      <td>403004</td>\n",
       "      <td>第四季度</td>\n",
       "      <td>4</td>\n",
       "      <td>600519</td>\n",
       "      <td>贵州茅台</td>\n",
       "      <td>120575.0</td>\n",
       "      <td>2.409088e+08</td>\n",
       "      <td>5.01</td>\n",
       "    </tr>\n",
       "    <tr>\n",
       "      <th>4</th>\n",
       "      <td>16128450</td>\n",
       "      <td>000001</td>\n",
       "      <td>2020-10-01</td>\n",
       "      <td>2020-12-31</td>\n",
       "      <td>2021-01-21</td>\n",
       "      <td>403004</td>\n",
       "      <td>第四季度</td>\n",
       "      <td>5</td>\n",
       "      <td>002271</td>\n",
       "      <td>东方雨虹</td>\n",
       "      <td>5668427.0</td>\n",
       "      <td>2.199350e+08</td>\n",
       "      <td>4.57</td>\n",
       "    </tr>\n",
       "    <tr>\n",
       "      <th>5</th>\n",
       "      <td>16128451</td>\n",
       "      <td>000001</td>\n",
       "      <td>2020-10-01</td>\n",
       "      <td>2020-12-31</td>\n",
       "      <td>2021-01-21</td>\n",
       "      <td>403004</td>\n",
       "      <td>第四季度</td>\n",
       "      <td>6</td>\n",
       "      <td>600048</td>\n",
       "      <td>保利地产</td>\n",
       "      <td>13082848.0</td>\n",
       "      <td>2.069707e+08</td>\n",
       "      <td>4.30</td>\n",
       "    </tr>\n",
       "    <tr>\n",
       "      <th>6</th>\n",
       "      <td>16128452</td>\n",
       "      <td>000001</td>\n",
       "      <td>2020-10-01</td>\n",
       "      <td>2020-12-31</td>\n",
       "      <td>2021-01-21</td>\n",
       "      <td>403004</td>\n",
       "      <td>第四季度</td>\n",
       "      <td>7</td>\n",
       "      <td>000547</td>\n",
       "      <td>航天发展</td>\n",
       "      <td>7244851.0</td>\n",
       "      <td>1.992334e+08</td>\n",
       "      <td>4.14</td>\n",
       "    </tr>\n",
       "    <tr>\n",
       "      <th>7</th>\n",
       "      <td>16128453</td>\n",
       "      <td>000001</td>\n",
       "      <td>2020-10-01</td>\n",
       "      <td>2020-12-31</td>\n",
       "      <td>2021-01-21</td>\n",
       "      <td>403004</td>\n",
       "      <td>第四季度</td>\n",
       "      <td>8</td>\n",
       "      <td>002013</td>\n",
       "      <td>中航机电</td>\n",
       "      <td>15888113.0</td>\n",
       "      <td>1.819189e+08</td>\n",
       "      <td>3.78</td>\n",
       "    </tr>\n",
       "    <tr>\n",
       "      <th>8</th>\n",
       "      <td>16128454</td>\n",
       "      <td>000001</td>\n",
       "      <td>2020-10-01</td>\n",
       "      <td>2020-12-31</td>\n",
       "      <td>2021-01-21</td>\n",
       "      <td>403004</td>\n",
       "      <td>第四季度</td>\n",
       "      <td>9</td>\n",
       "      <td>000513</td>\n",
       "      <td>丽珠集团</td>\n",
       "      <td>3443820.0</td>\n",
       "      <td>1.394747e+08</td>\n",
       "      <td>2.90</td>\n",
       "    </tr>\n",
       "    <tr>\n",
       "      <th>9</th>\n",
       "      <td>16128455</td>\n",
       "      <td>000001</td>\n",
       "      <td>2020-10-01</td>\n",
       "      <td>2020-12-31</td>\n",
       "      <td>2021-01-21</td>\n",
       "      <td>403004</td>\n",
       "      <td>第四季度</td>\n",
       "      <td>10</td>\n",
       "      <td>000858</td>\n",
       "      <td>五粮液</td>\n",
       "      <td>470942.0</td>\n",
       "      <td>1.374444e+08</td>\n",
       "      <td>2.86</td>\n",
       "    </tr>\n",
       "    <tr>\n",
       "      <th>10</th>\n",
       "      <td>16062490</td>\n",
       "      <td>000001</td>\n",
       "      <td>2020-07-01</td>\n",
       "      <td>2020-09-30</td>\n",
       "      <td>2020-10-27</td>\n",
       "      <td>403003</td>\n",
       "      <td>第三季度</td>\n",
       "      <td>1</td>\n",
       "      <td>002127</td>\n",
       "      <td>南极电商</td>\n",
       "      <td>22673610.0</td>\n",
       "      <td>3.913465e+08</td>\n",
       "      <td>7.84</td>\n",
       "    </tr>\n",
       "    <tr>\n",
       "      <th>11</th>\n",
       "      <td>16062491</td>\n",
       "      <td>000001</td>\n",
       "      <td>2020-07-01</td>\n",
       "      <td>2020-09-30</td>\n",
       "      <td>2020-10-27</td>\n",
       "      <td>403003</td>\n",
       "      <td>第三季度</td>\n",
       "      <td>2</td>\n",
       "      <td>002013</td>\n",
       "      <td>中航机电</td>\n",
       "      <td>28100924.0</td>\n",
       "      <td>3.223176e+08</td>\n",
       "      <td>6.45</td>\n",
       "    </tr>\n",
       "    <tr>\n",
       "      <th>12</th>\n",
       "      <td>16062492</td>\n",
       "      <td>000001</td>\n",
       "      <td>2020-07-01</td>\n",
       "      <td>2020-09-30</td>\n",
       "      <td>2020-10-27</td>\n",
       "      <td>403003</td>\n",
       "      <td>第三季度</td>\n",
       "      <td>3</td>\n",
       "      <td>601318</td>\n",
       "      <td>中国平安</td>\n",
       "      <td>3196526.0</td>\n",
       "      <td>2.437671e+08</td>\n",
       "      <td>4.88</td>\n",
       "    </tr>\n",
       "    <tr>\n",
       "      <th>13</th>\n",
       "      <td>16062493</td>\n",
       "      <td>000001</td>\n",
       "      <td>2020-07-01</td>\n",
       "      <td>2020-09-30</td>\n",
       "      <td>2020-10-27</td>\n",
       "      <td>403003</td>\n",
       "      <td>第三季度</td>\n",
       "      <td>4</td>\n",
       "      <td>002271</td>\n",
       "      <td>东方雨虹</td>\n",
       "      <td>4069693.0</td>\n",
       "      <td>2.193565e+08</td>\n",
       "      <td>4.39</td>\n",
       "    </tr>\n",
       "    <tr>\n",
       "      <th>14</th>\n",
       "      <td>16062494</td>\n",
       "      <td>000001</td>\n",
       "      <td>2020-07-01</td>\n",
       "      <td>2020-09-30</td>\n",
       "      <td>2020-10-27</td>\n",
       "      <td>403003</td>\n",
       "      <td>第三季度</td>\n",
       "      <td>5</td>\n",
       "      <td>300142</td>\n",
       "      <td>沃森生物</td>\n",
       "      <td>3751761.0</td>\n",
       "      <td>1.908896e+08</td>\n",
       "      <td>3.82</td>\n",
       "    </tr>\n",
       "    <tr>\n",
       "      <th>15</th>\n",
       "      <td>16062495</td>\n",
       "      <td>000001</td>\n",
       "      <td>2020-07-01</td>\n",
       "      <td>2020-09-30</td>\n",
       "      <td>2020-10-27</td>\n",
       "      <td>403003</td>\n",
       "      <td>第三季度</td>\n",
       "      <td>6</td>\n",
       "      <td>600519</td>\n",
       "      <td>贵州茅台</td>\n",
       "      <td>111475.0</td>\n",
       "      <td>1.859960e+08</td>\n",
       "      <td>3.72</td>\n",
       "    </tr>\n",
       "    <tr>\n",
       "      <th>16</th>\n",
       "      <td>16062496</td>\n",
       "      <td>000001</td>\n",
       "      <td>2020-07-01</td>\n",
       "      <td>2020-09-30</td>\n",
       "      <td>2020-10-27</td>\n",
       "      <td>403003</td>\n",
       "      <td>第三季度</td>\n",
       "      <td>7</td>\n",
       "      <td>000513</td>\n",
       "      <td>丽珠集团</td>\n",
       "      <td>3443820.0</td>\n",
       "      <td>1.694704e+08</td>\n",
       "      <td>3.39</td>\n",
       "    </tr>\n",
       "    <tr>\n",
       "      <th>17</th>\n",
       "      <td>16062497</td>\n",
       "      <td>000001</td>\n",
       "      <td>2020-07-01</td>\n",
       "      <td>2020-09-30</td>\n",
       "      <td>2020-10-27</td>\n",
       "      <td>403003</td>\n",
       "      <td>第三季度</td>\n",
       "      <td>8</td>\n",
       "      <td>002475</td>\n",
       "      <td>立讯精密</td>\n",
       "      <td>2773748.0</td>\n",
       "      <td>1.584642e+08</td>\n",
       "      <td>3.17</td>\n",
       "    </tr>\n",
       "    <tr>\n",
       "      <th>18</th>\n",
       "      <td>16062498</td>\n",
       "      <td>000001</td>\n",
       "      <td>2020-07-01</td>\n",
       "      <td>2020-09-30</td>\n",
       "      <td>2020-10-27</td>\n",
       "      <td>403003</td>\n",
       "      <td>第三季度</td>\n",
       "      <td>9</td>\n",
       "      <td>000858</td>\n",
       "      <td>五粮液</td>\n",
       "      <td>710101.0</td>\n",
       "      <td>1.569323e+08</td>\n",
       "      <td>3.14</td>\n",
       "    </tr>\n",
       "    <tr>\n",
       "      <th>19</th>\n",
       "      <td>16062499</td>\n",
       "      <td>000001</td>\n",
       "      <td>2020-07-01</td>\n",
       "      <td>2020-09-30</td>\n",
       "      <td>2020-10-27</td>\n",
       "      <td>403003</td>\n",
       "      <td>第三季度</td>\n",
       "      <td>10</td>\n",
       "      <td>002444</td>\n",
       "      <td>巨星科技</td>\n",
       "      <td>6576890.0</td>\n",
       "      <td>1.300909e+08</td>\n",
       "      <td>2.60</td>\n",
       "    </tr>\n",
       "    <tr>\n",
       "      <th>20</th>\n",
       "      <td>15612889</td>\n",
       "      <td>000001</td>\n",
       "      <td>2020-01-01</td>\n",
       "      <td>2020-06-30</td>\n",
       "      <td>2020-08-29</td>\n",
       "      <td>403005</td>\n",
       "      <td>半年度</td>\n",
       "      <td>1</td>\n",
       "      <td>002127</td>\n",
       "      <td>南极电商</td>\n",
       "      <td>19077907.0</td>\n",
       "      <td>4.038793e+08</td>\n",
       "      <td>7.99</td>\n",
       "    </tr>\n",
       "    <tr>\n",
       "      <th>21</th>\n",
       "      <td>15612890</td>\n",
       "      <td>000001</td>\n",
       "      <td>2020-01-01</td>\n",
       "      <td>2020-06-30</td>\n",
       "      <td>2020-08-29</td>\n",
       "      <td>403005</td>\n",
       "      <td>半年度</td>\n",
       "      <td>2</td>\n",
       "      <td>002384</td>\n",
       "      <td>东山精密</td>\n",
       "      <td>9291038.0</td>\n",
       "      <td>2.782666e+08</td>\n",
       "      <td>5.50</td>\n",
       "    </tr>\n",
       "    <tr>\n",
       "      <th>22</th>\n",
       "      <td>15612891</td>\n",
       "      <td>000001</td>\n",
       "      <td>2020-01-01</td>\n",
       "      <td>2020-06-30</td>\n",
       "      <td>2020-08-29</td>\n",
       "      <td>403005</td>\n",
       "      <td>半年度</td>\n",
       "      <td>3</td>\n",
       "      <td>002475</td>\n",
       "      <td>立讯精密</td>\n",
       "      <td>4504717.0</td>\n",
       "      <td>2.313172e+08</td>\n",
       "      <td>4.58</td>\n",
       "    </tr>\n",
       "    <tr>\n",
       "      <th>23</th>\n",
       "      <td>15612892</td>\n",
       "      <td>000001</td>\n",
       "      <td>2020-01-01</td>\n",
       "      <td>2020-06-30</td>\n",
       "      <td>2020-08-29</td>\n",
       "      <td>403005</td>\n",
       "      <td>半年度</td>\n",
       "      <td>4</td>\n",
       "      <td>002271</td>\n",
       "      <td>东方雨虹</td>\n",
       "      <td>5485183.0</td>\n",
       "      <td>2.228630e+08</td>\n",
       "      <td>4.41</td>\n",
       "    </tr>\n",
       "    <tr>\n",
       "      <th>24</th>\n",
       "      <td>15612893</td>\n",
       "      <td>000001</td>\n",
       "      <td>2020-01-01</td>\n",
       "      <td>2020-06-30</td>\n",
       "      <td>2020-08-29</td>\n",
       "      <td>403005</td>\n",
       "      <td>半年度</td>\n",
       "      <td>5</td>\n",
       "      <td>300142</td>\n",
       "      <td>沃森生物</td>\n",
       "      <td>4031112.0</td>\n",
       "      <td>2.110690e+08</td>\n",
       "      <td>4.18</td>\n",
       "    </tr>\n",
       "    <tr>\n",
       "      <th>25</th>\n",
       "      <td>15612894</td>\n",
       "      <td>000001</td>\n",
       "      <td>2020-01-01</td>\n",
       "      <td>2020-06-30</td>\n",
       "      <td>2020-08-29</td>\n",
       "      <td>403005</td>\n",
       "      <td>半年度</td>\n",
       "      <td>6</td>\n",
       "      <td>000975</td>\n",
       "      <td>银泰黄金</td>\n",
       "      <td>11883882.0</td>\n",
       "      <td>1.863393e+08</td>\n",
       "      <td>3.69</td>\n",
       "    </tr>\n",
       "    <tr>\n",
       "      <th>26</th>\n",
       "      <td>15612895</td>\n",
       "      <td>000001</td>\n",
       "      <td>2020-01-01</td>\n",
       "      <td>2020-06-30</td>\n",
       "      <td>2020-08-29</td>\n",
       "      <td>403005</td>\n",
       "      <td>半年度</td>\n",
       "      <td>7</td>\n",
       "      <td>000858</td>\n",
       "      <td>五粮液</td>\n",
       "      <td>935901.0</td>\n",
       "      <td>1.601514e+08</td>\n",
       "      <td>3.17</td>\n",
       "    </tr>\n",
       "    <tr>\n",
       "      <th>27</th>\n",
       "      <td>15612896</td>\n",
       "      <td>000001</td>\n",
       "      <td>2020-01-01</td>\n",
       "      <td>2020-06-30</td>\n",
       "      <td>2020-08-29</td>\n",
       "      <td>403005</td>\n",
       "      <td>半年度</td>\n",
       "      <td>8</td>\n",
       "      <td>300253</td>\n",
       "      <td>卫宁健康</td>\n",
       "      <td>6670472.0</td>\n",
       "      <td>1.530206e+08</td>\n",
       "      <td>3.03</td>\n",
       "    </tr>\n",
       "    <tr>\n",
       "      <th>28</th>\n",
       "      <td>15612897</td>\n",
       "      <td>000001</td>\n",
       "      <td>2020-01-01</td>\n",
       "      <td>2020-06-30</td>\n",
       "      <td>2020-08-29</td>\n",
       "      <td>403005</td>\n",
       "      <td>半年度</td>\n",
       "      <td>9</td>\n",
       "      <td>300750</td>\n",
       "      <td>宁德时代</td>\n",
       "      <td>864736.0</td>\n",
       "      <td>1.507754e+08</td>\n",
       "      <td>2.98</td>\n",
       "    </tr>\n",
       "    <tr>\n",
       "      <th>29</th>\n",
       "      <td>15612898</td>\n",
       "      <td>000001</td>\n",
       "      <td>2020-01-01</td>\n",
       "      <td>2020-06-30</td>\n",
       "      <td>2020-08-29</td>\n",
       "      <td>403005</td>\n",
       "      <td>半年度</td>\n",
       "      <td>10</td>\n",
       "      <td>000547</td>\n",
       "      <td>航天发展</td>\n",
       "      <td>10415616.0</td>\n",
       "      <td>1.423815e+08</td>\n",
       "      <td>2.82</td>\n",
       "    </tr>\n",
       "    <tr>\n",
       "      <th>30</th>\n",
       "      <td>15612899</td>\n",
       "      <td>000001</td>\n",
       "      <td>2020-01-01</td>\n",
       "      <td>2020-06-30</td>\n",
       "      <td>2020-08-29</td>\n",
       "      <td>403005</td>\n",
       "      <td>半年度</td>\n",
       "      <td>11</td>\n",
       "      <td>603806</td>\n",
       "      <td>福斯特</td>\n",
       "      <td>2693182.0</td>\n",
       "      <td>1.344167e+08</td>\n",
       "      <td>2.66</td>\n",
       "    </tr>\n",
       "    <tr>\n",
       "      <th>31</th>\n",
       "      <td>15612900</td>\n",
       "      <td>000001</td>\n",
       "      <td>2020-01-01</td>\n",
       "      <td>2020-06-30</td>\n",
       "      <td>2020-08-29</td>\n",
       "      <td>403005</td>\n",
       "      <td>半年度</td>\n",
       "      <td>12</td>\n",
       "      <td>600988</td>\n",
       "      <td>赤峰黄金</td>\n",
       "      <td>10776640.0</td>\n",
       "      <td>1.282420e+08</td>\n",
       "      <td>2.54</td>\n",
       "    </tr>\n",
       "    <tr>\n",
       "      <th>32</th>\n",
       "      <td>15612901</td>\n",
       "      <td>000001</td>\n",
       "      <td>2020-01-01</td>\n",
       "      <td>2020-06-30</td>\n",
       "      <td>2020-08-29</td>\n",
       "      <td>403005</td>\n",
       "      <td>半年度</td>\n",
       "      <td>13</td>\n",
       "      <td>300010</td>\n",
       "      <td>豆神教育</td>\n",
       "      <td>6326796.0</td>\n",
       "      <td>1.238154e+08</td>\n",
       "      <td>2.45</td>\n",
       "    </tr>\n",
       "    <tr>\n",
       "      <th>33</th>\n",
       "      <td>15612902</td>\n",
       "      <td>000001</td>\n",
       "      <td>2020-01-01</td>\n",
       "      <td>2020-06-30</td>\n",
       "      <td>2020-08-29</td>\n",
       "      <td>403005</td>\n",
       "      <td>半年度</td>\n",
       "      <td>14</td>\n",
       "      <td>300760</td>\n",
       "      <td>迈瑞医疗</td>\n",
       "      <td>403276.0</td>\n",
       "      <td>1.232815e+08</td>\n",
       "      <td>2.44</td>\n",
       "    </tr>\n",
       "    <tr>\n",
       "      <th>34</th>\n",
       "      <td>15612903</td>\n",
       "      <td>000001</td>\n",
       "      <td>2020-01-01</td>\n",
       "      <td>2020-06-30</td>\n",
       "      <td>2020-08-29</td>\n",
       "      <td>403005</td>\n",
       "      <td>半年度</td>\n",
       "      <td>15</td>\n",
       "      <td>000725</td>\n",
       "      <td>京东方A</td>\n",
       "      <td>20703100.0</td>\n",
       "      <td>9.668348e+07</td>\n",
       "      <td>1.91</td>\n",
       "    </tr>\n",
       "    <tr>\n",
       "      <th>35</th>\n",
       "      <td>15612904</td>\n",
       "      <td>000001</td>\n",
       "      <td>2020-01-01</td>\n",
       "      <td>2020-06-30</td>\n",
       "      <td>2020-08-29</td>\n",
       "      <td>403005</td>\n",
       "      <td>半年度</td>\n",
       "      <td>16</td>\n",
       "      <td>002241</td>\n",
       "      <td>歌尔股份</td>\n",
       "      <td>2796980.0</td>\n",
       "      <td>8.211933e+07</td>\n",
       "      <td>1.62</td>\n",
       "    </tr>\n",
       "    <tr>\n",
       "      <th>36</th>\n",
       "      <td>15612905</td>\n",
       "      <td>000001</td>\n",
       "      <td>2020-01-01</td>\n",
       "      <td>2020-06-30</td>\n",
       "      <td>2020-08-29</td>\n",
       "      <td>403005</td>\n",
       "      <td>半年度</td>\n",
       "      <td>17</td>\n",
       "      <td>600167</td>\n",
       "      <td>联美控股</td>\n",
       "      <td>5238544.0</td>\n",
       "      <td>7.512072e+07</td>\n",
       "      <td>1.49</td>\n",
       "    </tr>\n",
       "    <tr>\n",
       "      <th>37</th>\n",
       "      <td>15612906</td>\n",
       "      <td>000001</td>\n",
       "      <td>2020-01-01</td>\n",
       "      <td>2020-06-30</td>\n",
       "      <td>2020-08-29</td>\n",
       "      <td>403005</td>\n",
       "      <td>半年度</td>\n",
       "      <td>18</td>\n",
       "      <td>603259</td>\n",
       "      <td>药明康德</td>\n",
       "      <td>734144.0</td>\n",
       "      <td>7.091831e+07</td>\n",
       "      <td>1.40</td>\n",
       "    </tr>\n",
       "    <tr>\n",
       "      <th>38</th>\n",
       "      <td>15612907</td>\n",
       "      <td>000001</td>\n",
       "      <td>2020-01-01</td>\n",
       "      <td>2020-06-30</td>\n",
       "      <td>2020-08-29</td>\n",
       "      <td>403005</td>\n",
       "      <td>半年度</td>\n",
       "      <td>19</td>\n",
       "      <td>600519</td>\n",
       "      <td>贵州茅台</td>\n",
       "      <td>36226.0</td>\n",
       "      <td>5.299429e+07</td>\n",
       "      <td>1.05</td>\n",
       "    </tr>\n",
       "    <tr>\n",
       "      <th>39</th>\n",
       "      <td>15612908</td>\n",
       "      <td>000001</td>\n",
       "      <td>2020-01-01</td>\n",
       "      <td>2020-06-30</td>\n",
       "      <td>2020-08-29</td>\n",
       "      <td>403005</td>\n",
       "      <td>半年度</td>\n",
       "      <td>20</td>\n",
       "      <td>300012</td>\n",
       "      <td>华测检测</td>\n",
       "      <td>2644501.0</td>\n",
       "      <td>5.225534e+07</td>\n",
       "      <td>1.03</td>\n",
       "    </tr>\n",
       "  </tbody>\n",
       "</table>\n",
       "</div>"
      ],
      "text/plain": [
       "          id    code period_start  period_end    pub_date  report_type_id  \\\n",
       "0   16128446  000001   2020-10-01  2020-12-31  2021-01-21          403004   \n",
       "1   16128447  000001   2020-10-01  2020-12-31  2021-01-21          403004   \n",
       "2   16128448  000001   2020-10-01  2020-12-31  2021-01-21          403004   \n",
       "3   16128449  000001   2020-10-01  2020-12-31  2021-01-21          403004   \n",
       "4   16128450  000001   2020-10-01  2020-12-31  2021-01-21          403004   \n",
       "5   16128451  000001   2020-10-01  2020-12-31  2021-01-21          403004   \n",
       "6   16128452  000001   2020-10-01  2020-12-31  2021-01-21          403004   \n",
       "7   16128453  000001   2020-10-01  2020-12-31  2021-01-21          403004   \n",
       "8   16128454  000001   2020-10-01  2020-12-31  2021-01-21          403004   \n",
       "9   16128455  000001   2020-10-01  2020-12-31  2021-01-21          403004   \n",
       "10  16062490  000001   2020-07-01  2020-09-30  2020-10-27          403003   \n",
       "11  16062491  000001   2020-07-01  2020-09-30  2020-10-27          403003   \n",
       "12  16062492  000001   2020-07-01  2020-09-30  2020-10-27          403003   \n",
       "13  16062493  000001   2020-07-01  2020-09-30  2020-10-27          403003   \n",
       "14  16062494  000001   2020-07-01  2020-09-30  2020-10-27          403003   \n",
       "15  16062495  000001   2020-07-01  2020-09-30  2020-10-27          403003   \n",
       "16  16062496  000001   2020-07-01  2020-09-30  2020-10-27          403003   \n",
       "17  16062497  000001   2020-07-01  2020-09-30  2020-10-27          403003   \n",
       "18  16062498  000001   2020-07-01  2020-09-30  2020-10-27          403003   \n",
       "19  16062499  000001   2020-07-01  2020-09-30  2020-10-27          403003   \n",
       "20  15612889  000001   2020-01-01  2020-06-30  2020-08-29          403005   \n",
       "21  15612890  000001   2020-01-01  2020-06-30  2020-08-29          403005   \n",
       "22  15612891  000001   2020-01-01  2020-06-30  2020-08-29          403005   \n",
       "23  15612892  000001   2020-01-01  2020-06-30  2020-08-29          403005   \n",
       "24  15612893  000001   2020-01-01  2020-06-30  2020-08-29          403005   \n",
       "25  15612894  000001   2020-01-01  2020-06-30  2020-08-29          403005   \n",
       "26  15612895  000001   2020-01-01  2020-06-30  2020-08-29          403005   \n",
       "27  15612896  000001   2020-01-01  2020-06-30  2020-08-29          403005   \n",
       "28  15612897  000001   2020-01-01  2020-06-30  2020-08-29          403005   \n",
       "29  15612898  000001   2020-01-01  2020-06-30  2020-08-29          403005   \n",
       "30  15612899  000001   2020-01-01  2020-06-30  2020-08-29          403005   \n",
       "31  15612900  000001   2020-01-01  2020-06-30  2020-08-29          403005   \n",
       "32  15612901  000001   2020-01-01  2020-06-30  2020-08-29          403005   \n",
       "33  15612902  000001   2020-01-01  2020-06-30  2020-08-29          403005   \n",
       "34  15612903  000001   2020-01-01  2020-06-30  2020-08-29          403005   \n",
       "35  15612904  000001   2020-01-01  2020-06-30  2020-08-29          403005   \n",
       "36  15612905  000001   2020-01-01  2020-06-30  2020-08-29          403005   \n",
       "37  15612906  000001   2020-01-01  2020-06-30  2020-08-29          403005   \n",
       "38  15612907  000001   2020-01-01  2020-06-30  2020-08-29          403005   \n",
       "39  15612908  000001   2020-01-01  2020-06-30  2020-08-29          403005   \n",
       "\n",
       "   report_type  rank  symbol  name      shares    market_cap  proportion  \n",
       "0         第四季度     1  601318  中国平安   3337526.0  2.902980e+08        6.04  \n",
       "1         第四季度     2  002127  南极电商  20744721.0  2.837878e+08        5.90  \n",
       "2         第四季度     3  000961  中南建设  28897307.0  2.551632e+08        5.30  \n",
       "3         第四季度     4  600519  贵州茅台    120575.0  2.409088e+08        5.01  \n",
       "4         第四季度     5  002271  东方雨虹   5668427.0  2.199350e+08        4.57  \n",
       "5         第四季度     6  600048  保利地产  13082848.0  2.069707e+08        4.30  \n",
       "6         第四季度     7  000547  航天发展   7244851.0  1.992334e+08        4.14  \n",
       "7         第四季度     8  002013  中航机电  15888113.0  1.819189e+08        3.78  \n",
       "8         第四季度     9  000513  丽珠集团   3443820.0  1.394747e+08        2.90  \n",
       "9         第四季度    10  000858   五粮液    470942.0  1.374444e+08        2.86  \n",
       "10        第三季度     1  002127  南极电商  22673610.0  3.913465e+08        7.84  \n",
       "11        第三季度     2  002013  中航机电  28100924.0  3.223176e+08        6.45  \n",
       "12        第三季度     3  601318  中国平安   3196526.0  2.437671e+08        4.88  \n",
       "13        第三季度     4  002271  东方雨虹   4069693.0  2.193565e+08        4.39  \n",
       "14        第三季度     5  300142  沃森生物   3751761.0  1.908896e+08        3.82  \n",
       "15        第三季度     6  600519  贵州茅台    111475.0  1.859960e+08        3.72  \n",
       "16        第三季度     7  000513  丽珠集团   3443820.0  1.694704e+08        3.39  \n",
       "17        第三季度     8  002475  立讯精密   2773748.0  1.584642e+08        3.17  \n",
       "18        第三季度     9  000858   五粮液    710101.0  1.569323e+08        3.14  \n",
       "19        第三季度    10  002444  巨星科技   6576890.0  1.300909e+08        2.60  \n",
       "20         半年度     1  002127  南极电商  19077907.0  4.038793e+08        7.99  \n",
       "21         半年度     2  002384  东山精密   9291038.0  2.782666e+08        5.50  \n",
       "22         半年度     3  002475  立讯精密   4504717.0  2.313172e+08        4.58  \n",
       "23         半年度     4  002271  东方雨虹   5485183.0  2.228630e+08        4.41  \n",
       "24         半年度     5  300142  沃森生物   4031112.0  2.110690e+08        4.18  \n",
       "25         半年度     6  000975  银泰黄金  11883882.0  1.863393e+08        3.69  \n",
       "26         半年度     7  000858   五粮液    935901.0  1.601514e+08        3.17  \n",
       "27         半年度     8  300253  卫宁健康   6670472.0  1.530206e+08        3.03  \n",
       "28         半年度     9  300750  宁德时代    864736.0  1.507754e+08        2.98  \n",
       "29         半年度    10  000547  航天发展  10415616.0  1.423815e+08        2.82  \n",
       "30         半年度    11  603806   福斯特   2693182.0  1.344167e+08        2.66  \n",
       "31         半年度    12  600988  赤峰黄金  10776640.0  1.282420e+08        2.54  \n",
       "32         半年度    13  300010  豆神教育   6326796.0  1.238154e+08        2.45  \n",
       "33         半年度    14  300760  迈瑞医疗    403276.0  1.232815e+08        2.44  \n",
       "34         半年度    15  000725  京东方A  20703100.0  9.668348e+07        1.91  \n",
       "35         半年度    16  002241  歌尔股份   2796980.0  8.211933e+07        1.62  \n",
       "36         半年度    17  600167  联美控股   5238544.0  7.512072e+07        1.49  \n",
       "37         半年度    18  603259  药明康德    734144.0  7.091831e+07        1.40  \n",
       "38         半年度    19  600519  贵州茅台     36226.0  5.299429e+07        1.05  \n",
       "39         半年度    20  300012  华测检测   2644501.0  5.225534e+07        1.03  "
      ]
     },
     "execution_count": 6,
     "metadata": {},
     "output_type": "execute_result"
    }
   ],
   "source": [
    "finance.run_query(query(finance.FUND_PORTFOLIO_STOCK).filter(finance.FUND_PORTFOLIO_STOCK.code==\"000002\").\\\n",
    "order_by(finance.FUND_PORTFOLIO_STOCK.pub_date.desc()).limit(40))"
   ]
  },
  {
   "cell_type": "code",
   "execution_count": 7,
   "metadata": {},
   "outputs": [
    {
     "data": {
      "text/html": [
       "<div>\n",
       "<style scoped>\n",
       "    .dataframe tbody tr th:only-of-type {\n",
       "        vertical-align: middle;\n",
       "    }\n",
       "\n",
       "    .dataframe tbody tr th {\n",
       "        vertical-align: top;\n",
       "    }\n",
       "\n",
       "    .dataframe thead th {\n",
       "        text-align: right;\n",
       "    }\n",
       "</style>\n",
       "<table border=\"1\" class=\"dataframe\">\n",
       "  <thead>\n",
       "    <tr style=\"text-align: right;\">\n",
       "      <th></th>\n",
       "      <th>id</th>\n",
       "      <th>main_code</th>\n",
       "      <th>name</th>\n",
       "      <th>advisor</th>\n",
       "      <th>trustee</th>\n",
       "      <th>operate_mode_id</th>\n",
       "      <th>operate_mode</th>\n",
       "      <th>underlying_asset_type_id</th>\n",
       "      <th>underlying_asset_type</th>\n",
       "      <th>start_date</th>\n",
       "      <th>end_date</th>\n",
       "    </tr>\n",
       "  </thead>\n",
       "  <tbody>\n",
       "    <tr>\n",
       "      <th>0</th>\n",
       "      <td>1</td>\n",
       "      <td>000001</td>\n",
       "      <td>华夏成长</td>\n",
       "      <td>华夏基金管理有限公司</td>\n",
       "      <td>中国建设银行股份有限公司</td>\n",
       "      <td>401001</td>\n",
       "      <td>开放式基金</td>\n",
       "      <td>402004</td>\n",
       "      <td>混合型</td>\n",
       "      <td>2001-12-18</td>\n",
       "      <td>None</td>\n",
       "    </tr>\n",
       "    <tr>\n",
       "      <th>1</th>\n",
       "      <td>2</td>\n",
       "      <td>000003</td>\n",
       "      <td>中海可转债债券</td>\n",
       "      <td>中海基金管理有限公司</td>\n",
       "      <td>中国农业银行股份有限公司</td>\n",
       "      <td>401001</td>\n",
       "      <td>开放式基金</td>\n",
       "      <td>402003</td>\n",
       "      <td>债券型</td>\n",
       "      <td>2013-03-20</td>\n",
       "      <td>None</td>\n",
       "    </tr>\n",
       "    <tr>\n",
       "      <th>2</th>\n",
       "      <td>3</td>\n",
       "      <td>000005</td>\n",
       "      <td>嘉实增强信用</td>\n",
       "      <td>嘉实基金管理有限公司</td>\n",
       "      <td>中国工商银行股份有限公司</td>\n",
       "      <td>401001</td>\n",
       "      <td>开放式基金</td>\n",
       "      <td>402003</td>\n",
       "      <td>债券型</td>\n",
       "      <td>2013-03-08</td>\n",
       "      <td>None</td>\n",
       "    </tr>\n",
       "    <tr>\n",
       "      <th>3</th>\n",
       "      <td>4</td>\n",
       "      <td>000007</td>\n",
       "      <td>鹏华国企债</td>\n",
       "      <td>鹏华基金管理有限公司</td>\n",
       "      <td>中国工商银行股份有限公司</td>\n",
       "      <td>401001</td>\n",
       "      <td>开放式基金</td>\n",
       "      <td>402003</td>\n",
       "      <td>债券型</td>\n",
       "      <td>2013-03-08</td>\n",
       "      <td>2018-08-08</td>\n",
       "    </tr>\n",
       "    <tr>\n",
       "      <th>4</th>\n",
       "      <td>5</td>\n",
       "      <td>000008</td>\n",
       "      <td>嘉实中证500ETF联接</td>\n",
       "      <td>嘉实基金管理有限公司</td>\n",
       "      <td>中国建设银行股份有限公司</td>\n",
       "      <td>401001</td>\n",
       "      <td>开放式基金</td>\n",
       "      <td>402005</td>\n",
       "      <td>基金型</td>\n",
       "      <td>2013-03-22</td>\n",
       "      <td>None</td>\n",
       "    </tr>\n",
       "    <tr>\n",
       "      <th>...</th>\n",
       "      <td>...</td>\n",
       "      <td>...</td>\n",
       "      <td>...</td>\n",
       "      <td>...</td>\n",
       "      <td>...</td>\n",
       "      <td>...</td>\n",
       "      <td>...</td>\n",
       "      <td>...</td>\n",
       "      <td>...</td>\n",
       "      <td>...</td>\n",
       "      <td>...</td>\n",
       "    </tr>\n",
       "    <tr>\n",
       "      <th>4995</th>\n",
       "      <td>4996</td>\n",
       "      <td>150053</td>\n",
       "      <td>泰达500A</td>\n",
       "      <td>泰达宏利基金管理有限公司</td>\n",
       "      <td>中国银行股份有限公司</td>\n",
       "      <td>401002</td>\n",
       "      <td>封闭式基金</td>\n",
       "      <td>402001</td>\n",
       "      <td>股票型</td>\n",
       "      <td>2011-12-01</td>\n",
       "      <td>2019-11-06</td>\n",
       "    </tr>\n",
       "    <tr>\n",
       "      <th>4996</th>\n",
       "      <td>4997</td>\n",
       "      <td>150055</td>\n",
       "      <td>500A</td>\n",
       "      <td>工银瑞信基金管理有限公司</td>\n",
       "      <td>中国银行股份有限公司</td>\n",
       "      <td>401002</td>\n",
       "      <td>封闭式基金</td>\n",
       "      <td>402001</td>\n",
       "      <td>股票型</td>\n",
       "      <td>2012-01-31</td>\n",
       "      <td>2020-02-17</td>\n",
       "    </tr>\n",
       "    <tr>\n",
       "      <th>4997</th>\n",
       "      <td>4998</td>\n",
       "      <td>150057</td>\n",
       "      <td>中小300A</td>\n",
       "      <td>长城基金管理有限公司</td>\n",
       "      <td>中国建设银行股份有限公司</td>\n",
       "      <td>401002</td>\n",
       "      <td>封闭式基金</td>\n",
       "      <td>402001</td>\n",
       "      <td>股票型</td>\n",
       "      <td>2012-01-30</td>\n",
       "      <td>2018-08-13</td>\n",
       "    </tr>\n",
       "    <tr>\n",
       "      <th>4998</th>\n",
       "      <td>4999</td>\n",
       "      <td>150059</td>\n",
       "      <td>资源A级</td>\n",
       "      <td>银华基金管理股份有限公司</td>\n",
       "      <td>中国银行股份有限公司</td>\n",
       "      <td>401002</td>\n",
       "      <td>封闭式基金</td>\n",
       "      <td>402001</td>\n",
       "      <td>股票型</td>\n",
       "      <td>2011-12-08</td>\n",
       "      <td>2020-09-30</td>\n",
       "    </tr>\n",
       "    <tr>\n",
       "      <th>4999</th>\n",
       "      <td>5000</td>\n",
       "      <td>150064</td>\n",
       "      <td>同瑞A</td>\n",
       "      <td>长盛基金管理有限公司</td>\n",
       "      <td>中国农业银行股份有限公司</td>\n",
       "      <td>401002</td>\n",
       "      <td>封闭式基金</td>\n",
       "      <td>402001</td>\n",
       "      <td>股票型</td>\n",
       "      <td>2011-12-06</td>\n",
       "      <td>2020-08-19</td>\n",
       "    </tr>\n",
       "  </tbody>\n",
       "</table>\n",
       "<p>5000 rows × 11 columns</p>\n",
       "</div>"
      ],
      "text/plain": [
       "        id main_code          name       advisor       trustee  \\\n",
       "0        1    000001          华夏成长    华夏基金管理有限公司  中国建设银行股份有限公司   \n",
       "1        2    000003       中海可转债债券    中海基金管理有限公司  中国农业银行股份有限公司   \n",
       "2        3    000005        嘉实增强信用    嘉实基金管理有限公司  中国工商银行股份有限公司   \n",
       "3        4    000007         鹏华国企债    鹏华基金管理有限公司  中国工商银行股份有限公司   \n",
       "4        5    000008  嘉实中证500ETF联接    嘉实基金管理有限公司  中国建设银行股份有限公司   \n",
       "...    ...       ...           ...           ...           ...   \n",
       "4995  4996    150053        泰达500A  泰达宏利基金管理有限公司    中国银行股份有限公司   \n",
       "4996  4997    150055          500A  工银瑞信基金管理有限公司    中国银行股份有限公司   \n",
       "4997  4998    150057        中小300A    长城基金管理有限公司  中国建设银行股份有限公司   \n",
       "4998  4999    150059          资源A级  银华基金管理股份有限公司    中国银行股份有限公司   \n",
       "4999  5000    150064           同瑞A    长盛基金管理有限公司  中国农业银行股份有限公司   \n",
       "\n",
       "      operate_mode_id operate_mode  underlying_asset_type_id  \\\n",
       "0              401001        开放式基金                    402004   \n",
       "1              401001        开放式基金                    402003   \n",
       "2              401001        开放式基金                    402003   \n",
       "3              401001        开放式基金                    402003   \n",
       "4              401001        开放式基金                    402005   \n",
       "...               ...          ...                       ...   \n",
       "4995           401002        封闭式基金                    402001   \n",
       "4996           401002        封闭式基金                    402001   \n",
       "4997           401002        封闭式基金                    402001   \n",
       "4998           401002        封闭式基金                    402001   \n",
       "4999           401002        封闭式基金                    402001   \n",
       "\n",
       "     underlying_asset_type  start_date    end_date  \n",
       "0                      混合型  2001-12-18        None  \n",
       "1                      债券型  2013-03-20        None  \n",
       "2                      债券型  2013-03-08        None  \n",
       "3                      债券型  2013-03-08  2018-08-08  \n",
       "4                      基金型  2013-03-22        None  \n",
       "...                    ...         ...         ...  \n",
       "4995                   股票型  2011-12-01  2019-11-06  \n",
       "4996                   股票型  2012-01-31  2020-02-17  \n",
       "4997                   股票型  2012-01-30  2018-08-13  \n",
       "4998                   股票型  2011-12-08  2020-09-30  \n",
       "4999                   股票型  2011-12-06  2020-08-19  \n",
       "\n",
       "[5000 rows x 11 columns]"
      ]
     },
     "execution_count": 7,
     "metadata": {},
     "output_type": "execute_result"
    }
   ],
   "source": [
    "finance.run_query(query(finance.FUND_MAIN_INFO))"
   ]
  },
  {
   "cell_type": "code",
   "execution_count": 9,
   "metadata": {},
   "outputs": [
    {
     "data": {
      "text/html": [
       "<div>\n",
       "<style scoped>\n",
       "    .dataframe tbody tr th:only-of-type {\n",
       "        vertical-align: middle;\n",
       "    }\n",
       "\n",
       "    .dataframe tbody tr th {\n",
       "        vertical-align: top;\n",
       "    }\n",
       "\n",
       "    .dataframe thead th {\n",
       "        text-align: right;\n",
       "    }\n",
       "</style>\n",
       "<table border=\"1\" class=\"dataframe\">\n",
       "  <thead>\n",
       "    <tr style=\"text-align: right;\">\n",
       "      <th></th>\n",
       "      <th>id</th>\n",
       "      <th>main_code</th>\n",
       "      <th>name</th>\n",
       "      <th>advisor</th>\n",
       "      <th>trustee</th>\n",
       "      <th>operate_mode_id</th>\n",
       "      <th>operate_mode</th>\n",
       "      <th>underlying_asset_type_id</th>\n",
       "      <th>underlying_asset_type</th>\n",
       "      <th>start_date</th>\n",
       "      <th>end_date</th>\n",
       "    </tr>\n",
       "  </thead>\n",
       "  <tbody>\n",
       "    <tr>\n",
       "      <th>0</th>\n",
       "      <td>12818</td>\n",
       "      <td>159977</td>\n",
       "      <td>创业板TH</td>\n",
       "      <td>天弘基金管理有限公司</td>\n",
       "      <td>国泰君安证券股份有限公司</td>\n",
       "      <td>401005</td>\n",
       "      <td>ETF</td>\n",
       "      <td>402001</td>\n",
       "      <td>股票型</td>\n",
       "      <td>2019-09-12</td>\n",
       "      <td>None</td>\n",
       "    </tr>\n",
       "    <tr>\n",
       "      <th>1</th>\n",
       "      <td>12820</td>\n",
       "      <td>007249</td>\n",
       "      <td>广发均衡养老三年持有混合(FOF)</td>\n",
       "      <td>广发基金管理有限公司</td>\n",
       "      <td>中国建设银行股份有限公司</td>\n",
       "      <td>401004</td>\n",
       "      <td>FOF</td>\n",
       "      <td>402004</td>\n",
       "      <td>混合型</td>\n",
       "      <td>2019-09-24</td>\n",
       "      <td>None</td>\n",
       "    </tr>\n",
       "    <tr>\n",
       "      <th>2</th>\n",
       "      <td>12823</td>\n",
       "      <td>007868</td>\n",
       "      <td>汇添富汇鑫货币</td>\n",
       "      <td>汇添富基金管理股份有限公司</td>\n",
       "      <td>上海浦东发展银行股份有限公司</td>\n",
       "      <td>401001</td>\n",
       "      <td>开放式基金</td>\n",
       "      <td>402002</td>\n",
       "      <td>货币型</td>\n",
       "      <td>2019-09-10</td>\n",
       "      <td>None</td>\n",
       "    </tr>\n",
       "    <tr>\n",
       "      <th>3</th>\n",
       "      <td>12824</td>\n",
       "      <td>007869</td>\n",
       "      <td>汇添富汇鑫货币B</td>\n",
       "      <td>汇添富基金管理股份有限公司</td>\n",
       "      <td>上海浦东发展银行股份有限公司</td>\n",
       "      <td>401001</td>\n",
       "      <td>开放式基金</td>\n",
       "      <td>402002</td>\n",
       "      <td>货币型</td>\n",
       "      <td>2019-09-10</td>\n",
       "      <td>None</td>\n",
       "    </tr>\n",
       "    <tr>\n",
       "      <th>4</th>\n",
       "      <td>12825</td>\n",
       "      <td>007873</td>\n",
       "      <td>华宝科技ETF联接</td>\n",
       "      <td>华宝基金管理有限公司</td>\n",
       "      <td>中国工商银行股份有限公司</td>\n",
       "      <td>401001</td>\n",
       "      <td>开放式基金</td>\n",
       "      <td>402005</td>\n",
       "      <td>基金型</td>\n",
       "      <td>2019-08-30</td>\n",
       "      <td>None</td>\n",
       "    </tr>\n",
       "    <tr>\n",
       "      <th>...</th>\n",
       "      <td>...</td>\n",
       "      <td>...</td>\n",
       "      <td>...</td>\n",
       "      <td>...</td>\n",
       "      <td>...</td>\n",
       "      <td>...</td>\n",
       "      <td>...</td>\n",
       "      <td>...</td>\n",
       "      <td>...</td>\n",
       "      <td>...</td>\n",
       "      <td>...</td>\n",
       "    </tr>\n",
       "    <tr>\n",
       "      <th>3564</th>\n",
       "      <td>28920</td>\n",
       "      <td>011470</td>\n",
       "      <td>东吴新产业精选股票C</td>\n",
       "      <td>东吴基金管理有限公司</td>\n",
       "      <td>中国建设银行股份有限公司</td>\n",
       "      <td>401001</td>\n",
       "      <td>开放式基金</td>\n",
       "      <td>402001</td>\n",
       "      <td>股票型</td>\n",
       "      <td>2021-02-02</td>\n",
       "      <td>None</td>\n",
       "    </tr>\n",
       "    <tr>\n",
       "      <th>3565</th>\n",
       "      <td>28921</td>\n",
       "      <td>011482</td>\n",
       "      <td>中银顺宁回报6个月持有期混合</td>\n",
       "      <td>中银基金管理有限公司</td>\n",
       "      <td>招商银行股份有限公司</td>\n",
       "      <td>401001</td>\n",
       "      <td>开放式基金</td>\n",
       "      <td>402004</td>\n",
       "      <td>混合型</td>\n",
       "      <td>None</td>\n",
       "      <td>None</td>\n",
       "    </tr>\n",
       "    <tr>\n",
       "      <th>3566</th>\n",
       "      <td>28922</td>\n",
       "      <td>011483</td>\n",
       "      <td>中银顺宁回报6个月持有期混合C</td>\n",
       "      <td>中银基金管理有限公司</td>\n",
       "      <td>招商银行股份有限公司</td>\n",
       "      <td>401001</td>\n",
       "      <td>开放式基金</td>\n",
       "      <td>402004</td>\n",
       "      <td>混合型</td>\n",
       "      <td>None</td>\n",
       "      <td>None</td>\n",
       "    </tr>\n",
       "    <tr>\n",
       "      <th>3567</th>\n",
       "      <td>28923</td>\n",
       "      <td>011484</td>\n",
       "      <td>申万菱信宜选混合</td>\n",
       "      <td>申万菱信基金管理有限公司</td>\n",
       "      <td>招商银行股份有限公司</td>\n",
       "      <td>401001</td>\n",
       "      <td>开放式基金</td>\n",
       "      <td>402004</td>\n",
       "      <td>混合型</td>\n",
       "      <td>None</td>\n",
       "      <td>None</td>\n",
       "    </tr>\n",
       "    <tr>\n",
       "      <th>3568</th>\n",
       "      <td>28924</td>\n",
       "      <td>011485</td>\n",
       "      <td>申万菱信宜选混合C</td>\n",
       "      <td>申万菱信基金管理有限公司</td>\n",
       "      <td>招商银行股份有限公司</td>\n",
       "      <td>401001</td>\n",
       "      <td>开放式基金</td>\n",
       "      <td>402004</td>\n",
       "      <td>混合型</td>\n",
       "      <td>None</td>\n",
       "      <td>None</td>\n",
       "    </tr>\n",
       "  </tbody>\n",
       "</table>\n",
       "<p>3569 rows × 11 columns</p>\n",
       "</div>"
      ],
      "text/plain": [
       "         id main_code               name        advisor         trustee  \\\n",
       "0     12818    159977              创业板TH     天弘基金管理有限公司    国泰君安证券股份有限公司   \n",
       "1     12820    007249  广发均衡养老三年持有混合(FOF)     广发基金管理有限公司    中国建设银行股份有限公司   \n",
       "2     12823    007868            汇添富汇鑫货币  汇添富基金管理股份有限公司  上海浦东发展银行股份有限公司   \n",
       "3     12824    007869           汇添富汇鑫货币B  汇添富基金管理股份有限公司  上海浦东发展银行股份有限公司   \n",
       "4     12825    007873          华宝科技ETF联接     华宝基金管理有限公司    中国工商银行股份有限公司   \n",
       "...     ...       ...                ...            ...             ...   \n",
       "3564  28920    011470         东吴新产业精选股票C     东吴基金管理有限公司    中国建设银行股份有限公司   \n",
       "3565  28921    011482     中银顺宁回报6个月持有期混合     中银基金管理有限公司      招商银行股份有限公司   \n",
       "3566  28922    011483    中银顺宁回报6个月持有期混合C     中银基金管理有限公司      招商银行股份有限公司   \n",
       "3567  28923    011484           申万菱信宜选混合   申万菱信基金管理有限公司      招商银行股份有限公司   \n",
       "3568  28924    011485          申万菱信宜选混合C   申万菱信基金管理有限公司      招商银行股份有限公司   \n",
       "\n",
       "      operate_mode_id operate_mode  underlying_asset_type_id  \\\n",
       "0              401005          ETF                    402001   \n",
       "1              401004          FOF                    402004   \n",
       "2              401001        开放式基金                    402002   \n",
       "3              401001        开放式基金                    402002   \n",
       "4              401001        开放式基金                    402005   \n",
       "...               ...          ...                       ...   \n",
       "3564           401001        开放式基金                    402001   \n",
       "3565           401001        开放式基金                    402004   \n",
       "3566           401001        开放式基金                    402004   \n",
       "3567           401001        开放式基金                    402004   \n",
       "3568           401001        开放式基金                    402004   \n",
       "\n",
       "     underlying_asset_type  start_date end_date  \n",
       "0                      股票型  2019-09-12     None  \n",
       "1                      混合型  2019-09-24     None  \n",
       "2                      货币型  2019-09-10     None  \n",
       "3                      货币型  2019-09-10     None  \n",
       "4                      基金型  2019-08-30     None  \n",
       "...                    ...         ...      ...  \n",
       "3564                   股票型  2021-02-02     None  \n",
       "3565                   混合型        None     None  \n",
       "3566                   混合型        None     None  \n",
       "3567                   混合型        None     None  \n",
       "3568                   混合型        None     None  \n",
       "\n",
       "[3569 rows x 11 columns]"
      ]
     },
     "execution_count": 9,
     "metadata": {},
     "output_type": "execute_result"
    }
   ],
   "source": [
    "finance.run_query(query(finance.FUND_MAIN_INFO).filter(finance.FUND_MAIN_INFO.id>12815))"
   ]
  },
  {
   "cell_type": "code",
   "execution_count": 2,
   "metadata": {},
   "outputs": [],
   "source": [
    "from py2neo import Graph,Node,Relationship,NodeMatcher,RelationshipMatcher\n",
    "from LAC import LAC\n",
    "from tqdm import tqdm\n",
    "lac = LAC(mode='lac')\n",
    "graph=Graph('http://localhost:7474/db/data/',name='stock',username='neo4j',password='neo4j')\n",
    "rmatcher = RelationshipMatcher(graph)\n",
    "import traceback"
   ]
  },
  {
   "cell_type": "code",
   "execution_count": 10,
   "metadata": {},
   "outputs": [
    {
     "name": "stderr",
     "output_type": "stream",
     "text": [
      "1it [00:00,  6.37it/s]"
     ]
    },
    {
     "name": "stdout",
     "output_type": "stream",
     "text": [
      "处理第 1 条： 粤海饲料\n",
      "处理第 2 条： 同兴环保\n"
     ]
    },
    {
     "name": "stderr",
     "output_type": "stream",
     "text": [
      "\r",
      "3it [00:00,  7.15it/s]"
     ]
    },
    {
     "name": "stdout",
     "output_type": "stream",
     "text": [
      "处理第 3 条： 中国黄金\n",
      "处理第 4 条： 威迈斯\n"
     ]
    },
    {
     "name": "stderr",
     "output_type": "stream",
     "text": [
      "5it [00:00,  8.19it/s]"
     ]
    },
    {
     "name": "stdout",
     "output_type": "stream",
     "text": [
      "处理第 5 条： 吉大正元\n",
      "处理第 6 条： 森林包装\n"
     ]
    },
    {
     "name": "stderr",
     "output_type": "stream",
     "text": [
      "7it [00:00,  8.49it/s]"
     ]
    },
    {
     "name": "stdout",
     "output_type": "stream",
     "text": [
      "处理第 7 条： 运高股份\n",
      "处理第 8 条： 嵘泰股份\n"
     ]
    },
    {
     "name": "stderr",
     "output_type": "stream",
     "text": [
      "9it [00:01,  8.11it/s]"
     ]
    },
    {
     "name": "stdout",
     "output_type": "stream",
     "text": [
      "处理第 9 条： 九恒条码\n",
      "处理第 10 条： 联泓新科\n"
     ]
    },
    {
     "name": "stderr",
     "output_type": "stream",
     "text": [
      "11it [00:01,  7.87it/s]"
     ]
    },
    {
     "name": "stdout",
     "output_type": "stream",
     "text": [
      "处理第 11 条： 李子园\n",
      "处理第 12 条： 四方新材\n"
     ]
    },
    {
     "name": "stderr",
     "output_type": "stream",
     "text": [
      "13it [00:01,  6.48it/s]"
     ]
    },
    {
     "name": "stdout",
     "output_type": "stream",
     "text": [
      "处理第 13 条： 健麾信息\n",
      "处理第 14 条： 百合生物\n"
     ]
    },
    {
     "name": "stderr",
     "output_type": "stream",
     "text": [
      "15it [00:01,  7.61it/s]"
     ]
    },
    {
     "name": "stdout",
     "output_type": "stream",
     "text": [
      "处理第 15 条： 西大门\n",
      "处理第 16 条： 一鸣食品\n"
     ]
    },
    {
     "name": "stderr",
     "output_type": "stream",
     "text": [
      "\r",
      "16it [00:02,  6.92it/s]"
     ]
    },
    {
     "name": "stdout",
     "output_type": "stream",
     "text": [
      "处理第 17 条： 迎丰股份\n"
     ]
    },
    {
     "name": "stderr",
     "output_type": "stream",
     "text": [
      "\r",
      "17it [00:02,  6.09it/s]"
     ]
    },
    {
     "name": "stdout",
     "output_type": "stream",
     "text": [
      "处理第 18 条： 万代服装\n"
     ]
    },
    {
     "name": "stderr",
     "output_type": "stream",
     "text": [
      "19it [00:02,  6.35it/s]"
     ]
    },
    {
     "name": "stdout",
     "output_type": "stream",
     "text": [
      "处理第 19 条： 英利汽车\n",
      "处理第 20 条： 振邦智能\n"
     ]
    },
    {
     "name": "stderr",
     "output_type": "stream",
     "text": [
      "21it [00:02,  7.65it/s]"
     ]
    },
    {
     "name": "stdout",
     "output_type": "stream",
     "text": [
      "处理第 21 条： 野马电池\n",
      "处理第 22 条： 德业科技\n"
     ]
    },
    {
     "name": "stderr",
     "output_type": "stream",
     "text": [
      "23it [00:03,  6.03it/s]"
     ]
    },
    {
     "name": "stdout",
     "output_type": "stream",
     "text": [
      "处理第 23 条： 周六福\n"
     ]
    },
    {
     "name": "stderr",
     "output_type": "stream",
     "text": [
      "\r",
      "24it [00:03,  6.40it/s]"
     ]
    },
    {
     "name": "stdout",
     "output_type": "stream",
     "text": [
      "处理第 24 条： 神通科技\n",
      "处理第 25 条： 王力安防\n"
     ]
    },
    {
     "name": "stderr",
     "output_type": "stream",
     "text": [
      "26it [00:03,  6.50it/s]"
     ]
    },
    {
     "name": "stdout",
     "output_type": "stream",
     "text": [
      "处理第 26 条： 华康股份\n",
      "处理第 27 条： 联德精密\n"
     ]
    },
    {
     "name": "stderr",
     "output_type": "stream",
     "text": [
      "28it [00:03,  6.58it/s]"
     ]
    },
    {
     "name": "stdout",
     "output_type": "stream",
     "text": [
      "处理第 28 条： 新亚电子\n",
      "处理第 29 条： 合兴股份\n"
     ]
    },
    {
     "name": "stderr",
     "output_type": "stream",
     "text": [
      "30it [00:04,  7.67it/s]"
     ]
    },
    {
     "name": "stdout",
     "output_type": "stream",
     "text": [
      "处理第 30 条： 新炬网络\n",
      "处理第 31 条： 长龄液压\n"
     ]
    },
    {
     "name": "stderr",
     "output_type": "stream",
     "text": [
      "32it [00:04,  8.31it/s]"
     ]
    },
    {
     "name": "stdout",
     "output_type": "stream",
     "text": [
      "处理第 32 条： 杭州热电\n",
      "处理第 33 条： 太和水\n"
     ]
    },
    {
     "name": "stderr",
     "output_type": "stream",
     "text": [
      "34it [00:04,  6.41it/s]"
     ]
    },
    {
     "name": "stdout",
     "output_type": "stream",
     "text": [
      "处理第 34 条： 立航科技\n"
     ]
    },
    {
     "name": "stderr",
     "output_type": "stream",
     "text": [
      "\r",
      "35it [00:04,  6.38it/s]"
     ]
    },
    {
     "name": "stdout",
     "output_type": "stream",
     "text": [
      "处理第 35 条： 华生科技\n",
      "处理第 36 条： 无锡振华\n"
     ]
    },
    {
     "name": "stderr",
     "output_type": "stream",
     "text": [
      "37it [00:05,  7.64it/s]"
     ]
    },
    {
     "name": "stdout",
     "output_type": "stream",
     "text": [
      "处理第 37 条： 永茂泰\n",
      "处理第 38 条： 东航物流\n"
     ]
    },
    {
     "name": "stderr",
     "output_type": "stream",
     "text": [
      "\r",
      "39it [00:05,  7.71it/s]"
     ]
    },
    {
     "name": "stdout",
     "output_type": "stream",
     "text": [
      "处理第 39 条： 新中港\n",
      "处理第 40 条： 日升机械\n"
     ]
    },
    {
     "name": "stderr",
     "output_type": "stream",
     "text": [
      "41it [00:05,  6.91it/s]"
     ]
    },
    {
     "name": "stdout",
     "output_type": "stream",
     "text": [
      "处理第 41 条： 中瓷电子\n",
      "处理第 42 条： 龙岩股份\n"
     ]
    },
    {
     "name": "stderr",
     "output_type": "stream",
     "text": [
      "43it [00:05,  8.00it/s]"
     ]
    },
    {
     "name": "stdout",
     "output_type": "stream",
     "text": [
      "处理第 43 条： 洪兴实业\n",
      "处理第 44 条： 迪芬尼\n"
     ]
    },
    {
     "name": "stderr",
     "output_type": "stream",
     "text": [
      "45it [00:06,  8.73it/s]"
     ]
    },
    {
     "name": "stdout",
     "output_type": "stream",
     "text": [
      "处理第 45 条： 三和管桩\n",
      "处理第 46 条： 楚天龙\n"
     ]
    },
    {
     "name": "stderr",
     "output_type": "stream",
     "text": [
      "\r",
      "46it [00:06,  8.99it/s]"
     ]
    },
    {
     "name": "stdout",
     "output_type": "stream",
     "text": [
      "处理第 47 条： 凤翔集团\n"
     ]
    },
    {
     "name": "stderr",
     "output_type": "stream",
     "text": [
      "\r",
      "47it [00:06,  6.93it/s]"
     ]
    },
    {
     "name": "stdout",
     "output_type": "stream",
     "text": [
      "处理第 48 条： 国台酒业\n"
     ]
    },
    {
     "name": "stderr",
     "output_type": "stream",
     "text": [
      "49it [00:06,  6.55it/s]"
     ]
    },
    {
     "name": "stdout",
     "output_type": "stream",
     "text": [
      "处理第 49 条： 千味央厨\n",
      "处理第 50 条： 鑫铂股份\n"
     ]
    },
    {
     "name": "stderr",
     "output_type": "stream",
     "text": [
      "\r",
      "51it [00:07,  7.18it/s]"
     ]
    },
    {
     "name": "stdout",
     "output_type": "stream",
     "text": [
      "处理第 51 条： 华尔泰\n",
      "处理第 52 条： 犇星新材\n"
     ]
    },
    {
     "name": "stderr",
     "output_type": "stream",
     "text": [
      "\r",
      "52it [00:07,  7.77it/s]"
     ]
    },
    {
     "name": "stdout",
     "output_type": "stream",
     "text": [
      "处理第 53 条： 驰田汽车\n",
      "处理第 54 条： 佳禾食品\n"
     ]
    },
    {
     "name": "stderr",
     "output_type": "stream",
     "text": [
      "55it [00:07,  7.32it/s]"
     ]
    },
    {
     "name": "stdout",
     "output_type": "stream",
     "text": [
      "处理第 55 条： 中法水务\n",
      "处理第 56 条： 美庐生物\n"
     ]
    },
    {
     "name": "stderr",
     "output_type": "stream",
     "text": [
      "\r",
      "57it [00:07,  7.97it/s]"
     ]
    },
    {
     "name": "stdout",
     "output_type": "stream",
     "text": [
      "处理第 57 条： 世茂能源\n",
      "处理第 58 条： 德才装饰\n",
      "处理第 59 条： 海程邦达\n"
     ]
    },
    {
     "name": "stderr",
     "output_type": "stream",
     "text": [
      "60it [00:08,  7.14it/s]"
     ]
    },
    {
     "name": "stdout",
     "output_type": "stream",
     "text": [
      "处理第 60 条： 百龙创园\n",
      "处理第 61 条： 联科科技\n"
     ]
    },
    {
     "name": "stderr",
     "output_type": "stream",
     "text": [
      "\r",
      "61it [00:08,  7.62it/s]"
     ]
    },
    {
     "name": "stdout",
     "output_type": "stream",
     "text": [
      "处理第 62 条： 陕西美能\n"
     ]
    },
    {
     "name": "stderr",
     "output_type": "stream",
     "text": [
      "63it [00:08,  4.70it/s]"
     ]
    },
    {
     "name": "stdout",
     "output_type": "stream",
     "text": [
      "处理第 63 条： 盛剑环境\n",
      "处理第 64 条： 东鹏饮料\n"
     ]
    },
    {
     "name": "stderr",
     "output_type": "stream",
     "text": [
      "65it [00:09,  5.63it/s]"
     ]
    },
    {
     "name": "stdout",
     "output_type": "stream",
     "text": [
      "处理第 65 条： 海天水务\n",
      "处理第 66 条： 自贡机械\n"
     ]
    },
    {
     "name": "stderr",
     "output_type": "stream",
     "text": [
      "67it [00:09,  6.38it/s]"
     ]
    },
    {
     "name": "stdout",
     "output_type": "stream",
     "text": [
      "处理第 67 条： 郎酒股份\n",
      "处理第 68 条： 梦金园\n"
     ]
    },
    {
     "name": "stderr",
     "output_type": "stream",
     "text": [
      "69it [00:09,  5.84it/s]"
     ]
    },
    {
     "name": "stdout",
     "output_type": "stream",
     "text": [
      "处理第 69 条： 派特罗尔\n",
      "处理第 70 条： 咸亨国际\n"
     ]
    },
    {
     "name": "stderr",
     "output_type": "stream",
     "text": [
      "71it [00:10,  5.88it/s]"
     ]
    },
    {
     "name": "stdout",
     "output_type": "stream",
     "text": [
      "处理第 71 条： 浙江传媒\n"
     ]
    },
    {
     "name": "stderr",
     "output_type": "stream",
     "text": [
      "\r",
      "72it [00:10,  6.66it/s]"
     ]
    },
    {
     "name": "stdout",
     "output_type": "stream",
     "text": [
      "处理第 72 条： 双枪科技\n",
      "处理第 73 条： 税友软件\n"
     ]
    },
    {
     "name": "stderr",
     "output_type": "stream",
     "text": [
      "74it [00:10,  6.61it/s]"
     ]
    },
    {
     "name": "stdout",
     "output_type": "stream",
     "text": [
      "处理第 74 条： 明泰控股\n",
      "处理第 75 条： 盛泰服装\n"
     ]
    },
    {
     "name": "stderr",
     "output_type": "stream",
     "text": [
      "\r",
      "75it [00:10,  7.23it/s]"
     ]
    },
    {
     "name": "stdout",
     "output_type": "stream",
     "text": [
      "处理第 76 条： 浙江新能\n",
      "处理第 77 条： 珊溪水利\n"
     ]
    },
    {
     "name": "stderr",
     "output_type": "stream",
     "text": [
      "78it [00:11,  8.32it/s]"
     ]
    },
    {
     "name": "stdout",
     "output_type": "stream",
     "text": [
      "处理第 78 条： 永和制冷\n",
      "处理第 79 条： 绿田机械\n"
     ]
    },
    {
     "name": "stderr",
     "output_type": "stream",
     "text": [
      "\r",
      "79it [00:11,  7.30it/s]"
     ]
    },
    {
     "name": "stdout",
     "output_type": "stream",
     "text": [
      "处理第 80 条： 大自然\n"
     ]
    },
    {
     "name": "stderr",
     "output_type": "stream",
     "text": [
      "\r",
      "80it [00:11,  5.88it/s]"
     ]
    },
    {
     "name": "stdout",
     "output_type": "stream",
     "text": [
      "处理第 81 条： 味知香\n"
     ]
    },
    {
     "name": "stderr",
     "output_type": "stream",
     "text": [
      "\r",
      "81it [00:11,  5.39it/s]"
     ]
    },
    {
     "name": "stdout",
     "output_type": "stream",
     "text": [
      "处理第 82 条： 中国航油\n"
     ]
    },
    {
     "name": "stderr",
     "output_type": "stream",
     "text": [
      "83it [00:12,  5.07it/s]"
     ]
    },
    {
     "name": "stdout",
     "output_type": "stream",
     "text": [
      "处理第 83 条： 澜沧古茶\n",
      "处理第 84 条： 彩虹集团\n"
     ]
    },
    {
     "name": "stderr",
     "output_type": "stream",
     "text": [
      "\r",
      "84it [00:12,  5.06it/s]"
     ]
    },
    {
     "name": "stdout",
     "output_type": "stream",
     "text": [
      "处理第 85 条： 南海农商\n"
     ]
    },
    {
     "name": "stderr",
     "output_type": "stream",
     "text": [
      "\r",
      "85it [00:12,  4.92it/s]"
     ]
    },
    {
     "name": "stdout",
     "output_type": "stream",
     "text": [
      "处理第 86 条： 爱慕股份\n"
     ]
    },
    {
     "name": "stderr",
     "output_type": "stream",
     "text": [
      "87it [00:12,  4.85it/s]"
     ]
    },
    {
     "name": "stdout",
     "output_type": "stream",
     "text": [
      "处理第 87 条： 罗曼股份\n"
     ]
    },
    {
     "name": "stderr",
     "output_type": "stream",
     "text": [
      "\r",
      "88it [00:13,  5.61it/s]"
     ]
    },
    {
     "name": "stdout",
     "output_type": "stream",
     "text": [
      "处理第 88 条： 中晶科技\n",
      "处理第 89 条： 中际联合\n"
     ]
    },
    {
     "name": "stderr",
     "output_type": "stream",
     "text": [
      "\r",
      "89it [00:13,  5.11it/s]"
     ]
    },
    {
     "name": "stdout",
     "output_type": "stream",
     "text": [
      "处理第 90 条： 行动教育\n"
     ]
    },
    {
     "name": "stderr",
     "output_type": "stream",
     "text": [
      "91it [00:13,  4.76it/s]"
     ]
    },
    {
     "name": "stdout",
     "output_type": "stream",
     "text": [
      "处理第 91 条： 华旺科技\n",
      "处理第 92 条： 盛航海运\n"
     ]
    },
    {
     "name": "stderr",
     "output_type": "stream",
     "text": [
      "93it [00:14,  4.93it/s]"
     ]
    },
    {
     "name": "stdout",
     "output_type": "stream",
     "text": [
      "处理第 93 条： 长江材料\n",
      "处理第 94 条： 必得科技\n"
     ]
    },
    {
     "name": "stderr",
     "output_type": "stream",
     "text": [
      "\r",
      "94it [00:14,  4.92it/s]"
     ]
    },
    {
     "name": "stdout",
     "output_type": "stream",
     "text": [
      "处理第 95 条： 确成股份\n"
     ]
    },
    {
     "name": "stderr",
     "output_type": "stream",
     "text": [
      "\r",
      "95it [00:14,  4.44it/s]"
     ]
    },
    {
     "name": "stdout",
     "output_type": "stream",
     "text": [
      "处理第 96 条： 洛阳涧光\n"
     ]
    },
    {
     "name": "stderr",
     "output_type": "stream",
     "text": [
      "\r",
      "96it [00:14,  4.15it/s]"
     ]
    },
    {
     "name": "stdout",
     "output_type": "stream",
     "text": [
      "处理第 97 条： 祥云化工\n"
     ]
    },
    {
     "name": "stderr",
     "output_type": "stream",
     "text": [
      "98it [00:15,  4.74it/s]"
     ]
    },
    {
     "name": "stdout",
     "output_type": "stream",
     "text": [
      "处理第 98 条： 津同仁堂\n",
      "处理第 99 条： 全美在线\n"
     ]
    },
    {
     "name": "stderr",
     "output_type": "stream",
     "text": [
      "\r",
      "99it [00:15,  5.27it/s]"
     ]
    },
    {
     "name": "stdout",
     "output_type": "stream",
     "text": [
      "处理第 100 条： 日兴生物\n"
     ]
    },
    {
     "name": "stderr",
     "output_type": "stream",
     "text": [
      "\r",
      "100it [00:15,  5.17it/s]"
     ]
    },
    {
     "name": "stdout",
     "output_type": "stream",
     "text": [
      "处理第 101 条： 瑞华环保\n"
     ]
    },
    {
     "name": "stderr",
     "output_type": "stream",
     "text": [
      "102it [00:16,  4.69it/s]"
     ]
    },
    {
     "name": "stdout",
     "output_type": "stream",
     "text": [
      "处理第 102 条： 林华医疗\n",
      "处理第 103 条： 广东顺控\n"
     ]
    },
    {
     "name": "stderr",
     "output_type": "stream",
     "text": [
      "104it [00:16,  5.67it/s]"
     ]
    },
    {
     "name": "stdout",
     "output_type": "stream",
     "text": [
      "处理第 104 条： 冠龙股份\n",
      "处理第 105 条： 保丽洁\n"
     ]
    },
    {
     "name": "stderr",
     "output_type": "stream",
     "text": [
      "\r",
      "105it [00:16,  5.87it/s]"
     ]
    },
    {
     "name": "stdout",
     "output_type": "stream",
     "text": [
      "处理第 106 条： 中科江南\n"
     ]
    },
    {
     "name": "stderr",
     "output_type": "stream",
     "text": [
      "\r",
      "106it [00:16,  5.59it/s]"
     ]
    },
    {
     "name": "stdout",
     "output_type": "stream",
     "text": [
      "处理第 107 条： 天源环保\n"
     ]
    },
    {
     "name": "stderr",
     "output_type": "stream",
     "text": [
      "108it [00:17,  5.64it/s]"
     ]
    },
    {
     "name": "stdout",
     "output_type": "stream",
     "text": [
      "处理第 108 条： 祖名股份\n",
      "处理第 109 条： 欧晶科技\n"
     ]
    },
    {
     "name": "stderr",
     "output_type": "stream",
     "text": [
      "\r",
      "109it [00:17,  5.52it/s]"
     ]
    },
    {
     "name": "stdout",
     "output_type": "stream",
     "text": [
      "处理第 110 条： 华通线缆\n"
     ]
    },
    {
     "name": "stderr",
     "output_type": "stream",
     "text": [
      "111it [00:17,  5.50it/s]"
     ]
    },
    {
     "name": "stdout",
     "output_type": "stream",
     "text": [
      "处理第 111 条： 华新环保\n",
      "处理第 112 条： 百诚医药\n"
     ]
    },
    {
     "name": "stderr",
     "output_type": "stream",
     "text": [
      "113it [00:18,  6.30it/s]"
     ]
    },
    {
     "name": "stdout",
     "output_type": "stream",
     "text": [
      "处理第 113 条： 陕西美能\n",
      "处理第 114 条： 舒华体育\n"
     ]
    },
    {
     "name": "stderr",
     "output_type": "stream",
     "text": [
      "115it [00:18,  6.74it/s]"
     ]
    },
    {
     "name": "stdout",
     "output_type": "stream",
     "text": [
      "处理第 115 条： 炬申物流\n",
      "处理第 116 条： 传智教育\n"
     ]
    },
    {
     "name": "stderr",
     "output_type": "stream",
     "text": [
      "117it [00:18,  6.98it/s]"
     ]
    },
    {
     "name": "stdout",
     "output_type": "stream",
     "text": [
      "处理第 117 条： 中一科技\n",
      "处理第 118 条： 依依卫生\n"
     ]
    },
    {
     "name": "stderr",
     "output_type": "stream",
     "text": [
      "\r",
      "118it [00:18,  5.44it/s]"
     ]
    },
    {
     "name": "stdout",
     "output_type": "stream",
     "text": [
      "处理第 119 条： 金鑫矿业\n"
     ]
    },
    {
     "name": "stderr",
     "output_type": "stream",
     "text": [
      "\r",
      "119it [00:19,  4.58it/s]"
     ]
    },
    {
     "name": "stdout",
     "output_type": "stream",
     "text": [
      "处理第 120 条： 富春染织\n"
     ]
    },
    {
     "name": "stderr",
     "output_type": "stream",
     "text": [
      "121it [00:19,  4.92it/s]"
     ]
    },
    {
     "name": "stdout",
     "output_type": "stream",
     "text": [
      "处理第 121 条： 中农生物\n",
      "处理第 122 条： 博迁新材\n"
     ]
    },
    {
     "name": "stderr",
     "output_type": "stream",
     "text": [
      "123it [00:19,  4.84it/s]"
     ]
    },
    {
     "name": "stdout",
     "output_type": "stream",
     "text": [
      "处理第 123 条： 恒盛能源\n",
      "处理第 124 条： 青岛食品\n"
     ]
    },
    {
     "name": "stderr",
     "output_type": "stream",
     "text": [
      "\r",
      "124it [00:20,  4.38it/s]"
     ]
    },
    {
     "name": "stdout",
     "output_type": "stream",
     "text": [
      "处理第 125 条： 华塑股份\n"
     ]
    },
    {
     "name": "stderr",
     "output_type": "stream",
     "text": [
      "\r",
      "125it [00:20,  4.45it/s]"
     ]
    },
    {
     "name": "stdout",
     "output_type": "stream",
     "text": [
      "处理第 126 条： 鼎维固\n"
     ]
    },
    {
     "name": "stderr",
     "output_type": "stream",
     "text": [
      "\r",
      "126it [00:20,  4.45it/s]"
     ]
    },
    {
     "name": "stdout",
     "output_type": "stream",
     "text": [
      "处理第 127 条： 富力地产\n"
     ]
    },
    {
     "name": "stderr",
     "output_type": "stream",
     "text": [
      "\r",
      "127it [00:20,  4.54it/s]"
     ]
    },
    {
     "name": "stdout",
     "output_type": "stream",
     "text": [
      "处理第 128 条： 粤运交通\n"
     ]
    },
    {
     "name": "stderr",
     "output_type": "stream",
     "text": [
      "129it [00:21,  4.77it/s]"
     ]
    },
    {
     "name": "stdout",
     "output_type": "stream",
     "text": [
      "处理第 129 条： 中铁特货\n"
     ]
    },
    {
     "name": "stderr",
     "output_type": "stream",
     "text": [
      "\r",
      "130it [00:21,  4.97it/s]"
     ]
    },
    {
     "name": "stdout",
     "output_type": "stream",
     "text": [
      "处理第 130 条： 港创建材\n",
      "处理第 131 "
     ]
    },
    {
     "name": "stderr",
     "output_type": "stream",
     "text": [
      "\r",
      "131it [00:21,  5.03it/s]"
     ]
    },
    {
     "name": "stdout",
     "output_type": "stream",
     "text": [
      "条： 丁点儿\n",
      "处理第 132 条： 上海港湾\n"
     ]
    },
    {
     "name": "stderr",
     "output_type": "stream",
     "text": [
      "\r",
      "132it [00:21,  4.99it/s]"
     ]
    },
    {
     "name": "stdout",
     "output_type": "stream",
     "text": [
      "处理第 133 条： 国邦医药\n"
     ]
    },
    {
     "name": "stderr",
     "output_type": "stream",
     "text": [
      "\r",
      "133it [00:22,  4.48it/s]"
     ]
    },
    {
     "name": "stdout",
     "output_type": "stream",
     "text": [
      "处理第 134 条： 标榜股份\n"
     ]
    },
    {
     "name": "stderr",
     "output_type": "stream",
     "text": [
      "\r",
      "134it [00:22,  4.18it/s]"
     ]
    },
    {
     "name": "stdout",
     "output_type": "stream",
     "text": [
      "处理第 135 条： 永道射频\n"
     ]
    },
    {
     "name": "stderr",
     "output_type": "stream",
     "text": [
      "136it [00:22,  4.44it/s]"
     ]
    },
    {
     "name": "stdout",
     "output_type": "stream",
     "text": [
      "处理第 136 条： 梦天家居\n",
      "处理第 137 条： 立达信\n"
     ]
    },
    {
     "name": "stderr",
     "output_type": "stream",
     "text": [
      "\r",
      "137it [00:23,  4.96it/s]"
     ]
    },
    {
     "name": "stdout",
     "output_type": "stream",
     "text": [
      "处理第 138 条： 福莱新材\n"
     ]
    },
    {
     "name": "stderr",
     "output_type": "stream",
     "text": [
      "\r",
      "138it [00:23,  4.75it/s]"
     ]
    },
    {
     "name": "stdout",
     "output_type": "stream",
     "text": [
      "处理第 139 条： 南网能源\n"
     ]
    },
    {
     "name": "stderr",
     "output_type": "stream",
     "text": [
      "140it [00:23,  4.70it/s]"
     ]
    },
    {
     "name": "stdout",
     "output_type": "stream",
     "text": [
      "处理第 140 条： 中旗新材\n",
      "处理第 141 条： 铜冠矿建\n"
     ]
    },
    {
     "name": "stderr",
     "output_type": "stream",
     "text": [
      "\r",
      "141it [00:23,  4.43it/s]"
     ]
    },
    {
     "name": "stdout",
     "output_type": "stream",
     "text": [
      "处理第 142 条： 南讯股份\n"
     ]
    },
    {
     "name": "stderr",
     "output_type": "stream",
     "text": [
      "143it [00:24,  4.82it/s]"
     ]
    },
    {
     "name": "stdout",
     "output_type": "stream",
     "text": [
      "处理第 143 条： 海普润\n",
      "处理第 144 条： 利柏特\n"
     ]
    },
    {
     "name": "stderr",
     "output_type": "stream",
     "text": [
      "145it [00:24,  5.64it/s]"
     ]
    },
    {
     "name": "stdout",
     "output_type": "stream",
     "text": [
      "处理第 145 条： 十方生态\n",
      "处理第 146 条： 维远化学\n"
     ]
    },
    {
     "name": "stderr",
     "output_type": "stream",
     "text": [
      "\r",
      "146it [00:24,  6.03it/s]"
     ]
    },
    {
     "name": "stdout",
     "output_type": "stream",
     "text": [
      "处理第 147 条： 上海汽配\n"
     ]
    },
    {
     "name": "stderr",
     "output_type": "stream",
     "text": [
      "148it [00:25,  5.27it/s]"
     ]
    },
    {
     "name": "stdout",
     "output_type": "stream",
     "text": [
      "处理第 148 条： 大叶工业\n",
      "处理第 149 条： 博泰家具\n"
     ]
    },
    {
     "name": "stderr",
     "output_type": "stream",
     "text": [
      "150it [00:25,  5.94it/s]"
     ]
    },
    {
     "name": "stdout",
     "output_type": "stream",
     "text": [
      "处理第 150 条： 福莱蒽特\n",
      "处理第 151 条： 菜百股份\n"
     ]
    },
    {
     "name": "stderr",
     "output_type": "stream",
     "text": [
      "\r",
      "151it [00:25,  5.93it/s]"
     ]
    },
    {
     "name": "stdout",
     "output_type": "stream",
     "text": [
      "处理第 152 条： 老铺黄金\n"
     ]
    },
    {
     "name": "stderr",
     "output_type": "stream",
     "text": [
      "\r",
      "152it [00:25,  5.53it/s]"
     ]
    },
    {
     "name": "stdout",
     "output_type": "stream",
     "text": [
      "处理第 153 条： 冠石科技\n"
     ]
    },
    {
     "name": "stderr",
     "output_type": "stream",
     "text": [
      "\r",
      "153it [00:26,  5.03it/s]"
     ]
    },
    {
     "name": "stdout",
     "output_type": "stream",
     "text": [
      "处理第 154 条： 镇洋发展\n"
     ]
    },
    {
     "name": "stderr",
     "output_type": "stream",
     "text": [
      "\r",
      "154it [00:26,  4.62it/s]"
     ]
    },
    {
     "name": "stdout",
     "output_type": "stream",
     "text": [
      "处理第 155 条： 大通新材\n"
     ]
    },
    {
     "name": "stderr",
     "output_type": "stream",
     "text": [
      "156it [00:26,  4.53it/s]"
     ]
    },
    {
     "name": "stdout",
     "output_type": "stream",
     "text": [
      "处理第 156 条： 中国茶叶\n",
      "处理第 157 条： 德昌电机\n"
     ]
    },
    {
     "name": "stderr",
     "output_type": "stream",
     "text": [
      "158it [00:27,  5.07it/s]"
     ]
    },
    {
     "name": "stdout",
     "output_type": "stream",
     "text": [
      "处理第 158 条： 朝微电子\n",
      "处理第 159 条： 东莞证券\n"
     ]
    },
    {
     "name": "stderr",
     "output_type": "stream",
     "text": [
      "160it [00:27,  5.54it/s]"
     ]
    },
    {
     "name": "stdout",
     "output_type": "stream",
     "text": [
      "处理第 160 条： 财达证券\n",
      "处理第 161 条： 万联证券\n"
     ]
    },
    {
     "name": "stderr",
     "output_type": "stream",
     "text": [
      "162it [00:27,  5.99it/s]"
     ]
    },
    {
     "name": "stdout",
     "output_type": "stream",
     "text": [
      "处理第 162 条： 恒茂高科\n",
      "处理第 163 条： 雅迪传媒\n"
     ]
    },
    {
     "name": "stderr",
     "output_type": "stream",
     "text": [
      "164it [00:28,  6.05it/s]"
     ]
    },
    {
     "name": "stdout",
     "output_type": "stream",
     "text": [
      "处理第 164 条： 招标股份\n",
      "处理第 165 条： 丹娜生物\n"
     ]
    },
    {
     "name": "stderr",
     "output_type": "stream",
     "text": [
      "\r",
      "165it [00:28,  5.39it/s]"
     ]
    },
    {
     "name": "stdout",
     "output_type": "stream",
     "text": [
      "处理第 166 条： 博创智能\n"
     ]
    },
    {
     "name": "stderr",
     "output_type": "stream",
     "text": [
      "\r",
      "166it [00:28,  5.18it/s]"
     ]
    },
    {
     "name": "stdout",
     "output_type": "stream",
     "text": [
      "处理第 167 条： 国能日新\n"
     ]
    },
    {
     "name": "stderr",
     "output_type": "stream",
     "text": [
      "168it [00:29,  5.21it/s]"
     ]
    },
    {
     "name": "stdout",
     "output_type": "stream",
     "text": [
      "处理第 168 条： 中钢矿院\n"
     ]
    },
    {
     "name": "stderr",
     "output_type": "stream",
     "text": [
      "\r",
      "169it [00:29,  5.27it/s]"
     ]
    },
    {
     "name": "stdout",
     "output_type": "stream",
     "text": [
      "处理第 169 条： 通行宝\n"
     ]
    },
    {
     "name": "stderr",
     "output_type": "stream",
     "text": [
      "\r",
      "170it [00:29,  5.68it/s]"
     ]
    },
    {
     "name": "stdout",
     "output_type": "stream",
     "text": [
      "处理第 170 条： 唯科模塑\n",
      "处理第 171 条： 凯格精机\n"
     ]
    },
    {
     "name": "stderr",
     "output_type": "stream",
     "text": [
      "\r",
      "171it [00:29,  5.90it/s]"
     ]
    },
    {
     "name": "stdout",
     "output_type": "stream",
     "text": [
      "处理第 172 条： 浙江国祥\n"
     ]
    },
    {
     "name": "stderr",
     "output_type": "stream",
     "text": [
      "\r",
      "172it [00:29,  5.28it/s]"
     ]
    },
    {
     "name": "stdout",
     "output_type": "stream",
     "text": [
      "处理第 173 条： 亚洲硅业\n"
     ]
    },
    {
     "name": "stderr",
     "output_type": "stream",
     "text": [
      "174it [00:30,  4.94it/s]"
     ]
    },
    {
     "name": "stdout",
     "output_type": "stream",
     "text": [
      "处理第 174 条： 中科微至\n",
      "处理第 175 条： 美邦药业\n"
     ]
    },
    {
     "name": "stderr",
     "output_type": "stream",
     "text": [
      "176it [00:30,  5.22it/s]"
     ]
    },
    {
     "name": "stdout",
     "output_type": "stream",
     "text": [
      "处理第 176 条： 海力风电\n"
     ]
    },
    {
     "name": "stderr",
     "output_type": "stream",
     "text": [
      "\r",
      "177it [00:30,  5.37it/s]"
     ]
    },
    {
     "name": "stdout",
     "output_type": "stream",
     "text": [
      "处理第 177 条： 佳缘科技\n",
      "处理第 178 条： 润科生物\n"
     ]
    },
    {
     "name": "stderr",
     "output_type": "stream",
     "text": [
      "179it [00:31,  6.20it/s]"
     ]
    },
    {
     "name": "stdout",
     "output_type": "stream",
     "text": [
      "处理第 179 条： 创耀科技\n",
      "处理第 180 条： 铜冠铜箔\n"
     ]
    },
    {
     "name": "stderr",
     "output_type": "stream",
     "text": [
      "181it [00:31,  6.32it/s]"
     ]
    },
    {
     "name": "stdout",
     "output_type": "stream",
     "text": [
      "处理第 181 条： 中成发展\n",
      "处理第 182 条： 凯尔达\n"
     ]
    },
    {
     "name": "stderr",
     "output_type": "stream",
     "text": [
      "183it [00:31,  6.17it/s]"
     ]
    },
    {
     "name": "stdout",
     "output_type": "stream",
     "text": [
      "处理第 183 条： 珠海鸿瑞\n",
      "处理第 184 条： 奥尼电子\n"
     ]
    },
    {
     "name": "stderr",
     "output_type": "stream",
     "text": [
      "\r",
      "184it [00:31,  6.53it/s]"
     ]
    },
    {
     "name": "stdout",
     "output_type": "stream",
     "text": [
      "处理第 185 条： 凤凰画材\n"
     ]
    },
    {
     "name": "stderr",
     "output_type": "stream",
     "text": [
      "186it [00:32,  6.10it/s]"
     ]
    },
    {
     "name": "stdout",
     "output_type": "stream",
     "text": [
      "处理第 186 条： 汇宇制药\n",
      "处理第 187 条： 乐普诊断\n"
     ]
    },
    {
     "name": "stderr",
     "output_type": "stream",
     "text": [
      "187it [00:32,  6.21it/s]Traceback (most recent call last):\n",
      "  File \"<ipython-input-10-8afee359daaf>\", line 31, in <module>\n",
      "    graph.create(Relationship(stock_node,'CPAFIRM',cpafirm_node,name='会计师事务所'))\n",
      "  File \"C:\\Users\\A\\anaconda3\\lib\\site-packages\\py2neo\\data\\__init__.py\", line 670, in __init__\n",
      "    Entity.__init__(self, (n[0], self, n[1]), properties)\n",
      "  File \"C:\\Users\\A\\anaconda3\\lib\\site-packages\\py2neo\\data\\__init__.py\", line 313, in __init__\n",
      "    Walkable.__init__(self, iterable)\n",
      "  File \"C:\\Users\\A\\anaconda3\\lib\\site-packages\\py2neo\\data\\__init__.py\", line 217, in __init__\n",
      "    _ = node.labels  # ensure not stale\n",
      "AttributeError: 'NoneType' object has no attribute 'labels'\n",
      "188it [00:32,  6.58it/s]"
     ]
    },
    {
     "name": "stdout",
     "output_type": "stream",
     "text": [
      "处理第 188 条： 万达商业\n",
      "处理第 189 条： 云从科技\n"
     ]
    },
    {
     "name": "stderr",
     "output_type": "stream",
     "text": [
      "190it [00:32,  5.22it/s]"
     ]
    },
    {
     "name": "stdout",
     "output_type": "stream",
     "text": [
      "处理第 190 条： 中科英泰\n",
      "处理第 191 条： 杰创智能\n"
     ]
    },
    {
     "name": "stderr",
     "output_type": "stream",
     "text": [
      "192it [00:33,  5.45it/s]"
     ]
    },
    {
     "name": "stdout",
     "output_type": "stream",
     "text": [
      "处理第 192 条： 瑞德智能\n",
      "处理第 193 条： 正济药业\n"
     ]
    },
    {
     "name": "stderr",
     "output_type": "stream",
     "text": [
      "\r",
      "193it [00:33,  4.85it/s]"
     ]
    },
    {
     "name": "stdout",
     "output_type": "stream",
     "text": [
      "处理第 194 条： 汉维科技\n"
     ]
    },
    {
     "name": "stderr",
     "output_type": "stream",
     "text": [
      "195it [00:33,  5.09it/s]"
     ]
    },
    {
     "name": "stdout",
     "output_type": "stream",
     "text": [
      "处理第 195 条： 华兰疫苗\n",
      "处理第 196 条： 丽臣实业\n"
     ]
    },
    {
     "name": "stderr",
     "output_type": "stream",
     "text": [
      "\r",
      "196it [00:34,  5.43it/s]"
     ]
    },
    {
     "name": "stdout",
     "output_type": "stream",
     "text": [
      "处理第 197 条： 中山股份\n"
     ]
    },
    {
     "name": "stderr",
     "output_type": "stream",
     "text": [
      "198it [00:34,  5.45it/s]"
     ]
    },
    {
     "name": "stdout",
     "output_type": "stream",
     "text": [
      "处理第 198 条： 华大智造\n",
      "处理第 199 条： 春雪食品\n"
     ]
    },
    {
     "name": "stderr",
     "output_type": "stream",
     "text": [
      "\r",
      "199it [00:34,  4.64it/s]"
     ]
    },
    {
     "name": "stdout",
     "output_type": "stream",
     "text": [
      "处理第 200 条： 祥明智能\n"
     ]
    },
    {
     "name": "stderr",
     "output_type": "stream",
     "text": [
      "\r",
      "200it [00:35,  4.23it/s]"
     ]
    },
    {
     "name": "stdout",
     "output_type": "stream",
     "text": [
      "处理第 201 条： 云天励飞\n"
     ]
    },
    {
     "name": "stderr",
     "output_type": "stream",
     "text": [
      "202it [00:35,  4.37it/s]"
     ]
    },
    {
     "name": "stdout",
     "output_type": "stream",
     "text": [
      "处理第 202 条： 盛帮股份\n"
     ]
    },
    {
     "name": "stderr",
     "output_type": "stream",
     "text": [
      "\r",
      "203it [00:35,  4.85it/s]"
     ]
    },
    {
     "name": "stdout",
     "output_type": "stream",
     "text": [
      "处理第 203 条： 泓淋电力\n",
      "处理第 204 条： 家鸿口腔\n"
     ]
    },
    {
     "name": "stderr",
     "output_type": "stream",
     "text": [
      "\r",
      "204it [00:36,  2.97it/s]"
     ]
    },
    {
     "name": "stdout",
     "output_type": "stream",
     "text": [
      "处理第 205 条： 军信环保\n"
     ]
    },
    {
     "name": "stderr",
     "output_type": "stream",
     "text": [
      "\r",
      "205it [00:36,  2.47it/s]"
     ]
    },
    {
     "name": "stdout",
     "output_type": "stream",
     "text": [
      "处理第 206 条： 南方路机\n"
     ]
    },
    {
     "name": "stderr",
     "output_type": "stream",
     "text": [
      "\r",
      "206it [00:37,  2.19it/s]"
     ]
    },
    {
     "name": "stdout",
     "output_type": "stream",
     "text": [
      "处理第 207 条： 潜阳科技\n"
     ]
    },
    {
     "name": "stderr",
     "output_type": "stream",
     "text": [
      "\r",
      "207it [00:37,  2.07it/s]"
     ]
    },
    {
     "name": "stdout",
     "output_type": "stream",
     "text": [
      "处理第 208 条： 物产环保\n"
     ]
    },
    {
     "name": "stderr",
     "output_type": "stream",
     "text": [
      "\r",
      "208it [00:38,  1.99it/s]"
     ]
    },
    {
     "name": "stdout",
     "output_type": "stream",
     "text": [
      "处理第 209 条： 木业股份\n"
     ]
    },
    {
     "name": "stderr",
     "output_type": "stream",
     "text": [
      "\r",
      "209it [00:38,  2.08it/s]"
     ]
    },
    {
     "name": "stdout",
     "output_type": "stream",
     "text": [
      "处理第 210 条： 联盛化学\n"
     ]
    },
    {
     "name": "stderr",
     "output_type": "stream",
     "text": [
      "\r",
      "210it [00:39,  2.21it/s]"
     ]
    },
    {
     "name": "stdout",
     "output_type": "stream",
     "text": [
      "处理第 211 条： 宏基建材\n"
     ]
    },
    {
     "name": "stderr",
     "output_type": "stream",
     "text": [
      "\r",
      "211it [00:39,  2.31it/s]"
     ]
    },
    {
     "name": "stdout",
     "output_type": "stream",
     "text": [
      "处理第 212 条： 泰慕士\n"
     ]
    },
    {
     "name": "stderr",
     "output_type": "stream",
     "text": [
      "\r",
      "212it [00:40,  2.04it/s]"
     ]
    },
    {
     "name": "stdout",
     "output_type": "stream",
     "text": [
      "处理第 213 条： 翱捷科技\n"
     ]
    },
    {
     "name": "stderr",
     "output_type": "stream",
     "text": [
      "\r",
      "213it [00:40,  2.35it/s]"
     ]
    },
    {
     "name": "stdout",
     "output_type": "stream",
     "text": [
      "处理第 214 条： 金禄电子\n"
     ]
    },
    {
     "name": "stderr",
     "output_type": "stream",
     "text": [
      "\r",
      "214it [00:41,  2.32it/s]"
     ]
    },
    {
     "name": "stdout",
     "output_type": "stream",
     "text": [
      "处理第 215 条： 熵基科技\n"
     ]
    },
    {
     "name": "stderr",
     "output_type": "stream",
     "text": [
      "216it [00:41,  2.64it/s]"
     ]
    },
    {
     "name": "stdout",
     "output_type": "stream",
     "text": [
      "处理第 216 条： 德威华泰\n",
      "处理第 217 条： 海诺尔\n"
     ]
    },
    {
     "name": "stderr",
     "output_type": "stream",
     "text": [
      "218it [00:42,  3.22it/s]"
     ]
    },
    {
     "name": "stdout",
     "output_type": "stream",
     "text": [
      "处理第 218 条： 国力科技\n",
      "处理第 219 条： 飞南资源\n"
     ]
    },
    {
     "name": "stderr",
     "output_type": "stream",
     "text": [
      "\r",
      "219it [00:42,  2.60it/s]"
     ]
    },
    {
     "name": "stdout",
     "output_type": "stream",
     "text": [
      "处理第 220 条： 晶奇网络\n"
     ]
    },
    {
     "name": "stderr",
     "output_type": "stream",
     "text": [
      "221it [00:43,  3.22it/s]"
     ]
    },
    {
     "name": "stdout",
     "output_type": "stream",
     "text": [
      "处理第 221 条： 迈威生物\n",
      "处理第 222 条： 理工导航\n"
     ]
    },
    {
     "name": "stderr",
     "output_type": "stream",
     "text": [
      "\r",
      "222it [00:43,  3.89it/s]"
     ]
    },
    {
     "name": "stdout",
     "output_type": "stream",
     "text": [
      "处理第 223 条： 永安期货\n"
     ]
    },
    {
     "name": "stderr",
     "output_type": "stream",
     "text": [
      "224it [00:44,  3.96it/s]"
     ]
    },
    {
     "name": "stdout",
     "output_type": "stream",
     "text": [
      "处理第 224 条： 南模生物\n",
      "处理第 225 条： 格林生物\n"
     ]
    },
    {
     "name": "stderr",
     "output_type": "stream",
     "text": [
      "\r",
      "225it [00:44,  2.98it/s]"
     ]
    },
    {
     "name": "stdout",
     "output_type": "stream",
     "text": [
      "处理第 226 条： 万凯新材\n"
     ]
    },
    {
     "name": "stderr",
     "output_type": "stream",
     "text": [
      "227it [00:45,  3.24it/s]"
     ]
    },
    {
     "name": "stdout",
     "output_type": "stream",
     "text": [
      "处理第 227 条： 瑞可达\n",
      "处理第 228 条： 宏德股份\n"
     ]
    },
    {
     "name": "stderr",
     "output_type": "stream",
     "text": [
      "\r",
      "228it [00:45,  2.69it/s]"
     ]
    },
    {
     "name": "stdout",
     "output_type": "stream",
     "text": [
      "处理第 229 条： 赛维时代\n"
     ]
    },
    {
     "name": "stderr",
     "output_type": "stream",
     "text": [
      "\r",
      "229it [00:46,  2.54it/s]"
     ]
    },
    {
     "name": "stdout",
     "output_type": "stream",
     "text": [
      "处理第 230 条： 锐捷网络\n"
     ]
    },
    {
     "name": "stderr",
     "output_type": "stream",
     "text": [
      "\r",
      "230it [00:46,  2.34it/s]"
     ]
    },
    {
     "name": "stdout",
     "output_type": "stream",
     "text": [
      "处理第 231 条： 珈创生物\n"
     ]
    },
    {
     "name": "stderr",
     "output_type": "stream",
     "text": [
      "\r",
      "231it [00:46,  2.75it/s]"
     ]
    },
    {
     "name": "stdout",
     "output_type": "stream",
     "text": [
      "处理第 232 条： 中钢洛耐\n"
     ]
    },
    {
     "name": "stderr",
     "output_type": "stream",
     "text": [
      "\r",
      "232it [00:47,  3.02it/s]"
     ]
    },
    {
     "name": "stdout",
     "output_type": "stream",
     "text": [
      "处理第 233 条： 恒兴科技\n"
     ]
    },
    {
     "name": "stderr",
     "output_type": "stream",
     "text": [
      "\r",
      "233it [00:47,  2.70it/s]"
     ]
    },
    {
     "name": "stdout",
     "output_type": "stream",
     "text": [
      "处理第 234 条： 赛维时代\n"
     ]
    },
    {
     "name": "stderr",
     "output_type": "stream",
     "text": [
      "235it [00:48,  3.58it/s]"
     ]
    },
    {
     "name": "stdout",
     "output_type": "stream",
     "text": [
      "处理第 235 条： 高铁电气\n",
      "处理第 236 条： 三元生物\n"
     ]
    },
    {
     "name": "stderr",
     "output_type": "stream",
     "text": [
      "\r",
      "236it [00:48,  3.08it/s]"
     ]
    },
    {
     "name": "stdout",
     "output_type": "stream",
     "text": [
      "处理第 237 条： 皓泽电子\n"
     ]
    },
    {
     "name": "stderr",
     "output_type": "stream",
     "text": [
      "\r",
      "237it [00:48,  2.85it/s]"
     ]
    },
    {
     "name": "stdout",
     "output_type": "stream",
     "text": [
      "处理第 238 条： 东贝集团\n"
     ]
    },
    {
     "name": "stderr",
     "output_type": "stream",
     "text": [
      "239it [00:49,  3.64it/s]"
     ]
    },
    {
     "name": "stdout",
     "output_type": "stream",
     "text": [
      "处理第 239 条： 春立医疗\n",
      "处理第 240 条： 广合科技\n"
     ]
    },
    {
     "name": "stderr",
     "output_type": "stream",
     "text": [
      "\r",
      "240it [00:49,  4.30it/s]"
     ]
    },
    {
     "name": "stdout",
     "output_type": "stream",
     "text": [
      "处理第 241 条： 宏微科技\n"
     ]
    },
    {
     "name": "stderr",
     "output_type": "stream",
     "text": [
      "\r",
      "241it [00:49,  4.56it/s]"
     ]
    },
    {
     "name": "stdout",
     "output_type": "stream",
     "text": [
      "处理第 242 条： 采纳科技\n"
     ]
    },
    {
     "name": "stderr",
     "output_type": "stream",
     "text": [
      "\r",
      "242it [00:50,  3.46it/s]"
     ]
    },
    {
     "name": "stdout",
     "output_type": "stream",
     "text": [
      "处理第 243 条： 呀诺达\n"
     ]
    },
    {
     "name": "stderr",
     "output_type": "stream",
     "text": [
      "244it [00:50,  3.56it/s]"
     ]
    },
    {
     "name": "stdout",
     "output_type": "stream",
     "text": [
      "处理第 244 条： 容汇锂业\n",
      "处理第 245 条： 恒伦医疗\n"
     ]
    },
    {
     "name": "stderr",
     "output_type": "stream",
     "text": [
      "\r",
      "245it [00:51,  2.91it/s]"
     ]
    },
    {
     "name": "stdout",
     "output_type": "stream",
     "text": [
      "处理第 246 条： 沃得农机\n"
     ]
    },
    {
     "name": "stderr",
     "output_type": "stream",
     "text": [
      "\r",
      "246it [00:51,  2.57it/s]"
     ]
    },
    {
     "name": "stdout",
     "output_type": "stream",
     "text": [
      "处理第 247 条： 维尼健康\n"
     ]
    },
    {
     "name": "stderr",
     "output_type": "stream",
     "text": [
      "\r",
      "247it [00:52,  2.56it/s]"
     ]
    },
    {
     "name": "stdout",
     "output_type": "stream",
     "text": [
      "处理第 248 条： 陕西旅游\n"
     ]
    },
    {
     "name": "stderr",
     "output_type": "stream",
     "text": [
      "\r",
      "248it [00:52,  2.40it/s]"
     ]
    },
    {
     "name": "stdout",
     "output_type": "stream",
     "text": [
      "处理第 249 条： 博蓝特\n"
     ]
    },
    {
     "name": "stderr",
     "output_type": "stream",
     "text": [
      "\r",
      "249it [00:52,  2.84it/s]"
     ]
    },
    {
     "name": "stdout",
     "output_type": "stream",
     "text": [
      "处理第 250 条： 智特奇\n"
     ]
    },
    {
     "name": "stderr",
     "output_type": "stream",
     "text": [
      "251it [00:53,  3.23it/s]"
     ]
    },
    {
     "name": "stdout",
     "output_type": "stream",
     "text": [
      "处理第 251 条： 斯瑞新材\n",
      "处理第 252 条： 衣拿智能\n"
     ]
    },
    {
     "name": "stderr",
     "output_type": "stream",
     "text": [
      "253it [00:53,  4.13it/s]"
     ]
    },
    {
     "name": "stdout",
     "output_type": "stream",
     "text": [
      "处理第 253 条： 诺唯赞\n",
      "处理第 254 条： 鑫远股份\n"
     ]
    },
    {
     "name": "stderr",
     "output_type": "stream",
     "text": [
      "\r",
      "254it [00:54,  3.50it/s]"
     ]
    },
    {
     "name": "stdout",
     "output_type": "stream",
     "text": [
      "处理第 255 条： 澳华内镜\n"
     ]
    },
    {
     "name": "stderr",
     "output_type": "stream",
     "text": [
      "256it [00:54,  4.24it/s]"
     ]
    },
    {
     "name": "stdout",
     "output_type": "stream",
     "text": [
      "处理第 256 条： 华强科技\n",
      "处理第 257 条： 纽泰格\n"
     ]
    },
    {
     "name": "stderr",
     "output_type": "stream",
     "text": [
      "\r",
      "257it [00:55,  3.08it/s]"
     ]
    },
    {
     "name": "stdout",
     "output_type": "stream",
     "text": [
      "处理第 258 条： 凡拓数创\n"
     ]
    },
    {
     "name": "stderr",
     "output_type": "stream",
     "text": [
      "\r",
      "258it [00:55,  2.56it/s]"
     ]
    },
    {
     "name": "stdout",
     "output_type": "stream",
     "text": [
      "处理第 259 条： 华鸿科技\n"
     ]
    },
    {
     "name": "stderr",
     "output_type": "stream",
     "text": [
      "\r",
      "259it [00:55,  2.53it/s]"
     ]
    },
    {
     "name": "stdout",
     "output_type": "stream",
     "text": [
      "处理第 260 条： 菲鹏生物\n"
     ]
    },
    {
     "name": "stderr",
     "output_type": "stream",
     "text": [
      "\r",
      "260it [00:56,  2.55it/s]"
     ]
    },
    {
     "name": "stdout",
     "output_type": "stream",
     "text": [
      "处理第 261 条： 凌玮科技\n"
     ]
    },
    {
     "name": "stderr",
     "output_type": "stream",
     "text": [
      "262it [00:57,  2.80it/s]"
     ]
    },
    {
     "name": "stdout",
     "output_type": "stream",
     "text": [
      "处理第 262 条： 百子尖\n",
      "处理第 263 条： 万香科技\n"
     ]
    },
    {
     "name": "stderr",
     "output_type": "stream",
     "text": [
      "\r",
      "263it [00:57,  2.49it/s]"
     ]
    },
    {
     "name": "stdout",
     "output_type": "stream",
     "text": [
      "处理第 264 条： 载德科技\n"
     ]
    },
    {
     "name": "stderr",
     "output_type": "stream",
     "text": [
      "\r",
      "264it [00:58,  2.17it/s]"
     ]
    },
    {
     "name": "stdout",
     "output_type": "stream",
     "text": [
      "处理第 265 条： 优学天下\n"
     ]
    },
    {
     "name": "stderr",
     "output_type": "stream",
     "text": [
      "\r",
      "265it [00:58,  2.13it/s]"
     ]
    },
    {
     "name": "stdout",
     "output_type": "stream",
     "text": [
      "处理第 266 条： 华融化学\n"
     ]
    },
    {
     "name": "stderr",
     "output_type": "stream",
     "text": [
      "\r",
      "266it [00:59,  2.25it/s]"
     ]
    },
    {
     "name": "stdout",
     "output_type": "stream",
     "text": [
      "处理第 267 条： 华科仪\n"
     ]
    },
    {
     "name": "stderr",
     "output_type": "stream",
     "text": [
      "268it [00:59,  2.75it/s]"
     ]
    },
    {
     "name": "stdout",
     "output_type": "stream",
     "text": [
      "处理第 268 条： 泛海统联\n",
      "处理第 269 条： 巨一科技\n"
     ]
    },
    {
     "name": "stderr",
     "output_type": "stream",
     "text": [
      "\r",
      "269it [00:59,  3.40it/s]"
     ]
    },
    {
     "name": "stdout",
     "output_type": "stream",
     "text": [
      "处理第 270 条： 和烁丰\n"
     ]
    },
    {
     "name": "stderr",
     "output_type": "stream",
     "text": [
      "271it [01:00,  3.41it/s]"
     ]
    },
    {
     "name": "stdout",
     "output_type": "stream",
     "text": [
      "处理第 271 条： 中科仪\n",
      "处理第 272 条： 美的连\n"
     ]
    },
    {
     "name": "stderr",
     "output_type": "stream",
     "text": [
      "\r",
      "272it [01:00,  3.08it/s]"
     ]
    },
    {
     "name": "stdout",
     "output_type": "stream",
     "text": [
      "处理第 273 条： 千里马\n"
     ]
    },
    {
     "name": "stderr",
     "output_type": "stream",
     "text": [
      "\r",
      "273it [01:01,  2.85it/s]"
     ]
    },
    {
     "name": "stdout",
     "output_type": "stream",
     "text": [
      "处理第 274 条： 铭利达\n"
     ]
    },
    {
     "name": "stderr",
     "output_type": "stream",
     "text": [
      "\r",
      "274it [01:01,  2.69it/s]"
     ]
    },
    {
     "name": "stdout",
     "output_type": "stream",
     "text": [
      "处理第 275 条： 伟邦科技\n"
     ]
    },
    {
     "name": "stderr",
     "output_type": "stream",
     "text": [
      "\r",
      "275it [01:02,  2.39it/s]"
     ]
    },
    {
     "name": "stdout",
     "output_type": "stream",
     "text": [
      "处理第 276 条： 华泰永创\n"
     ]
    },
    {
     "name": "stderr",
     "output_type": "stream",
     "text": [
      "\r",
      "276it [01:02,  2.44it/s]"
     ]
    },
    {
     "name": "stdout",
     "output_type": "stream",
     "text": [
      "处理第 277 条： 重数传媒\n"
     ]
    },
    {
     "name": "stderr",
     "output_type": "stream",
     "text": [
      "\r",
      "277it [01:03,  2.27it/s]"
     ]
    },
    {
     "name": "stdout",
     "output_type": "stream",
     "text": [
      "处理第 278 条： 才府玻璃\n"
     ]
    },
    {
     "name": "stderr",
     "output_type": "stream",
     "text": [
      "\r",
      "278it [01:03,  2.12it/s]"
     ]
    },
    {
     "name": "stdout",
     "output_type": "stream",
     "text": [
      "处理第 279 条： 金田新材\n"
     ]
    },
    {
     "name": "stderr",
     "output_type": "stream",
     "text": [
      "\r",
      "279it [01:04,  2.14it/s]"
     ]
    },
    {
     "name": "stdout",
     "output_type": "stream",
     "text": [
      "处理第 280 条： 大鹏工业\n"
     ]
    },
    {
     "name": "stderr",
     "output_type": "stream",
     "text": [
      "\r",
      "280it [01:04,  2.15it/s]"
     ]
    },
    {
     "name": "stdout",
     "output_type": "stream",
     "text": [
      "处理第 281 条： 金道科技\n"
     ]
    },
    {
     "name": "stderr",
     "output_type": "stream",
     "text": [
      "\r",
      "281it [01:05,  2.06it/s]"
     ]
    },
    {
     "name": "stdout",
     "output_type": "stream",
     "text": [
      "处理第 282 条： 天沅环保\n"
     ]
    },
    {
     "name": "stderr",
     "output_type": "stream",
     "text": [
      "283it [01:05,  2.73it/s]"
     ]
    },
    {
     "name": "stdout",
     "output_type": "stream",
     "text": [
      "处理第 283 条： 瑞博生物\n",
      "处理第 284 条： 瑞泰新材\n"
     ]
    },
    {
     "name": "stderr",
     "output_type": "stream",
     "text": [
      "\r",
      "284it [01:06,  2.26it/s]"
     ]
    },
    {
     "name": "stdout",
     "output_type": "stream",
     "text": [
      "处理第 285 条： 华鹏仪表\n"
     ]
    },
    {
     "name": "stderr",
     "output_type": "stream",
     "text": [
      "\r",
      "285it [01:06,  2.09it/s]"
     ]
    },
    {
     "name": "stdout",
     "output_type": "stream",
     "text": [
      "处理第 286 条： 黎明智造\n"
     ]
    },
    {
     "name": "stderr",
     "output_type": "stream",
     "text": [
      "\r",
      "286it [01:07,  2.07it/s]"
     ]
    },
    {
     "name": "stdout",
     "output_type": "stream",
     "text": [
      "处理第 287 条： 腾亚精工\n"
     ]
    },
    {
     "name": "stderr",
     "output_type": "stream",
     "text": [
      "\r",
      "287it [01:07,  2.11it/s]"
     ]
    },
    {
     "name": "stdout",
     "output_type": "stream",
     "text": [
      "处理第 288 条： 森鹰窗业\n"
     ]
    },
    {
     "name": "stderr",
     "output_type": "stream",
     "text": [
      "\r",
      "288it [01:08,  2.06it/s]"
     ]
    },
    {
     "name": "stdout",
     "output_type": "stream",
     "text": [
      "处理第 289 条： 建科集团\n"
     ]
    },
    {
     "name": "stderr",
     "output_type": "stream",
     "text": [
      "\r",
      "289it [01:08,  1.96it/s]"
     ]
    },
    {
     "name": "stdout",
     "output_type": "stream",
     "text": [
      "处理第 290 条： 华是科技\n"
     ]
    },
    {
     "name": "stderr",
     "output_type": "stream",
     "text": [
      "\r",
      "290it [01:09,  1.93it/s]"
     ]
    },
    {
     "name": "stdout",
     "output_type": "stream",
     "text": [
      "处理第 291 条： 九洲恒昌\n"
     ]
    },
    {
     "name": "stderr",
     "output_type": "stream",
     "text": [
      "\r",
      "291it [01:09,  1.91it/s]"
     ]
    },
    {
     "name": "stdout",
     "output_type": "stream",
     "text": [
      "处理第 292 条： 三问家居\n"
     ]
    },
    {
     "name": "stderr",
     "output_type": "stream",
     "text": [
      "\r",
      "292it [01:10,  1.89it/s]"
     ]
    },
    {
     "name": "stdout",
     "output_type": "stream",
     "text": [
      "处理第 293 条： 哈焊华通\n"
     ]
    },
    {
     "name": "stderr",
     "output_type": "stream",
     "text": [
      "\r",
      "293it [01:11,  1.85it/s]"
     ]
    },
    {
     "name": "stdout",
     "output_type": "stream",
     "text": [
      "处理第 294 条： 白马药业\n"
     ]
    },
    {
     "name": "stderr",
     "output_type": "stream",
     "text": [
      "\r",
      "294it [01:11,  1.74it/s]"
     ]
    },
    {
     "name": "stdout",
     "output_type": "stream",
     "text": [
      "处理第 295 条： 益丰股份\n"
     ]
    },
    {
     "name": "stderr",
     "output_type": "stream",
     "text": [
      "\r",
      "295it [01:11,  2.03it/s]"
     ]
    },
    {
     "name": "stdout",
     "output_type": "stream",
     "text": [
      "处理第 296 条： 中科环保\n"
     ]
    },
    {
     "name": "stderr",
     "output_type": "stream",
     "text": [
      "\r",
      "296it [01:12,  1.86it/s]"
     ]
    },
    {
     "name": "stdout",
     "output_type": "stream",
     "text": [
      "处理第 297 条： 骏成科技\n"
     ]
    },
    {
     "name": "stderr",
     "output_type": "stream",
     "text": [
      "\r",
      "297it [01:13,  1.80it/s]"
     ]
    },
    {
     "name": "stdout",
     "output_type": "stream",
     "text": [
      "处理第 298 条： 翼辰实业\n"
     ]
    },
    {
     "name": "stderr",
     "output_type": "stream",
     "text": [
      "\r",
      "298it [01:13,  1.77it/s]"
     ]
    },
    {
     "name": "stdout",
     "output_type": "stream",
     "text": [
      "处理第 299 条： 三博脑科\n"
     ]
    },
    {
     "name": "stderr",
     "output_type": "stream",
     "text": [
      "\r",
      "299it [01:14,  1.74it/s]"
     ]
    },
    {
     "name": "stdout",
     "output_type": "stream",
     "text": [
      "处理第 300 条： 国芯科技\n"
     ]
    },
    {
     "name": "stderr",
     "output_type": "stream",
     "text": [
      "\r",
      "300it [01:14,  1.97it/s]"
     ]
    },
    {
     "name": "stdout",
     "output_type": "stream",
     "text": [
      "处理第 301 条： 坤隆股份\n"
     ]
    },
    {
     "name": "stderr",
     "output_type": "stream",
     "text": [
      "\r",
      "301it [01:15,  1.86it/s]"
     ]
    },
    {
     "name": "stdout",
     "output_type": "stream",
     "text": [
      "处理第 302 条： 世佳科技\n"
     ]
    },
    {
     "name": "stderr",
     "output_type": "stream",
     "text": [
      "\r",
      "302it [01:16,  1.76it/s]"
     ]
    },
    {
     "name": "stdout",
     "output_type": "stream",
     "text": [
      "处理第 303 条： 一博科技\n"
     ]
    },
    {
     "name": "stderr",
     "output_type": "stream",
     "text": [
      "\r",
      "303it [01:16,  1.77it/s]"
     ]
    },
    {
     "name": "stdout",
     "output_type": "stream",
     "text": [
      "处理第 304 条： 禾迈股份\n"
     ]
    },
    {
     "name": "stderr",
     "output_type": "stream",
     "text": [
      "\r",
      "304it [01:16,  2.08it/s]"
     ]
    },
    {
     "name": "stdout",
     "output_type": "stream",
     "text": [
      "处理第 305 条： 易来智能\n"
     ]
    },
    {
     "name": "stderr",
     "output_type": "stream",
     "text": [
      "\r",
      "305it [01:17,  2.32it/s]"
     ]
    },
    {
     "name": "stdout",
     "output_type": "stream",
     "text": [
      "处理第 306 条： 炬芯科技\n"
     ]
    },
    {
     "name": "stderr",
     "output_type": "stream",
     "text": [
      "\r",
      "306it [01:17,  2.42it/s]"
     ]
    },
    {
     "name": "stdout",
     "output_type": "stream",
     "text": [
      "处理第 307 条： 中汽试验\n"
     ]
    },
    {
     "name": "stderr",
     "output_type": "stream",
     "text": [
      "\r",
      "307it [01:18,  2.12it/s]"
     ]
    },
    {
     "name": "stdout",
     "output_type": "stream",
     "text": [
      "处理第 308 条： 信德新材\n"
     ]
    },
    {
     "name": "stderr",
     "output_type": "stream",
     "text": [
      "\r",
      "308it [01:18,  1.98it/s]"
     ]
    },
    {
     "name": "stdout",
     "output_type": "stream",
     "text": [
      "处理第 309 条： 木仓科技\n"
     ]
    },
    {
     "name": "stderr",
     "output_type": "stream",
     "text": [
      "\r",
      "309it [01:19,  1.90it/s]"
     ]
    },
    {
     "name": "stdout",
     "output_type": "stream",
     "text": [
      "处理第 310 条： 时代装饰\n"
     ]
    },
    {
     "name": "stderr",
     "output_type": "stream",
     "text": [
      "\r",
      "310it [01:19,  2.24it/s]"
     ]
    },
    {
     "name": "stdout",
     "output_type": "stream",
     "text": [
      "处理第 311 条： 龙华薄膜\n"
     ]
    },
    {
     "name": "stderr",
     "output_type": "stream",
     "text": [
      "\r",
      "311it [01:20,  2.17it/s]"
     ]
    },
    {
     "name": "stdout",
     "output_type": "stream",
     "text": [
      "处理第 312 条： 中自环保\n"
     ]
    },
    {
     "name": "stderr",
     "output_type": "stream",
     "text": [
      "\r",
      "312it [01:20,  2.46it/s]"
     ]
    },
    {
     "name": "stdout",
     "output_type": "stream",
     "text": [
      "处理第 313 条： 旭宇光电\n"
     ]
    },
    {
     "name": "stderr",
     "output_type": "stream",
     "text": [
      "\r",
      "313it [01:20,  2.55it/s]"
     ]
    },
    {
     "name": "stdout",
     "output_type": "stream",
     "text": [
      "处理第 314 条： 石羊农科\n"
     ]
    },
    {
     "name": "stderr",
     "output_type": "stream",
     "text": [
      "\r",
      "314it [01:21,  2.63it/s]"
     ]
    },
    {
     "name": "stdout",
     "output_type": "stream",
     "text": [
      "处理第 315 条： 中车时代电气\n"
     ]
    },
    {
     "name": "stderr",
     "output_type": "stream",
     "text": [
      "\r",
      "315it [01:21,  2.84it/s]"
     ]
    },
    {
     "name": "stdout",
     "output_type": "stream",
     "text": [
      "处理第 316 条： 华康世纪\n"
     ]
    },
    {
     "name": "stderr",
     "output_type": "stream",
     "text": [
      "\r",
      "316it [01:21,  2.28it/s]"
     ]
    },
    {
     "name": "stdout",
     "output_type": "stream",
     "text": [
      "处理第 317 条： 久策气体\n"
     ]
    },
    {
     "name": "stderr",
     "output_type": "stream",
     "text": [
      "\r",
      "317it [01:22,  2.14it/s]"
     ]
    },
    {
     "name": "stdout",
     "output_type": "stream",
     "text": [
      "处理第 318 条： 嘉曼服饰\n"
     ]
    },
    {
     "name": "stderr",
     "output_type": "stream",
     "text": [
      "\r",
      "318it [01:22,  2.42it/s]"
     ]
    },
    {
     "name": "stdout",
     "output_type": "stream",
     "text": [
      "处理第 319 条： 江泰保险\n"
     ]
    },
    {
     "name": "stderr",
     "output_type": "stream",
     "text": [
      "\r",
      "319it [01:23,  2.64it/s]"
     ]
    },
    {
     "name": "stdout",
     "output_type": "stream",
     "text": [
      "处理第 320 条： 宽创国际\n"
     ]
    },
    {
     "name": "stderr",
     "output_type": "stream",
     "text": [
      "\r",
      "320it [01:23,  2.90it/s]"
     ]
    },
    {
     "name": "stdout",
     "output_type": "stream",
     "text": [
      "处理第 321 条： 建材科技\n"
     ]
    },
    {
     "name": "stderr",
     "output_type": "stream",
     "text": [
      "\r",
      "321it [01:23,  3.27it/s]"
     ]
    },
    {
     "name": "stdout",
     "output_type": "stream",
     "text": [
      "处理第 322 条： 才府玻璃\n"
     ]
    },
    {
     "name": "stderr",
     "output_type": "stream",
     "text": [
      "323it [01:24,  3.77it/s]"
     ]
    },
    {
     "name": "stdout",
     "output_type": "stream",
     "text": [
      "处理第 323 条： 光庭信息\n",
      "处理第 324 条： 和烁丰\n"
     ]
    },
    {
     "name": "stderr",
     "output_type": "stream",
     "text": [
      "\r",
      "324it [01:24,  3.76it/s]"
     ]
    },
    {
     "name": "stdout",
     "output_type": "stream",
     "text": [
      "处理第 325 条： 蓝色星际\n"
     ]
    },
    {
     "name": "stderr",
     "output_type": "stream",
     "text": [
      "\r",
      "325it [01:24,  3.90it/s]"
     ]
    },
    {
     "name": "stdout",
     "output_type": "stream",
     "text": [
      "处理第 326 条： 汉仪股份\n"
     ]
    },
    {
     "name": "stderr",
     "output_type": "stream",
     "text": [
      "\r",
      "326it [01:24,  3.91it/s]"
     ]
    },
    {
     "name": "stdout",
     "output_type": "stream",
     "text": [
      "处理第 327 条： 合富股份\n"
     ]
    },
    {
     "name": "stderr",
     "output_type": "stream",
     "text": [
      "328it [01:25,  4.26it/s]"
     ]
    },
    {
     "name": "stdout",
     "output_type": "stream",
     "text": [
      "处理第 328 条： 纽克斯\n",
      "处理第 329 条： 海看股份\n"
     ]
    },
    {
     "name": "stderr",
     "output_type": "stream",
     "text": [
      "\r",
      "329it [01:25,  4.14it/s]"
     ]
    },
    {
     "name": "stdout",
     "output_type": "stream",
     "text": [
      "处理第 330 条： 汇通建设\n"
     ]
    },
    {
     "name": "stderr",
     "output_type": "stream",
     "text": [
      "\r",
      "330it [01:25,  3.36it/s]"
     ]
    },
    {
     "name": "stdout",
     "output_type": "stream",
     "text": [
      "处理第 331 条： 唯万密封\n"
     ]
    },
    {
     "name": "stderr",
     "output_type": "stream",
     "text": [
      "332it [01:26,  3.97it/s]"
     ]
    },
    {
     "name": "stdout",
     "output_type": "stream",
     "text": [
      "处理第 332 条： 怡和嘉业\n",
      "处理第 333 条： 振华新材\n"
     ]
    },
    {
     "name": "stderr",
     "output_type": "stream",
     "text": [
      "334it [01:26,  4.36it/s]"
     ]
    },
    {
     "name": "stdout",
     "output_type": "stream",
     "text": [
      "处理第 334 条： 禾赛科技\n",
      "处理第 335 条： 鄂旅股份\n"
     ]
    },
    {
     "name": "stderr",
     "output_type": "stream",
     "text": [
      "\r",
      "335it [01:27,  3.97it/s]"
     ]
    },
    {
     "name": "stdout",
     "output_type": "stream",
     "text": [
      "处理第 336 条： 金通高纤\n"
     ]
    },
    {
     "name": "stderr",
     "output_type": "stream",
     "text": [
      "\r",
      "336it [01:27,  3.56it/s]"
     ]
    },
    {
     "name": "stdout",
     "output_type": "stream",
     "text": [
      "处理第 337 条： 环洋股份\n"
     ]
    },
    {
     "name": "stderr",
     "output_type": "stream",
     "text": [
      "\r",
      "337it [01:27,  3.81it/s]"
     ]
    },
    {
     "name": "stdout",
     "output_type": "stream",
     "text": [
      "处理第 338 条： 富吉瑞\n"
     ]
    },
    {
     "name": "stderr",
     "output_type": "stream",
     "text": [
      "338it [01:27,  4.09it/s]Traceback (most recent call last):\n",
      "  File \"<ipython-input-10-8afee359daaf>\", line 31, in <module>\n",
      "    graph.create(Relationship(stock_node,'CPAFIRM',cpafirm_node,name='会计师事务所'))\n",
      "  File \"C:\\Users\\A\\anaconda3\\lib\\site-packages\\py2neo\\data\\__init__.py\", line 670, in __init__\n",
      "    Entity.__init__(self, (n[0], self, n[1]), properties)\n",
      "  File \"C:\\Users\\A\\anaconda3\\lib\\site-packages\\py2neo\\data\\__init__.py\", line 313, in __init__\n",
      "    Walkable.__init__(self, iterable)\n",
      "  File \"C:\\Users\\A\\anaconda3\\lib\\site-packages\\py2neo\\data\\__init__.py\", line 217, in __init__\n",
      "    _ = node.labels  # ensure not stale\n",
      "AttributeError: 'NoneType' object has no attribute 'labels'\n",
      "339it [01:27,  3.86it/s]"
     ]
    },
    {
     "name": "stdout",
     "output_type": "stream",
     "text": [
      "处理第 339 条： 卓然股份\n"
     ]
    },
    {
     "name": "stderr",
     "output_type": "stream",
     "text": [
      "\n"
     ]
    }
   ],
   "source": [
    "from py2neo import Graph,Node,Relationship,NodeMatcher,RelationshipMatcher\n",
    "from LAC import LAC\n",
    "from tqdm import tqdm\n",
    "lac = LAC(mode='lac')\n",
    "graph=Graph('http://localhost:7474/db/data/',name='stock',username='neo4j',password='neo4j')\n",
    "rmatcher = RelationshipMatcher(graph)\n",
    "import traceback\n",
    "\n",
    "i = 0\n",
    "\n",
    "for index,stock in tqdm(finance.run_query(query(finance.STK_COMPANY_INFO).filter(finance.STK_COMPANY_INFO.id>39346)).iterrows()):\n",
    "    try:\n",
    "        i += 1\n",
    "        print('处理第',i,'条：',stock['short_name'])\n",
    "        stock_code = stock['code']\n",
    "        stock_name = stock['short_name']\n",
    "        stock_full_name = stock['full_name']\n",
    "\n",
    "        province = stock['province']\n",
    "        city = stock['city']\n",
    "        industry_1 = stock['industry_1']\n",
    "        industry_2 = stock['industry_2']\n",
    "        cpafirm = stock['cpafirm']\n",
    "        lawfirm = stock['lawfirm']\n",
    "        stock_node = graph.nodes.match('COMPANY',name=stock_full_name).first()\n",
    "        \n",
    "        cpafirm_node = graph.nodes.match('ORGANIZATION',name=cpafirm).first()\n",
    "        if cpafirm_node is None:\n",
    "            graph.create(Node('ORGANIZATION',name=cpafirm))\n",
    "            cpafirm_node = graph.nodes.match('ORGANIZATION',name=cpafirm).first()\n",
    "        graph.create(Relationship(stock_node,'CPAFIRM',cpafirm_node,name='会计师事务所'))\n",
    "        \n",
    "        lawfirm_node = graph.nodes.match('ORGANIZATION',name=lawfirm).first()\n",
    "        if lawfirm_node is None:\n",
    "            graph.create(Node('ORGANIZATION',name=lawfirm))\n",
    "            lawfirm_node = graph.nodes.match('ORGANIZATION',name=lawfirm).first()\n",
    "        graph.create(Relationship(stock_node,'LAWFIRM',lawfirm_node,name='律师事务所'))\n",
    "        \n",
    "        province_node = graph.nodes.match('PROVINCE',name=province).first()\n",
    "        if province_node is None:\n",
    "            graph.create(Node('PROVINCE',name=province))\n",
    "            province_node = graph.nodes.match('PROVINCE',name=province).first()\n",
    "        graph.create(Relationship(stock_node,'LOCATE_PROVINCE',province_node,name='所属省份'))\n",
    "        \n",
    "        city_node = graph.nodes.match('CITY',name=city).first()\n",
    "        if city_node is None:\n",
    "            graph.create(Node('CITY',name=city))\n",
    "            city_node = graph.nodes.match('CITY',name=city).first()\n",
    "        graph.create(Relationship(stock_node,'LOCATE_CITY',city_node,name='所属城市'))\n",
    "        \n",
    "        industry_node1 = graph.nodes.match('INDUSTRY1',name=industry_1).first()\n",
    "        if industry_node1 is None:\n",
    "            graph.create(Node('INDUSTRY1',name=industry_1))\n",
    "            industry_node1 = graph.nodes.match('INDUSTRY1',name=industry_1).first()\n",
    "        graph.create(Relationship(stock_node,'INDUSTRY1_OF',industry_node1,name='所属一级行业'))\n",
    "        \n",
    "        industry_node2 = graph.nodes.match('INDUSTRY2',name=industry_2).first()\n",
    "        if industry_node2 is None:\n",
    "            graph.create(Node('INDUSTRY2',name=industry_2))\n",
    "            industry_node2 = graph.nodes.match('INDUSTRY2',name=industry_2).first()\n",
    "        graph.create(Relationship(stock_node,'INDUSTRY2_OF',industry_node2,name='所属二级行业'))\n",
    "        \n",
    "    except:\n",
    "        traceback.print_exc()"
   ]
  },
  {
   "cell_type": "code",
   "execution_count": 5,
   "metadata": {},
   "outputs": [
    {
     "name": "stdout",
     "output_type": "stream",
     "text": [
      "   company_name         code    pub_date  start_date    end_date  \\\n",
      "0   贵州茅台酒股份有限公司  600519.XSHG  2015-04-21  2014-01-01  2014-12-31   \n",
      "1   贵州茅台酒股份有限公司  600519.XSHG  2015-04-21  2015-01-01  2015-03-31   \n",
      "2   贵州茅台酒股份有限公司  600519.XSHG  2015-08-28  2015-01-01  2015-06-30   \n",
      "3   贵州茅台酒股份有限公司  600519.XSHG  2015-10-23  2015-01-01  2015-09-30   \n",
      "4   贵州茅台酒股份有限公司  600519.XSHG  2016-03-24  2015-01-01  2015-12-31   \n",
      "5   贵州茅台酒股份有限公司  600519.XSHG  2016-04-21  2016-01-01  2016-03-31   \n",
      "6   贵州茅台酒股份有限公司  600519.XSHG  2016-08-27  2016-01-01  2016-06-30   \n",
      "7   贵州茅台酒股份有限公司  600519.XSHG  2016-10-29  2016-01-01  2016-09-30   \n",
      "8   贵州茅台酒股份有限公司  600519.XSHG  2017-04-15  2016-01-01  2016-12-31   \n",
      "9   贵州茅台酒股份有限公司  600519.XSHG  2017-04-25  2017-01-01  2017-03-31   \n",
      "10  贵州茅台酒股份有限公司  600519.XSHG  2017-07-28  2017-01-01  2017-06-30   \n",
      "11  贵州茅台酒股份有限公司  600519.XSHG  2017-10-26  2017-01-01  2017-09-30   \n",
      "12  贵州茅台酒股份有限公司  600519.XSHG  2018-03-28  2017-01-01  2017-12-31   \n",
      "13  贵州茅台酒股份有限公司  600519.XSHG  2018-04-28  2018-01-01  2018-03-31   \n",
      "14  贵州茅台酒股份有限公司  600519.XSHG  2018-08-02  2018-01-01  2018-06-30   \n",
      "15  贵州茅台酒股份有限公司  600519.XSHG  2018-10-29  2018-01-01  2018-09-30   \n",
      "16  贵州茅台酒股份有限公司  600519.XSHG  2019-03-29  2018-01-01  2018-12-31   \n",
      "17  贵州茅台酒股份有限公司  600519.XSHG  2019-04-25  2019-01-01  2019-03-31   \n",
      "18  贵州茅台酒股份有限公司  600519.XSHG  2019-07-18  2019-01-01  2019-06-30   \n",
      "19  贵州茅台酒股份有限公司  600519.XSHG  2019-10-16  2019-01-01  2019-09-30   \n",
      "\n",
      "    total_operating_revenue  np_parent_company_owners  \n",
      "0              3.221721e+10              1.534980e+10  \n",
      "1              8.760368e+09              4.364902e+09  \n",
      "2              1.618565e+10              7.888232e+09  \n",
      "3              2.373432e+10              1.142464e+10  \n",
      "4              3.344686e+10              1.550309e+10  \n",
      "5              1.025087e+10              4.889272e+09  \n",
      "6              1.873762e+10              8.802637e+09  \n",
      "7              2.753274e+10              1.246558e+10  \n",
      "8              4.015508e+10              1.671836e+10  \n",
      "9              1.391341e+10              6.123119e+09  \n",
      "10             2.549390e+10              1.125086e+10  \n",
      "11             4.448737e+10              1.998385e+10  \n",
      "12             6.106276e+10              2.707936e+10  \n",
      "13             1.839526e+10              8.506907e+09  \n",
      "14             3.525146e+10              1.576419e+10  \n",
      "15             5.496927e+10              2.473355e+10  \n",
      "16             7.719938e+10              3.520363e+10  \n",
      "17             2.248053e+10              1.122143e+10  \n",
      "18             4.117268e+10              1.995103e+10  \n",
      "19             6.350866e+10              3.045486e+10  \n"
     ]
    }
   ],
   "source": [
    "q=query(finance.STK_INCOME_STATEMENT.company_name,\n",
    "        finance.STK_INCOME_STATEMENT.code,\n",
    "        finance.STK_INCOME_STATEMENT.pub_date,\n",
    "        finance.STK_INCOME_STATEMENT.start_date,\n",
    "        finance.STK_INCOME_STATEMENT.end_date,\n",
    "        finance.STK_INCOME_STATEMENT.total_operating_revenue,\n",
    "finance.STK_INCOME_STATEMENT.np_parent_company_owners).filter(finance.STK_INCOME_STATEMENT.code=='600519.XSHG',finance.STK_INCOME_STATEMENT.pub_date>='2015-01-01',finance.STK_INCOME_STATEMENT.report_type==0).limit(20)\n",
    "df=finance.run_query(q)\n",
    "print(df)"
   ]
  },
  {
   "cell_type": "code",
   "execution_count": 17,
   "metadata": {},
   "outputs": [
    {
     "data": {
      "text/plain": [
       "5      2002-12-31\n",
       "6      2002-06-30\n",
       "7      2003-06-30\n",
       "8      2002-09-30\n",
       "9      2003-09-30\n",
       "          ...    \n",
       "145    2020-03-31\n",
       "146    2020-06-30\n",
       "147    2020-06-30\n",
       "148    2020-09-30\n",
       "149    2020-09-30\n",
       "Name: report_date, Length: 145, dtype: object"
      ]
     },
     "execution_count": 17,
     "metadata": {},
     "output_type": "execute_result"
    }
   ],
   "source": [
    "finance.run_query(query(finance.STK_INCOME_STATEMENT_PARENT).\\\n",
    "                  filter(finance.STK_INCOME_STATEMENT_PARENT.code=='600519.XSHG'))['report_date']"
   ]
  },
  {
   "cell_type": "code",
   "execution_count": 31,
   "metadata": {},
   "outputs": [],
   "source": [
    "profit_df=finance.run_query(query(finance.STK_INCOME_STATEMENT)\\\n",
    "                  .filter(finance.STK_INCOME_STATEMENT.code=='600519.XSHG',\\\n",
    "                         finance.STK_INCOME_STATEMENT.report_type==0,\\\n",
    "                         finance.STK_INCOME_STATEMENT.report_date.ilike('_____12-31')))\\\n",
    "[['report_date','total_operating_revenue','total_operating_cost','operating_profit','total_profit','income_tax','net_profit']]"
   ]
  },
  {
   "cell_type": "code",
   "execution_count": 210,
   "metadata": {},
   "outputs": [],
   "source": [
    "profit_df['year'] = profit_df['report_date'].apply(lambda x:str(x.year))\n",
    "\n",
    "total_operating_revenue = list(round(profit_df['total_operating_revenue']/100000000,2))\n",
    "total_operating_cost = list(round(profit_df['total_operating_cost']/100000000,2))\n",
    "operating_profit = list(round(profit_df['operating_profit']/100000000,2))\n",
    "total_profit = list(round(profit_df['total_profit']/100000000,2))\n",
    "income_tax = list(round(profit_df['income_tax']/100000000,2))\n",
    "net_profit = list(round(profit_df['net_profit']/100000000,2))"
   ]
  },
  {
   "cell_type": "code",
   "execution_count": 235,
   "metadata": {},
   "outputs": [],
   "source": [
    "from pyecharts import options as opts\n",
    "from pyecharts.charts import Bar,Timeline\n",
    "from pyecharts.faker import Faker\n",
    "\n",
    "\n",
    "profit_chart = (\n",
    "    Bar()\n",
    "    .add_xaxis(profit_df['year'].to_list())\n",
    "    .add_yaxis(\"营业总收入\", total_operating_revenue, gap=\"0%\")\n",
    "    .add_yaxis(\"营业总成本\", total_operating_cost, gap=\"0%\")\n",
    "    #.add_yaxis(\"营业利润\", operating_profit, gap=\"0%\")\n",
    "    .add_yaxis(\"总利润\", total_profit, gap=\"0%\")\n",
    "    .add_yaxis(\"净利润\", net_profit, gap=\"0%\")\n",
    "    .set_series_opts(label_opts=opts.LabelOpts(is_show=False))\n",
    "    .set_global_opts(\n",
    "                     datazoom_opts=opts.DataZoomOpts(),\n",
    "        yaxis_opts=opts.AxisOpts(axislabel_opts=opts.LabelOpts(formatter=\"{value} /亿\")),)\n",
    ")"
   ]
  },
  {
   "cell_type": "code",
   "execution_count": 213,
   "metadata": {},
   "outputs": [
    {
     "data": {
      "text/html": [
       "\n",
       "<script>\n",
       "    require.config({\n",
       "        paths: {\n",
       "            'echarts':'https://assets.pyecharts.org/assets/echarts.min'\n",
       "        }\n",
       "    });\n",
       "</script>\n",
       "\n",
       "        <div id=\"f255ed3ff5ec49f8be5a42b147163365\" style=\"width:900px; height:500px;\"></div>\n",
       "\n",
       "<script>\n",
       "        require(['echarts'], function(echarts) {\n",
       "                var chart_f255ed3ff5ec49f8be5a42b147163365 = echarts.init(\n",
       "                    document.getElementById('f255ed3ff5ec49f8be5a42b147163365'), 'white', {renderer: 'canvas'});\n",
       "                var option_f255ed3ff5ec49f8be5a42b147163365 = {\n",
       "    \"animation\": true,\n",
       "    \"animationThreshold\": 2000,\n",
       "    \"animationDuration\": 1000,\n",
       "    \"animationEasing\": \"cubicOut\",\n",
       "    \"animationDelay\": 0,\n",
       "    \"animationDurationUpdate\": 300,\n",
       "    \"animationEasingUpdate\": \"cubicOut\",\n",
       "    \"animationDelayUpdate\": 0,\n",
       "    \"color\": [\n",
       "        \"#c23531\",\n",
       "        \"#2f4554\",\n",
       "        \"#61a0a8\",\n",
       "        \"#d48265\",\n",
       "        \"#749f83\",\n",
       "        \"#ca8622\",\n",
       "        \"#bda29a\",\n",
       "        \"#6e7074\",\n",
       "        \"#546570\",\n",
       "        \"#c4ccd3\",\n",
       "        \"#f05b72\",\n",
       "        \"#ef5b9c\",\n",
       "        \"#f47920\",\n",
       "        \"#905a3d\",\n",
       "        \"#fab27b\",\n",
       "        \"#2a5caa\",\n",
       "        \"#444693\",\n",
       "        \"#726930\",\n",
       "        \"#b2d235\",\n",
       "        \"#6d8346\",\n",
       "        \"#ac6767\",\n",
       "        \"#1d953f\",\n",
       "        \"#6950a1\",\n",
       "        \"#918597\"\n",
       "    ],\n",
       "    \"series\": [\n",
       "        {\n",
       "            \"type\": \"bar\",\n",
       "            \"name\": \"\\u8425\\u4e1a\\u603b\\u6536\\u5165\",\n",
       "            \"legendHoverLink\": true,\n",
       "            \"data\": [\n",
       "                null,\n",
       "                null,\n",
       "                null,\n",
       "                null,\n",
       "                24.01,\n",
       "                30.1,\n",
       "                39.31,\n",
       "                48.96,\n",
       "                72.37,\n",
       "                82.42,\n",
       "                96.7,\n",
       "                116.33,\n",
       "                184.02,\n",
       "                264.55,\n",
       "                310.71,\n",
       "                322.17,\n",
       "                334.47,\n",
       "                401.55,\n",
       "                610.63,\n",
       "                771.99,\n",
       "                888.54\n",
       "            ],\n",
       "            \"showBackground\": false,\n",
       "            \"barMinHeight\": 0,\n",
       "            \"barCategoryGap\": \"20%\",\n",
       "            \"barGap\": \"0%\",\n",
       "            \"large\": false,\n",
       "            \"largeThreshold\": 400,\n",
       "            \"seriesLayoutBy\": \"column\",\n",
       "            \"datasetIndex\": 0,\n",
       "            \"clip\": true,\n",
       "            \"zlevel\": 0,\n",
       "            \"z\": 2,\n",
       "            \"label\": {\n",
       "                \"show\": false,\n",
       "                \"position\": \"top\",\n",
       "                \"margin\": 8\n",
       "            },\n",
       "            \"rippleEffect\": {\n",
       "                \"show\": true,\n",
       "                \"brushType\": \"stroke\",\n",
       "                \"scale\": 2.5,\n",
       "                \"period\": 4\n",
       "            }\n",
       "        },\n",
       "        {\n",
       "            \"type\": \"bar\",\n",
       "            \"name\": \"\\u8425\\u4e1a\\u603b\\u6210\\u672c\",\n",
       "            \"legendHoverLink\": true,\n",
       "            \"data\": [\n",
       "                4.08,\n",
       "                4.69,\n",
       "                7.22,\n",
       "                8.48,\n",
       "                14.27,\n",
       "                15.22,\n",
       "                20.12,\n",
       "                24.13,\n",
       "                27.14,\n",
       "                28.53,\n",
       "                35.96,\n",
       "                44.73,\n",
       "                60.7,\n",
       "                76.28,\n",
       "                92.82,\n",
       "                101.17,\n",
       "                112.92,\n",
       "                158.89,\n",
       "                221.23,\n",
       "                258.66,\n",
       "                298.12\n",
       "            ],\n",
       "            \"showBackground\": false,\n",
       "            \"barMinHeight\": 0,\n",
       "            \"barCategoryGap\": \"20%\",\n",
       "            \"barGap\": \"0%\",\n",
       "            \"large\": false,\n",
       "            \"largeThreshold\": 400,\n",
       "            \"seriesLayoutBy\": \"column\",\n",
       "            \"datasetIndex\": 0,\n",
       "            \"clip\": true,\n",
       "            \"zlevel\": 0,\n",
       "            \"z\": 2,\n",
       "            \"label\": {\n",
       "                \"show\": false,\n",
       "                \"position\": \"top\",\n",
       "                \"margin\": 8\n",
       "            },\n",
       "            \"rippleEffect\": {\n",
       "                \"show\": true,\n",
       "                \"brushType\": \"stroke\",\n",
       "                \"scale\": 2.5,\n",
       "                \"period\": 4\n",
       "            }\n",
       "        },\n",
       "        {\n",
       "            \"type\": \"bar\",\n",
       "            \"name\": \"\\u603b\\u5229\\u6da6\",\n",
       "            \"legendHoverLink\": true,\n",
       "            \"data\": [\n",
       "                3.54,\n",
       "                4.46,\n",
       "                6.07,\n",
       "                6.49,\n",
       "                9.77,\n",
       "                14.91,\n",
       "                19.2,\n",
       "                24.88,\n",
       "                45.22,\n",
       "                53.85,\n",
       "                60.81,\n",
       "                71.62,\n",
       "                123.35,\n",
       "                187.0,\n",
       "                214.32,\n",
       "                218.82,\n",
       "                220.02,\n",
       "                239.58,\n",
       "                387.4,\n",
       "                508.28,\n",
       "                587.83\n",
       "            ],\n",
       "            \"showBackground\": false,\n",
       "            \"barMinHeight\": 0,\n",
       "            \"barCategoryGap\": \"20%\",\n",
       "            \"barGap\": \"0%\",\n",
       "            \"large\": false,\n",
       "            \"largeThreshold\": 400,\n",
       "            \"seriesLayoutBy\": \"column\",\n",
       "            \"datasetIndex\": 0,\n",
       "            \"clip\": true,\n",
       "            \"zlevel\": 0,\n",
       "            \"z\": 2,\n",
       "            \"label\": {\n",
       "                \"show\": false,\n",
       "                \"position\": \"top\",\n",
       "                \"margin\": 8\n",
       "            },\n",
       "            \"rippleEffect\": {\n",
       "                \"show\": true,\n",
       "                \"brushType\": \"stroke\",\n",
       "                \"scale\": 2.5,\n",
       "                \"period\": 4\n",
       "            }\n",
       "        },\n",
       "        {\n",
       "            \"type\": \"bar\",\n",
       "            \"name\": \"\\u51c0\\u5229\\u6da6\",\n",
       "            \"legendHoverLink\": true,\n",
       "            \"data\": [\n",
       "                2.16,\n",
       "                2.51,\n",
       "                3.28,\n",
       "                3.77,\n",
       "                6.09,\n",
       "                8.54,\n",
       "                11.69,\n",
       "                15.74,\n",
       "                29.66,\n",
       "                40.01,\n",
       "                45.53,\n",
       "                53.4,\n",
       "                92.5,\n",
       "                140.08,\n",
       "                159.65,\n",
       "                162.69,\n",
       "                164.55,\n",
       "                179.31,\n",
       "                290.06,\n",
       "                378.3,\n",
       "                439.7\n",
       "            ],\n",
       "            \"showBackground\": false,\n",
       "            \"barMinHeight\": 0,\n",
       "            \"barCategoryGap\": \"20%\",\n",
       "            \"barGap\": \"0%\",\n",
       "            \"large\": false,\n",
       "            \"largeThreshold\": 400,\n",
       "            \"seriesLayoutBy\": \"column\",\n",
       "            \"datasetIndex\": 0,\n",
       "            \"clip\": true,\n",
       "            \"zlevel\": 0,\n",
       "            \"z\": 2,\n",
       "            \"label\": {\n",
       "                \"show\": false,\n",
       "                \"position\": \"top\",\n",
       "                \"margin\": 8\n",
       "            },\n",
       "            \"rippleEffect\": {\n",
       "                \"show\": true,\n",
       "                \"brushType\": \"stroke\",\n",
       "                \"scale\": 2.5,\n",
       "                \"period\": 4\n",
       "            }\n",
       "        }\n",
       "    ],\n",
       "    \"legend\": [\n",
       "        {\n",
       "            \"data\": [\n",
       "                \"\\u8425\\u4e1a\\u603b\\u6536\\u5165\",\n",
       "                \"\\u8425\\u4e1a\\u603b\\u6210\\u672c\",\n",
       "                \"\\u603b\\u5229\\u6da6\",\n",
       "                \"\\u51c0\\u5229\\u6da6\"\n",
       "            ],\n",
       "            \"selected\": {\n",
       "                \"\\u8425\\u4e1a\\u603b\\u6536\\u5165\": true,\n",
       "                \"\\u8425\\u4e1a\\u603b\\u6210\\u672c\": true,\n",
       "                \"\\u603b\\u5229\\u6da6\": true,\n",
       "                \"\\u51c0\\u5229\\u6da6\": true\n",
       "            },\n",
       "            \"show\": true,\n",
       "            \"padding\": 5,\n",
       "            \"itemGap\": 10,\n",
       "            \"itemWidth\": 25,\n",
       "            \"itemHeight\": 14\n",
       "        }\n",
       "    ],\n",
       "    \"tooltip\": {\n",
       "        \"show\": true,\n",
       "        \"trigger\": \"item\",\n",
       "        \"triggerOn\": \"mousemove|click\",\n",
       "        \"axisPointer\": {\n",
       "            \"type\": \"line\"\n",
       "        },\n",
       "        \"showContent\": true,\n",
       "        \"alwaysShowContent\": false,\n",
       "        \"showDelay\": 0,\n",
       "        \"hideDelay\": 100,\n",
       "        \"textStyle\": {\n",
       "            \"fontSize\": 14\n",
       "        },\n",
       "        \"borderWidth\": 0,\n",
       "        \"padding\": 5\n",
       "    },\n",
       "    \"xAxis\": [\n",
       "        {\n",
       "            \"show\": true,\n",
       "            \"scale\": false,\n",
       "            \"nameLocation\": \"end\",\n",
       "            \"nameGap\": 15,\n",
       "            \"gridIndex\": 0,\n",
       "            \"inverse\": false,\n",
       "            \"offset\": 0,\n",
       "            \"splitNumber\": 5,\n",
       "            \"minInterval\": 0,\n",
       "            \"splitLine\": {\n",
       "                \"show\": false,\n",
       "                \"lineStyle\": {\n",
       "                    \"show\": true,\n",
       "                    \"width\": 1,\n",
       "                    \"opacity\": 1,\n",
       "                    \"curveness\": 0,\n",
       "                    \"type\": \"solid\"\n",
       "                }\n",
       "            },\n",
       "            \"data\": [\n",
       "                \"1999\",\n",
       "                \"2000\",\n",
       "                \"2001\",\n",
       "                \"2002\",\n",
       "                \"2003\",\n",
       "                \"2004\",\n",
       "                \"2005\",\n",
       "                \"2006\",\n",
       "                \"2007\",\n",
       "                \"2008\",\n",
       "                \"2009\",\n",
       "                \"2010\",\n",
       "                \"2011\",\n",
       "                \"2012\",\n",
       "                \"2013\",\n",
       "                \"2014\",\n",
       "                \"2015\",\n",
       "                \"2016\",\n",
       "                \"2017\",\n",
       "                \"2018\",\n",
       "                \"2019\"\n",
       "            ]\n",
       "        }\n",
       "    ],\n",
       "    \"yAxis\": [\n",
       "        {\n",
       "            \"show\": true,\n",
       "            \"scale\": false,\n",
       "            \"nameLocation\": \"end\",\n",
       "            \"nameGap\": 15,\n",
       "            \"gridIndex\": 0,\n",
       "            \"axisLabel\": {\n",
       "                \"show\": true,\n",
       "                \"position\": \"top\",\n",
       "                \"margin\": 8,\n",
       "                \"formatter\": \"{value} /\\u4ebf\"\n",
       "            },\n",
       "            \"inverse\": false,\n",
       "            \"offset\": 0,\n",
       "            \"splitNumber\": 5,\n",
       "            \"minInterval\": 0,\n",
       "            \"splitLine\": {\n",
       "                \"show\": false,\n",
       "                \"lineStyle\": {\n",
       "                    \"show\": true,\n",
       "                    \"width\": 1,\n",
       "                    \"opacity\": 1,\n",
       "                    \"curveness\": 0,\n",
       "                    \"type\": \"solid\"\n",
       "                }\n",
       "            }\n",
       "        }\n",
       "    ],\n",
       "    \"title\": [\n",
       "        {\n",
       "            \"text\": \"Bar-\\u4e0d\\u540c\\u7cfb\\u5217\\u67f1\\u95f4\\u8ddd\\u79bb\",\n",
       "            \"padding\": 5,\n",
       "            \"itemGap\": 10\n",
       "        }\n",
       "    ],\n",
       "    \"dataZoom\": {\n",
       "        \"show\": true,\n",
       "        \"type\": \"slider\",\n",
       "        \"realtime\": true,\n",
       "        \"start\": 20,\n",
       "        \"end\": 80,\n",
       "        \"orient\": \"horizontal\",\n",
       "        \"zoomLock\": false,\n",
       "        \"filterMode\": \"filter\"\n",
       "    }\n",
       "};\n",
       "                chart_f255ed3ff5ec49f8be5a42b147163365.setOption(option_f255ed3ff5ec49f8be5a42b147163365);\n",
       "        });\n",
       "    </script>\n"
      ],
      "text/plain": [
       "<pyecharts.render.display.HTML at 0x1dbed153280>"
      ]
     },
     "execution_count": 213,
     "metadata": {},
     "output_type": "execute_result"
    }
   ],
   "source": [
    "profit_chart.render_notebook()"
   ]
  },
  {
   "cell_type": "code",
   "execution_count": 218,
   "metadata": {},
   "outputs": [],
   "source": [
    "balance_df=finance.run_query(query(finance.STK_BALANCE_SHEET)\\\n",
    "                  .filter(finance.STK_BALANCE_SHEET.code=='600519.XSHG',\\\n",
    "                         finance.STK_BALANCE_SHEET.report_type==0,\\\n",
    "                         finance.STK_BALANCE_SHEET.report_date.ilike('_____12-31')))\\\n",
    "[['report_date','total_assets','total_current_assets','total_non_current_assets',\n",
    "  'total_liability','total_current_liability','total_non_current_liability','total_owner_equities']]"
   ]
  },
  {
   "cell_type": "code",
   "execution_count": 219,
   "metadata": {},
   "outputs": [
    {
     "name": "stderr",
     "output_type": "stream",
     "text": [
      "<ipython-input-219-872a2370107d>:1: SettingWithCopyWarning: \n",
      "A value is trying to be set on a copy of a slice from a DataFrame.\n",
      "Try using .loc[row_indexer,col_indexer] = value instead\n",
      "\n",
      "See the caveats in the documentation: https://pandas.pydata.org/pandas-docs/stable/user_guide/indexing.html#returning-a-view-versus-a-copy\n",
      "  balance_df['year'] = balance_df['report_date'].apply(lambda x:str(x.year))\n"
     ]
    }
   ],
   "source": [
    "balance_df['year'] = balance_df['report_date'].apply(lambda x:str(x.year))\n",
    "total_assets = list(round(balance_df['total_assets']/100000000,2))\n",
    "total_current_assets = list(round(balance_df['total_current_assets']/100000000,2))\n",
    "total_non_current_assets = list(round(balance_df['total_non_current_assets']/100000000,2))\n",
    "total_liability = list(round(balance_df['total_liability']/100000000,2))\n",
    "total_current_liability = list(round(balance_df['total_current_liability']/100000000,2))\n",
    "total_non_current_liability = list(round(balance_df['total_non_current_liability']/100000000,2))\n",
    "total_owner_equities = list(round(balance_df['total_owner_equities']/100000000,2))"
   ]
  },
  {
   "cell_type": "code",
   "execution_count": 236,
   "metadata": {},
   "outputs": [],
   "source": [
    "balance_chart = (\n",
    "    Bar()\n",
    "    .add_xaxis(years)\n",
    "    .add_yaxis(\"总资产\", total_assets, gap=\"0%\")\n",
    "    .add_yaxis(\"流动资产\", total_current_assets, gap=\"0%\")\n",
    "    .add_yaxis(\"非流动资产\", total_non_current_assets, gap=\"0%\")\n",
    "    .add_yaxis(\"总负债\", total_liability, gap=\"0%\")\n",
    "    .add_yaxis(\"流动负债\", total_current_liability, gap=\"0%\")\n",
    "    .add_yaxis(\"非流动负债\", total_non_current_liability, gap=\"0%\")\n",
    "    .add_yaxis(\"股东权益\", total_owner_equities, gap=\"0%\")\n",
    "    .set_series_opts(label_opts=opts.LabelOpts(is_show=False))\n",
    "    .set_global_opts(\n",
    "                     datazoom_opts=opts.DataZoomOpts(),\n",
    "        yaxis_opts=opts.AxisOpts(axislabel_opts=opts.LabelOpts(formatter=\"{value} /亿\")),)\n",
    ")"
   ]
  },
  {
   "cell_type": "code",
   "execution_count": 221,
   "metadata": {},
   "outputs": [
    {
     "data": {
      "text/html": [
       "\n",
       "<script>\n",
       "    require.config({\n",
       "        paths: {\n",
       "            'echarts':'https://assets.pyecharts.org/assets/echarts.min'\n",
       "        }\n",
       "    });\n",
       "</script>\n",
       "\n",
       "        <div id=\"d35b0ddf530748ef9362fce9100527bf\" style=\"width:900px; height:500px;\"></div>\n",
       "\n",
       "<script>\n",
       "        require(['echarts'], function(echarts) {\n",
       "                var chart_d35b0ddf530748ef9362fce9100527bf = echarts.init(\n",
       "                    document.getElementById('d35b0ddf530748ef9362fce9100527bf'), 'white', {renderer: 'canvas'});\n",
       "                var option_d35b0ddf530748ef9362fce9100527bf = {\n",
       "    \"animation\": true,\n",
       "    \"animationThreshold\": 2000,\n",
       "    \"animationDuration\": 1000,\n",
       "    \"animationEasing\": \"cubicOut\",\n",
       "    \"animationDelay\": 0,\n",
       "    \"animationDurationUpdate\": 300,\n",
       "    \"animationEasingUpdate\": \"cubicOut\",\n",
       "    \"animationDelayUpdate\": 0,\n",
       "    \"color\": [\n",
       "        \"#c23531\",\n",
       "        \"#2f4554\",\n",
       "        \"#61a0a8\",\n",
       "        \"#d48265\",\n",
       "        \"#749f83\",\n",
       "        \"#ca8622\",\n",
       "        \"#bda29a\",\n",
       "        \"#6e7074\",\n",
       "        \"#546570\",\n",
       "        \"#c4ccd3\",\n",
       "        \"#f05b72\",\n",
       "        \"#ef5b9c\",\n",
       "        \"#f47920\",\n",
       "        \"#905a3d\",\n",
       "        \"#fab27b\",\n",
       "        \"#2a5caa\",\n",
       "        \"#444693\",\n",
       "        \"#726930\",\n",
       "        \"#b2d235\",\n",
       "        \"#6d8346\",\n",
       "        \"#ac6767\",\n",
       "        \"#1d953f\",\n",
       "        \"#6950a1\",\n",
       "        \"#918597\"\n",
       "    ],\n",
       "    \"series\": [\n",
       "        {\n",
       "            \"type\": \"bar\",\n",
       "            \"name\": \"\\u603b\\u8d44\\u4ea7\",\n",
       "            \"legendHoverLink\": true,\n",
       "            \"data\": [\n",
       "                9.15,\n",
       "                12.69,\n",
       "                34.63,\n",
       "                39.31,\n",
       "                49.56,\n",
       "                63.74,\n",
       "                80.58,\n",
       "                93.89,\n",
       "                104.81,\n",
       "                157.54,\n",
       "                197.7,\n",
       "                255.88,\n",
       "                349.01,\n",
       "                449.98,\n",
       "                554.54,\n",
       "                658.73,\n",
       "                863.01,\n",
       "                1129.35,\n",
       "                1346.1,\n",
       "                1598.47,\n",
       "                1830.42\n",
       "            ],\n",
       "            \"showBackground\": false,\n",
       "            \"barMinHeight\": 0,\n",
       "            \"barCategoryGap\": \"20%\",\n",
       "            \"barGap\": \"0%\",\n",
       "            \"large\": false,\n",
       "            \"largeThreshold\": 400,\n",
       "            \"seriesLayoutBy\": \"column\",\n",
       "            \"datasetIndex\": 0,\n",
       "            \"clip\": true,\n",
       "            \"zlevel\": 0,\n",
       "            \"z\": 2,\n",
       "            \"label\": {\n",
       "                \"show\": false,\n",
       "                \"position\": \"top\",\n",
       "                \"margin\": 8\n",
       "            },\n",
       "            \"rippleEffect\": {\n",
       "                \"show\": true,\n",
       "                \"brushType\": \"stroke\",\n",
       "                \"scale\": 2.5,\n",
       "                \"period\": 4\n",
       "            }\n",
       "        },\n",
       "        {\n",
       "            \"type\": \"bar\",\n",
       "            \"name\": \"\\u6d41\\u52a8\\u8d44\\u4ea7\",\n",
       "            \"legendHoverLink\": true,\n",
       "            \"data\": [\n",
       "                7.2,\n",
       "                10.7,\n",
       "                28.7,\n",
       "                29.91,\n",
       "                37.56,\n",
       "                47.73,\n",
       "                60.2,\n",
       "                67.51,\n",
       "                72.72,\n",
       "                122.41,\n",
       "                156.56,\n",
       "                203.0,\n",
       "                278.3,\n",
       "                362.25,\n",
       "                419.32,\n",
       "                475.71,\n",
       "                650.05,\n",
       "                901.81,\n",
       "                1122.49,\n",
       "                1378.62,\n",
       "                1590.24\n",
       "            ],\n",
       "            \"showBackground\": false,\n",
       "            \"barMinHeight\": 0,\n",
       "            \"barCategoryGap\": \"20%\",\n",
       "            \"barGap\": \"0%\",\n",
       "            \"large\": false,\n",
       "            \"largeThreshold\": 400,\n",
       "            \"seriesLayoutBy\": \"column\",\n",
       "            \"datasetIndex\": 0,\n",
       "            \"clip\": true,\n",
       "            \"zlevel\": 0,\n",
       "            \"z\": 2,\n",
       "            \"label\": {\n",
       "                \"show\": false,\n",
       "                \"position\": \"top\",\n",
       "                \"margin\": 8\n",
       "            },\n",
       "            \"rippleEffect\": {\n",
       "                \"show\": true,\n",
       "                \"brushType\": \"stroke\",\n",
       "                \"scale\": 2.5,\n",
       "                \"period\": 4\n",
       "            }\n",
       "        },\n",
       "        {\n",
       "            \"type\": \"bar\",\n",
       "            \"name\": \"\\u975e\\u6d41\\u52a8\\u8d44\\u4ea7\",\n",
       "            \"legendHoverLink\": true,\n",
       "            \"data\": [\n",
       "                1.95,\n",
       "                1.99,\n",
       "                null,\n",
       "                9.4,\n",
       "                12.0,\n",
       "                16.01,\n",
       "                20.38,\n",
       "                26.38,\n",
       "                32.1,\n",
       "                35.13,\n",
       "                41.14,\n",
       "                52.87,\n",
       "                70.71,\n",
       "                87.73,\n",
       "                135.23,\n",
       "                183.02,\n",
       "                212.97,\n",
       "                227.54,\n",
       "                223.61,\n",
       "                219.85,\n",
       "                240.18\n",
       "            ],\n",
       "            \"showBackground\": false,\n",
       "            \"barMinHeight\": 0,\n",
       "            \"barCategoryGap\": \"20%\",\n",
       "            \"barGap\": \"0%\",\n",
       "            \"large\": false,\n",
       "            \"largeThreshold\": 400,\n",
       "            \"seriesLayoutBy\": \"column\",\n",
       "            \"datasetIndex\": 0,\n",
       "            \"clip\": true,\n",
       "            \"zlevel\": 0,\n",
       "            \"z\": 2,\n",
       "            \"label\": {\n",
       "                \"show\": false,\n",
       "                \"position\": \"top\",\n",
       "                \"margin\": 8\n",
       "            },\n",
       "            \"rippleEffect\": {\n",
       "                \"show\": true,\n",
       "                \"brushType\": \"stroke\",\n",
       "                \"scale\": 2.5,\n",
       "                \"period\": 4\n",
       "            }\n",
       "        },\n",
       "        {\n",
       "            \"type\": \"bar\",\n",
       "            \"name\": \"\\u603b\\u8d1f\\u503a\",\n",
       "            \"legendHoverLink\": true,\n",
       "            \"data\": [\n",
       "                6.3,\n",
       "                8.24,\n",
       "                9.26,\n",
       "                10.56,\n",
       "                14.86,\n",
       "                21.57,\n",
       "                28.95,\n",
       "                33.94,\n",
       "                21.13,\n",
       "                42.51,\n",
       "                51.18,\n",
       "                70.38,\n",
       "                94.97,\n",
       "                95.44,\n",
       "                113.25,\n",
       "                105.62,\n",
       "                200.67,\n",
       "                370.36,\n",
       "                385.9,\n",
       "                424.38,\n",
       "                411.66\n",
       "            ],\n",
       "            \"showBackground\": false,\n",
       "            \"barMinHeight\": 0,\n",
       "            \"barCategoryGap\": \"20%\",\n",
       "            \"barGap\": \"0%\",\n",
       "            \"large\": false,\n",
       "            \"largeThreshold\": 400,\n",
       "            \"seriesLayoutBy\": \"column\",\n",
       "            \"datasetIndex\": 0,\n",
       "            \"clip\": true,\n",
       "            \"zlevel\": 0,\n",
       "            \"z\": 2,\n",
       "            \"label\": {\n",
       "                \"show\": false,\n",
       "                \"position\": \"top\",\n",
       "                \"margin\": 8\n",
       "            },\n",
       "            \"rippleEffect\": {\n",
       "                \"show\": true,\n",
       "                \"brushType\": \"stroke\",\n",
       "                \"scale\": 2.5,\n",
       "                \"period\": 4\n",
       "            }\n",
       "        },\n",
       "        {\n",
       "            \"type\": \"bar\",\n",
       "            \"name\": \"\\u6d41\\u52a8\\u8d1f\\u503a\",\n",
       "            \"legendHoverLink\": true,\n",
       "            \"data\": [\n",
       "                6.3,\n",
       "                8.24,\n",
       "                9.26,\n",
       "                10.56,\n",
       "                14.86,\n",
       "                21.57,\n",
       "                28.95,\n",
       "                33.94,\n",
       "                21.13,\n",
       "                42.51,\n",
       "                51.08,\n",
       "                70.28,\n",
       "                94.81,\n",
       "                95.26,\n",
       "                113.07,\n",
       "                105.44,\n",
       "                200.52,\n",
       "                370.2,\n",
       "                385.75,\n",
       "                424.38,\n",
       "                410.93\n",
       "            ],\n",
       "            \"showBackground\": false,\n",
       "            \"barMinHeight\": 0,\n",
       "            \"barCategoryGap\": \"20%\",\n",
       "            \"barGap\": \"0%\",\n",
       "            \"large\": false,\n",
       "            \"largeThreshold\": 400,\n",
       "            \"seriesLayoutBy\": \"column\",\n",
       "            \"datasetIndex\": 0,\n",
       "            \"clip\": true,\n",
       "            \"zlevel\": 0,\n",
       "            \"z\": 2,\n",
       "            \"label\": {\n",
       "                \"show\": false,\n",
       "                \"position\": \"top\",\n",
       "                \"margin\": 8\n",
       "            },\n",
       "            \"rippleEffect\": {\n",
       "                \"show\": true,\n",
       "                \"brushType\": \"stroke\",\n",
       "                \"scale\": 2.5,\n",
       "                \"period\": 4\n",
       "            }\n",
       "        },\n",
       "        {\n",
       "            \"type\": \"bar\",\n",
       "            \"name\": \"\\u975e\\u6d41\\u52a8\\u8d1f\\u503a\",\n",
       "            \"legendHoverLink\": true,\n",
       "            \"data\": [\n",
       "                0.0,\n",
       "                0.0,\n",
       "                null,\n",
       "                0.0,\n",
       "                0.0,\n",
       "                0.0,\n",
       "                0.0,\n",
       "                0.0,\n",
       "                null,\n",
       "                null,\n",
       "                0.1,\n",
       "                0.1,\n",
       "                0.17,\n",
       "                0.18,\n",
       "                0.18,\n",
       "                0.18,\n",
       "                0.16,\n",
       "                0.16,\n",
       "                0.16,\n",
       "                null,\n",
       "                0.73\n",
       "            ],\n",
       "            \"showBackground\": false,\n",
       "            \"barMinHeight\": 0,\n",
       "            \"barCategoryGap\": \"20%\",\n",
       "            \"barGap\": \"0%\",\n",
       "            \"large\": false,\n",
       "            \"largeThreshold\": 400,\n",
       "            \"seriesLayoutBy\": \"column\",\n",
       "            \"datasetIndex\": 0,\n",
       "            \"clip\": true,\n",
       "            \"zlevel\": 0,\n",
       "            \"z\": 2,\n",
       "            \"label\": {\n",
       "                \"show\": false,\n",
       "                \"position\": \"top\",\n",
       "                \"margin\": 8\n",
       "            },\n",
       "            \"rippleEffect\": {\n",
       "                \"show\": true,\n",
       "                \"brushType\": \"stroke\",\n",
       "                \"scale\": 2.5,\n",
       "                \"period\": 4\n",
       "            }\n",
       "        },\n",
       "        {\n",
       "            \"type\": \"bar\",\n",
       "            \"name\": \"\\u80a1\\u4e1c\\u6743\\u76ca\",\n",
       "            \"legendHoverLink\": true,\n",
       "            \"data\": [\n",
       "                2.85,\n",
       "                4.44,\n",
       "                25.31,\n",
       "                28.53,\n",
       "                34.71,\n",
       "                42.17,\n",
       "                51.62,\n",
       "                59.95,\n",
       "                83.69,\n",
       "                115.03,\n",
       "                146.52,\n",
       "                185.49,\n",
       "                254.03,\n",
       "                354.54,\n",
       "                441.29,\n",
       "                553.12,\n",
       "                662.34,\n",
       "                758.99,\n",
       "                960.2,\n",
       "                1174.08,\n",
       "                1418.76\n",
       "            ],\n",
       "            \"showBackground\": false,\n",
       "            \"barMinHeight\": 0,\n",
       "            \"barCategoryGap\": \"20%\",\n",
       "            \"barGap\": \"0%\",\n",
       "            \"large\": false,\n",
       "            \"largeThreshold\": 400,\n",
       "            \"seriesLayoutBy\": \"column\",\n",
       "            \"datasetIndex\": 0,\n",
       "            \"clip\": true,\n",
       "            \"zlevel\": 0,\n",
       "            \"z\": 2,\n",
       "            \"label\": {\n",
       "                \"show\": false,\n",
       "                \"position\": \"top\",\n",
       "                \"margin\": 8\n",
       "            },\n",
       "            \"rippleEffect\": {\n",
       "                \"show\": true,\n",
       "                \"brushType\": \"stroke\",\n",
       "                \"scale\": 2.5,\n",
       "                \"period\": 4\n",
       "            }\n",
       "        }\n",
       "    ],\n",
       "    \"legend\": [\n",
       "        {\n",
       "            \"data\": [\n",
       "                \"\\u603b\\u8d44\\u4ea7\",\n",
       "                \"\\u6d41\\u52a8\\u8d44\\u4ea7\",\n",
       "                \"\\u975e\\u6d41\\u52a8\\u8d44\\u4ea7\",\n",
       "                \"\\u603b\\u8d1f\\u503a\",\n",
       "                \"\\u6d41\\u52a8\\u8d1f\\u503a\",\n",
       "                \"\\u975e\\u6d41\\u52a8\\u8d1f\\u503a\",\n",
       "                \"\\u80a1\\u4e1c\\u6743\\u76ca\"\n",
       "            ],\n",
       "            \"selected\": {\n",
       "                \"\\u603b\\u8d44\\u4ea7\": true,\n",
       "                \"\\u6d41\\u52a8\\u8d44\\u4ea7\": true,\n",
       "                \"\\u975e\\u6d41\\u52a8\\u8d44\\u4ea7\": true,\n",
       "                \"\\u603b\\u8d1f\\u503a\": true,\n",
       "                \"\\u6d41\\u52a8\\u8d1f\\u503a\": true,\n",
       "                \"\\u975e\\u6d41\\u52a8\\u8d1f\\u503a\": true,\n",
       "                \"\\u80a1\\u4e1c\\u6743\\u76ca\": true\n",
       "            },\n",
       "            \"show\": true,\n",
       "            \"padding\": 5,\n",
       "            \"itemGap\": 10,\n",
       "            \"itemWidth\": 25,\n",
       "            \"itemHeight\": 14\n",
       "        }\n",
       "    ],\n",
       "    \"tooltip\": {\n",
       "        \"show\": true,\n",
       "        \"trigger\": \"item\",\n",
       "        \"triggerOn\": \"mousemove|click\",\n",
       "        \"axisPointer\": {\n",
       "            \"type\": \"line\"\n",
       "        },\n",
       "        \"showContent\": true,\n",
       "        \"alwaysShowContent\": false,\n",
       "        \"showDelay\": 0,\n",
       "        \"hideDelay\": 100,\n",
       "        \"textStyle\": {\n",
       "            \"fontSize\": 14\n",
       "        },\n",
       "        \"borderWidth\": 0,\n",
       "        \"padding\": 5\n",
       "    },\n",
       "    \"xAxis\": [\n",
       "        {\n",
       "            \"show\": true,\n",
       "            \"scale\": false,\n",
       "            \"nameLocation\": \"end\",\n",
       "            \"nameGap\": 15,\n",
       "            \"gridIndex\": 0,\n",
       "            \"inverse\": false,\n",
       "            \"offset\": 0,\n",
       "            \"splitNumber\": 5,\n",
       "            \"minInterval\": 0,\n",
       "            \"splitLine\": {\n",
       "                \"show\": false,\n",
       "                \"lineStyle\": {\n",
       "                    \"show\": true,\n",
       "                    \"width\": 1,\n",
       "                    \"opacity\": 1,\n",
       "                    \"curveness\": 0,\n",
       "                    \"type\": \"solid\"\n",
       "                }\n",
       "            },\n",
       "            \"data\": [\n",
       "                1999,\n",
       "                2000,\n",
       "                2001,\n",
       "                2002,\n",
       "                2003,\n",
       "                2004,\n",
       "                2005,\n",
       "                2006,\n",
       "                2007,\n",
       "                2008,\n",
       "                2009,\n",
       "                2010,\n",
       "                2011,\n",
       "                2012,\n",
       "                2013,\n",
       "                2014,\n",
       "                2015,\n",
       "                2016,\n",
       "                2017,\n",
       "                2018,\n",
       "                2019\n",
       "            ]\n",
       "        }\n",
       "    ],\n",
       "    \"yAxis\": [\n",
       "        {\n",
       "            \"show\": true,\n",
       "            \"scale\": false,\n",
       "            \"nameLocation\": \"end\",\n",
       "            \"nameGap\": 15,\n",
       "            \"gridIndex\": 0,\n",
       "            \"axisLabel\": {\n",
       "                \"show\": true,\n",
       "                \"position\": \"top\",\n",
       "                \"margin\": 8,\n",
       "                \"formatter\": \"{value} /\\u4ebf\"\n",
       "            },\n",
       "            \"inverse\": false,\n",
       "            \"offset\": 0,\n",
       "            \"splitNumber\": 5,\n",
       "            \"minInterval\": 0,\n",
       "            \"splitLine\": {\n",
       "                \"show\": false,\n",
       "                \"lineStyle\": {\n",
       "                    \"show\": true,\n",
       "                    \"width\": 1,\n",
       "                    \"opacity\": 1,\n",
       "                    \"curveness\": 0,\n",
       "                    \"type\": \"solid\"\n",
       "                }\n",
       "            }\n",
       "        }\n",
       "    ],\n",
       "    \"title\": [\n",
       "        {\n",
       "            \"text\": \"Bar-\\u4e0d\\u540c\\u7cfb\\u5217\\u67f1\\u95f4\\u8ddd\\u79bb\",\n",
       "            \"padding\": 5,\n",
       "            \"itemGap\": 10\n",
       "        }\n",
       "    ],\n",
       "    \"dataZoom\": {\n",
       "        \"show\": true,\n",
       "        \"type\": \"slider\",\n",
       "        \"realtime\": true,\n",
       "        \"start\": 20,\n",
       "        \"end\": 80,\n",
       "        \"orient\": \"horizontal\",\n",
       "        \"zoomLock\": false,\n",
       "        \"filterMode\": \"filter\"\n",
       "    }\n",
       "};\n",
       "                chart_d35b0ddf530748ef9362fce9100527bf.setOption(option_d35b0ddf530748ef9362fce9100527bf);\n",
       "        });\n",
       "    </script>\n"
      ],
      "text/plain": [
       "<pyecharts.render.display.HTML at 0x1dbed15b820>"
      ]
     },
     "execution_count": 221,
     "metadata": {},
     "output_type": "execute_result"
    }
   ],
   "source": [
    "balance_chart.render_notebook()"
   ]
  },
  {
   "cell_type": "code",
   "execution_count": 168,
   "metadata": {},
   "outputs": [],
   "source": [
    "cashflow_df=finance.run_query(query(finance.STK_CASHFLOW_STATEMENT)\\\n",
    "                  .filter(finance.STK_CASHFLOW_STATEMENT.code=='600519.XSHG',\\\n",
    "                         finance.STK_CASHFLOW_STATEMENT.report_type==0,\\\n",
    "                         finance.STK_CASHFLOW_STATEMENT.report_date.ilike('_____12-31')))\\\n",
    "[['report_date','net_operate_cash_flow','net_invest_cash_flow','net_finance_cash_flow',\n",
    "  'cash_equivalent_increase','cash_and_equivalents_at_end']]"
   ]
  },
  {
   "cell_type": "code",
   "execution_count": 222,
   "metadata": {},
   "outputs": [],
   "source": [
    "cashflow_df['year']= cashflow_df['report_date'].apply(lambda x:str(x.year))\n",
    "net_operate_cash_flow = list(round(cashflow_df['net_operate_cash_flow']/100000000,2))\n",
    "net_invest_cash_flow = list(round(cashflow_df['net_invest_cash_flow']/100000000,2))\n",
    "net_finance_cash_flow = list(round(cashflow_df['net_finance_cash_flow']/100000000,2))\n",
    "cash_equivalent_increase = list(round(cashflow_df['cash_equivalent_increase']/100000000,2))\n",
    "cash_and_equivalents_at_end = list(round(cashflow_df['cash_and_equivalents_at_end']/100000000,2))"
   ]
  },
  {
   "cell_type": "code",
   "execution_count": 223,
   "metadata": {},
   "outputs": [],
   "source": [
    "from pyecharts.charts import Bar, Line\n",
    "\n",
    "line = (\n",
    "    Line()\n",
    "    .add_xaxis(xaxis_data=cashflow_df['year'].tolist())\n",
    "    .add_yaxis(\n",
    "        series_name=\"现金及现金等价物净增加额\",\n",
    "        y_axis=cash_equivalent_increase,\n",
    "        label_opts=opts.LabelOpts(is_show=False),\n",
    "    )\n",
    "    .add_yaxis(\n",
    "        series_name=\"年末现金及现金等价物\",\n",
    "        y_axis=cash_and_equivalents_at_end,\n",
    "        label_opts=opts.LabelOpts(is_show=False),\n",
    "    )\n",
    ")"
   ]
  },
  {
   "cell_type": "code",
   "execution_count": 231,
   "metadata": {},
   "outputs": [],
   "source": [
    "cashflow_bar = (\n",
    "    Bar()\n",
    "    .add_xaxis(cashflow_df['year'].tolist())\n",
    "    .add_yaxis(\"经营活动产生的现金流量净额经营\", total_assets, gap=\"0%\")\n",
    "    .add_yaxis(\"投资活动产生的现金流量净额\", total_current_assets, gap=\"0%\")\n",
    "    .add_yaxis(\"筹资活动产生的现金流量净额\", total_non_current_assets, gap=\"0%\")\n",
    "    .set_series_opts(label_opts=opts.LabelOpts(is_show=False))\n",
    "    .set_global_opts(datazoom_opts=opts.DataZoomOpts(),\n",
    "        yaxis_opts=opts.AxisOpts(axislabel_opts=opts.LabelOpts(formatter=\"{value}亿\")),)\n",
    ")"
   ]
  },
  {
   "cell_type": "code",
   "execution_count": 233,
   "metadata": {},
   "outputs": [],
   "source": [
    "cashflow_chart = cashflow_bar.overlap(line)"
   ]
  },
  {
   "cell_type": "code",
   "execution_count": 208,
   "metadata": {},
   "outputs": [],
   "source": [
    "from pyecharts.charts import Tab"
   ]
  },
  {
   "cell_type": "code",
   "execution_count": 237,
   "metadata": {},
   "outputs": [
    {
     "data": {
      "text/html": [
       "\n",
       "<script>\n",
       "    require.config({\n",
       "        paths: {\n",
       "            'echarts':'https://assets.pyecharts.org/assets/echarts.min'\n",
       "        }\n",
       "    });\n",
       "</script>\n",
       "\n",
       "    <style>\n",
       "        .tab {\n",
       "            overflow: hidden;\n",
       "            border: 1px solid #ccc;\n",
       "            background-color: #f1f1f1;\n",
       "        }\n",
       "\n",
       "        .tab button {\n",
       "            background-color: inherit;\n",
       "            float: left;\n",
       "            border: none;\n",
       "            outline: none;\n",
       "            cursor: pointer;\n",
       "            padding: 12px 16px;\n",
       "            transition: 0.3s;\n",
       "        }\n",
       "\n",
       "        .tab button:hover {\n",
       "            background-color: #ddd;\n",
       "        }\n",
       "\n",
       "        .tab button.active {\n",
       "            background-color: #ccc;\n",
       "        }\n",
       "\n",
       "        .chart-container {\n",
       "            display: none;\n",
       "            padding: 6px 12px;\n",
       "            border-top: none;\n",
       "        }\n",
       "    </style>\n",
       "<div class=\"tab\">\n",
       "            <button class=\"tablinks\" onclick=\"showChart(event, '8d4d6eca6e0d4549928b8525806b5b96')\">利润表</button>\n",
       "            <button class=\"tablinks\" onclick=\"showChart(event, '1b74b57c01414ec38aa1fbabdd406459')\">资产负债表</button>\n",
       "            <button class=\"tablinks\" onclick=\"showChart(event, 'e61226002a6643eb89ed65db92a4ad4b')\">现金流量表</button>\n",
       "    </div>\n",
       "\n",
       "        <div id=\"8d4d6eca6e0d4549928b8525806b5b96\" class=\"chart-container\" style=\"width:900px; height:500px;\"></div>\n",
       "        <div id=\"1b74b57c01414ec38aa1fbabdd406459\" class=\"chart-container\" style=\"width:900px; height:500px;\"></div>\n",
       "        <div id=\"e61226002a6643eb89ed65db92a4ad4b\" class=\"chart-container\" style=\"width:900px; height:500px;\"></div>\n",
       "\n",
       "<script>\n",
       "        require(['echarts'], function(echarts) {\n",
       "                var chart_8d4d6eca6e0d4549928b8525806b5b96 = echarts.init(\n",
       "                    document.getElementById('8d4d6eca6e0d4549928b8525806b5b96'), 'white', {renderer: 'canvas'});\n",
       "                var option_8d4d6eca6e0d4549928b8525806b5b96 = {\n",
       "    \"animation\": true,\n",
       "    \"animationThreshold\": 2000,\n",
       "    \"animationDuration\": 1000,\n",
       "    \"animationEasing\": \"cubicOut\",\n",
       "    \"animationDelay\": 0,\n",
       "    \"animationDurationUpdate\": 300,\n",
       "    \"animationEasingUpdate\": \"cubicOut\",\n",
       "    \"animationDelayUpdate\": 0,\n",
       "    \"color\": [\n",
       "        \"#c23531\",\n",
       "        \"#2f4554\",\n",
       "        \"#61a0a8\",\n",
       "        \"#d48265\",\n",
       "        \"#749f83\",\n",
       "        \"#ca8622\",\n",
       "        \"#bda29a\",\n",
       "        \"#6e7074\",\n",
       "        \"#546570\",\n",
       "        \"#c4ccd3\",\n",
       "        \"#f05b72\",\n",
       "        \"#ef5b9c\",\n",
       "        \"#f47920\",\n",
       "        \"#905a3d\",\n",
       "        \"#fab27b\",\n",
       "        \"#2a5caa\",\n",
       "        \"#444693\",\n",
       "        \"#726930\",\n",
       "        \"#b2d235\",\n",
       "        \"#6d8346\",\n",
       "        \"#ac6767\",\n",
       "        \"#1d953f\",\n",
       "        \"#6950a1\",\n",
       "        \"#918597\"\n",
       "    ],\n",
       "    \"series\": [\n",
       "        {\n",
       "            \"type\": \"bar\",\n",
       "            \"name\": \"\\u8425\\u4e1a\\u603b\\u6536\\u5165\",\n",
       "            \"legendHoverLink\": true,\n",
       "            \"data\": [\n",
       "                null,\n",
       "                null,\n",
       "                null,\n",
       "                null,\n",
       "                24.01,\n",
       "                30.1,\n",
       "                39.31,\n",
       "                48.96,\n",
       "                72.37,\n",
       "                82.42,\n",
       "                96.7,\n",
       "                116.33,\n",
       "                184.02,\n",
       "                264.55,\n",
       "                310.71,\n",
       "                322.17,\n",
       "                334.47,\n",
       "                401.55,\n",
       "                610.63,\n",
       "                771.99,\n",
       "                888.54\n",
       "            ],\n",
       "            \"showBackground\": false,\n",
       "            \"barMinHeight\": 0,\n",
       "            \"barCategoryGap\": \"20%\",\n",
       "            \"barGap\": \"0%\",\n",
       "            \"large\": false,\n",
       "            \"largeThreshold\": 400,\n",
       "            \"seriesLayoutBy\": \"column\",\n",
       "            \"datasetIndex\": 0,\n",
       "            \"clip\": true,\n",
       "            \"zlevel\": 0,\n",
       "            \"z\": 2,\n",
       "            \"label\": {\n",
       "                \"show\": false,\n",
       "                \"position\": \"top\",\n",
       "                \"margin\": 8\n",
       "            },\n",
       "            \"rippleEffect\": {\n",
       "                \"show\": true,\n",
       "                \"brushType\": \"stroke\",\n",
       "                \"scale\": 2.5,\n",
       "                \"period\": 4\n",
       "            }\n",
       "        },\n",
       "        {\n",
       "            \"type\": \"bar\",\n",
       "            \"name\": \"\\u8425\\u4e1a\\u603b\\u6210\\u672c\",\n",
       "            \"legendHoverLink\": true,\n",
       "            \"data\": [\n",
       "                4.08,\n",
       "                4.69,\n",
       "                7.22,\n",
       "                8.48,\n",
       "                14.27,\n",
       "                15.22,\n",
       "                20.12,\n",
       "                24.13,\n",
       "                27.14,\n",
       "                28.53,\n",
       "                35.96,\n",
       "                44.73,\n",
       "                60.7,\n",
       "                76.28,\n",
       "                92.82,\n",
       "                101.17,\n",
       "                112.92,\n",
       "                158.89,\n",
       "                221.23,\n",
       "                258.66,\n",
       "                298.12\n",
       "            ],\n",
       "            \"showBackground\": false,\n",
       "            \"barMinHeight\": 0,\n",
       "            \"barCategoryGap\": \"20%\",\n",
       "            \"barGap\": \"0%\",\n",
       "            \"large\": false,\n",
       "            \"largeThreshold\": 400,\n",
       "            \"seriesLayoutBy\": \"column\",\n",
       "            \"datasetIndex\": 0,\n",
       "            \"clip\": true,\n",
       "            \"zlevel\": 0,\n",
       "            \"z\": 2,\n",
       "            \"label\": {\n",
       "                \"show\": false,\n",
       "                \"position\": \"top\",\n",
       "                \"margin\": 8\n",
       "            },\n",
       "            \"rippleEffect\": {\n",
       "                \"show\": true,\n",
       "                \"brushType\": \"stroke\",\n",
       "                \"scale\": 2.5,\n",
       "                \"period\": 4\n",
       "            }\n",
       "        },\n",
       "        {\n",
       "            \"type\": \"bar\",\n",
       "            \"name\": \"\\u603b\\u5229\\u6da6\",\n",
       "            \"legendHoverLink\": true,\n",
       "            \"data\": [\n",
       "                3.54,\n",
       "                4.46,\n",
       "                6.07,\n",
       "                6.49,\n",
       "                9.77,\n",
       "                14.91,\n",
       "                19.2,\n",
       "                24.88,\n",
       "                45.22,\n",
       "                53.85,\n",
       "                60.81,\n",
       "                71.62,\n",
       "                123.35,\n",
       "                187.0,\n",
       "                214.32,\n",
       "                218.82,\n",
       "                220.02,\n",
       "                239.58,\n",
       "                387.4,\n",
       "                508.28,\n",
       "                587.83\n",
       "            ],\n",
       "            \"showBackground\": false,\n",
       "            \"barMinHeight\": 0,\n",
       "            \"barCategoryGap\": \"20%\",\n",
       "            \"barGap\": \"0%\",\n",
       "            \"large\": false,\n",
       "            \"largeThreshold\": 400,\n",
       "            \"seriesLayoutBy\": \"column\",\n",
       "            \"datasetIndex\": 0,\n",
       "            \"clip\": true,\n",
       "            \"zlevel\": 0,\n",
       "            \"z\": 2,\n",
       "            \"label\": {\n",
       "                \"show\": false,\n",
       "                \"position\": \"top\",\n",
       "                \"margin\": 8\n",
       "            },\n",
       "            \"rippleEffect\": {\n",
       "                \"show\": true,\n",
       "                \"brushType\": \"stroke\",\n",
       "                \"scale\": 2.5,\n",
       "                \"period\": 4\n",
       "            }\n",
       "        },\n",
       "        {\n",
       "            \"type\": \"bar\",\n",
       "            \"name\": \"\\u51c0\\u5229\\u6da6\",\n",
       "            \"legendHoverLink\": true,\n",
       "            \"data\": [\n",
       "                2.16,\n",
       "                2.51,\n",
       "                3.28,\n",
       "                3.77,\n",
       "                6.09,\n",
       "                8.54,\n",
       "                11.69,\n",
       "                15.74,\n",
       "                29.66,\n",
       "                40.01,\n",
       "                45.53,\n",
       "                53.4,\n",
       "                92.5,\n",
       "                140.08,\n",
       "                159.65,\n",
       "                162.69,\n",
       "                164.55,\n",
       "                179.31,\n",
       "                290.06,\n",
       "                378.3,\n",
       "                439.7\n",
       "            ],\n",
       "            \"showBackground\": false,\n",
       "            \"barMinHeight\": 0,\n",
       "            \"barCategoryGap\": \"20%\",\n",
       "            \"barGap\": \"0%\",\n",
       "            \"large\": false,\n",
       "            \"largeThreshold\": 400,\n",
       "            \"seriesLayoutBy\": \"column\",\n",
       "            \"datasetIndex\": 0,\n",
       "            \"clip\": true,\n",
       "            \"zlevel\": 0,\n",
       "            \"z\": 2,\n",
       "            \"label\": {\n",
       "                \"show\": false,\n",
       "                \"position\": \"top\",\n",
       "                \"margin\": 8\n",
       "            },\n",
       "            \"rippleEffect\": {\n",
       "                \"show\": true,\n",
       "                \"brushType\": \"stroke\",\n",
       "                \"scale\": 2.5,\n",
       "                \"period\": 4\n",
       "            }\n",
       "        }\n",
       "    ],\n",
       "    \"legend\": [\n",
       "        {\n",
       "            \"data\": [\n",
       "                \"\\u8425\\u4e1a\\u603b\\u6536\\u5165\",\n",
       "                \"\\u8425\\u4e1a\\u603b\\u6210\\u672c\",\n",
       "                \"\\u603b\\u5229\\u6da6\",\n",
       "                \"\\u51c0\\u5229\\u6da6\"\n",
       "            ],\n",
       "            \"selected\": {\n",
       "                \"\\u8425\\u4e1a\\u603b\\u6536\\u5165\": true,\n",
       "                \"\\u8425\\u4e1a\\u603b\\u6210\\u672c\": true,\n",
       "                \"\\u603b\\u5229\\u6da6\": true,\n",
       "                \"\\u51c0\\u5229\\u6da6\": true\n",
       "            },\n",
       "            \"show\": true,\n",
       "            \"padding\": 5,\n",
       "            \"itemGap\": 10,\n",
       "            \"itemWidth\": 25,\n",
       "            \"itemHeight\": 14\n",
       "        }\n",
       "    ],\n",
       "    \"tooltip\": {\n",
       "        \"show\": true,\n",
       "        \"trigger\": \"item\",\n",
       "        \"triggerOn\": \"mousemove|click\",\n",
       "        \"axisPointer\": {\n",
       "            \"type\": \"line\"\n",
       "        },\n",
       "        \"showContent\": true,\n",
       "        \"alwaysShowContent\": false,\n",
       "        \"showDelay\": 0,\n",
       "        \"hideDelay\": 100,\n",
       "        \"textStyle\": {\n",
       "            \"fontSize\": 14\n",
       "        },\n",
       "        \"borderWidth\": 0,\n",
       "        \"padding\": 5\n",
       "    },\n",
       "    \"xAxis\": [\n",
       "        {\n",
       "            \"show\": true,\n",
       "            \"scale\": false,\n",
       "            \"nameLocation\": \"end\",\n",
       "            \"nameGap\": 15,\n",
       "            \"gridIndex\": 0,\n",
       "            \"inverse\": false,\n",
       "            \"offset\": 0,\n",
       "            \"splitNumber\": 5,\n",
       "            \"minInterval\": 0,\n",
       "            \"splitLine\": {\n",
       "                \"show\": false,\n",
       "                \"lineStyle\": {\n",
       "                    \"show\": true,\n",
       "                    \"width\": 1,\n",
       "                    \"opacity\": 1,\n",
       "                    \"curveness\": 0,\n",
       "                    \"type\": \"solid\"\n",
       "                }\n",
       "            },\n",
       "            \"data\": [\n",
       "                \"1999\",\n",
       "                \"2000\",\n",
       "                \"2001\",\n",
       "                \"2002\",\n",
       "                \"2003\",\n",
       "                \"2004\",\n",
       "                \"2005\",\n",
       "                \"2006\",\n",
       "                \"2007\",\n",
       "                \"2008\",\n",
       "                \"2009\",\n",
       "                \"2010\",\n",
       "                \"2011\",\n",
       "                \"2012\",\n",
       "                \"2013\",\n",
       "                \"2014\",\n",
       "                \"2015\",\n",
       "                \"2016\",\n",
       "                \"2017\",\n",
       "                \"2018\",\n",
       "                \"2019\"\n",
       "            ]\n",
       "        }\n",
       "    ],\n",
       "    \"yAxis\": [\n",
       "        {\n",
       "            \"show\": true,\n",
       "            \"scale\": false,\n",
       "            \"nameLocation\": \"end\",\n",
       "            \"nameGap\": 15,\n",
       "            \"gridIndex\": 0,\n",
       "            \"axisLabel\": {\n",
       "                \"show\": true,\n",
       "                \"position\": \"top\",\n",
       "                \"margin\": 8,\n",
       "                \"formatter\": \"{value} /\\u4ebf\"\n",
       "            },\n",
       "            \"inverse\": false,\n",
       "            \"offset\": 0,\n",
       "            \"splitNumber\": 5,\n",
       "            \"minInterval\": 0,\n",
       "            \"splitLine\": {\n",
       "                \"show\": false,\n",
       "                \"lineStyle\": {\n",
       "                    \"show\": true,\n",
       "                    \"width\": 1,\n",
       "                    \"opacity\": 1,\n",
       "                    \"curveness\": 0,\n",
       "                    \"type\": \"solid\"\n",
       "                }\n",
       "            }\n",
       "        }\n",
       "    ],\n",
       "    \"title\": [\n",
       "        {\n",
       "            \"padding\": 5,\n",
       "            \"itemGap\": 10\n",
       "        }\n",
       "    ],\n",
       "    \"dataZoom\": {\n",
       "        \"show\": true,\n",
       "        \"type\": \"slider\",\n",
       "        \"realtime\": true,\n",
       "        \"start\": 20,\n",
       "        \"end\": 80,\n",
       "        \"orient\": \"horizontal\",\n",
       "        \"zoomLock\": false,\n",
       "        \"filterMode\": \"filter\"\n",
       "    }\n",
       "};\n",
       "                chart_8d4d6eca6e0d4549928b8525806b5b96.setOption(option_8d4d6eca6e0d4549928b8525806b5b96);\n",
       "                var chart_1b74b57c01414ec38aa1fbabdd406459 = echarts.init(\n",
       "                    document.getElementById('1b74b57c01414ec38aa1fbabdd406459'), 'white', {renderer: 'canvas'});\n",
       "                var option_1b74b57c01414ec38aa1fbabdd406459 = {\n",
       "    \"animation\": true,\n",
       "    \"animationThreshold\": 2000,\n",
       "    \"animationDuration\": 1000,\n",
       "    \"animationEasing\": \"cubicOut\",\n",
       "    \"animationDelay\": 0,\n",
       "    \"animationDurationUpdate\": 300,\n",
       "    \"animationEasingUpdate\": \"cubicOut\",\n",
       "    \"animationDelayUpdate\": 0,\n",
       "    \"color\": [\n",
       "        \"#c23531\",\n",
       "        \"#2f4554\",\n",
       "        \"#61a0a8\",\n",
       "        \"#d48265\",\n",
       "        \"#749f83\",\n",
       "        \"#ca8622\",\n",
       "        \"#bda29a\",\n",
       "        \"#6e7074\",\n",
       "        \"#546570\",\n",
       "        \"#c4ccd3\",\n",
       "        \"#f05b72\",\n",
       "        \"#ef5b9c\",\n",
       "        \"#f47920\",\n",
       "        \"#905a3d\",\n",
       "        \"#fab27b\",\n",
       "        \"#2a5caa\",\n",
       "        \"#444693\",\n",
       "        \"#726930\",\n",
       "        \"#b2d235\",\n",
       "        \"#6d8346\",\n",
       "        \"#ac6767\",\n",
       "        \"#1d953f\",\n",
       "        \"#6950a1\",\n",
       "        \"#918597\"\n",
       "    ],\n",
       "    \"series\": [\n",
       "        {\n",
       "            \"type\": \"bar\",\n",
       "            \"name\": \"\\u603b\\u8d44\\u4ea7\",\n",
       "            \"legendHoverLink\": true,\n",
       "            \"data\": [\n",
       "                9.15,\n",
       "                12.69,\n",
       "                34.63,\n",
       "                39.31,\n",
       "                49.56,\n",
       "                63.74,\n",
       "                80.58,\n",
       "                93.89,\n",
       "                104.81,\n",
       "                157.54,\n",
       "                197.7,\n",
       "                255.88,\n",
       "                349.01,\n",
       "                449.98,\n",
       "                554.54,\n",
       "                658.73,\n",
       "                863.01,\n",
       "                1129.35,\n",
       "                1346.1,\n",
       "                1598.47,\n",
       "                1830.42\n",
       "            ],\n",
       "            \"showBackground\": false,\n",
       "            \"barMinHeight\": 0,\n",
       "            \"barCategoryGap\": \"20%\",\n",
       "            \"barGap\": \"0%\",\n",
       "            \"large\": false,\n",
       "            \"largeThreshold\": 400,\n",
       "            \"seriesLayoutBy\": \"column\",\n",
       "            \"datasetIndex\": 0,\n",
       "            \"clip\": true,\n",
       "            \"zlevel\": 0,\n",
       "            \"z\": 2,\n",
       "            \"label\": {\n",
       "                \"show\": false,\n",
       "                \"position\": \"top\",\n",
       "                \"margin\": 8\n",
       "            },\n",
       "            \"rippleEffect\": {\n",
       "                \"show\": true,\n",
       "                \"brushType\": \"stroke\",\n",
       "                \"scale\": 2.5,\n",
       "                \"period\": 4\n",
       "            }\n",
       "        },\n",
       "        {\n",
       "            \"type\": \"bar\",\n",
       "            \"name\": \"\\u6d41\\u52a8\\u8d44\\u4ea7\",\n",
       "            \"legendHoverLink\": true,\n",
       "            \"data\": [\n",
       "                7.2,\n",
       "                10.7,\n",
       "                28.7,\n",
       "                29.91,\n",
       "                37.56,\n",
       "                47.73,\n",
       "                60.2,\n",
       "                67.51,\n",
       "                72.72,\n",
       "                122.41,\n",
       "                156.56,\n",
       "                203.0,\n",
       "                278.3,\n",
       "                362.25,\n",
       "                419.32,\n",
       "                475.71,\n",
       "                650.05,\n",
       "                901.81,\n",
       "                1122.49,\n",
       "                1378.62,\n",
       "                1590.24\n",
       "            ],\n",
       "            \"showBackground\": false,\n",
       "            \"barMinHeight\": 0,\n",
       "            \"barCategoryGap\": \"20%\",\n",
       "            \"barGap\": \"0%\",\n",
       "            \"large\": false,\n",
       "            \"largeThreshold\": 400,\n",
       "            \"seriesLayoutBy\": \"column\",\n",
       "            \"datasetIndex\": 0,\n",
       "            \"clip\": true,\n",
       "            \"zlevel\": 0,\n",
       "            \"z\": 2,\n",
       "            \"label\": {\n",
       "                \"show\": false,\n",
       "                \"position\": \"top\",\n",
       "                \"margin\": 8\n",
       "            },\n",
       "            \"rippleEffect\": {\n",
       "                \"show\": true,\n",
       "                \"brushType\": \"stroke\",\n",
       "                \"scale\": 2.5,\n",
       "                \"period\": 4\n",
       "            }\n",
       "        },\n",
       "        {\n",
       "            \"type\": \"bar\",\n",
       "            \"name\": \"\\u975e\\u6d41\\u52a8\\u8d44\\u4ea7\",\n",
       "            \"legendHoverLink\": true,\n",
       "            \"data\": [\n",
       "                1.95,\n",
       "                1.99,\n",
       "                null,\n",
       "                9.4,\n",
       "                12.0,\n",
       "                16.01,\n",
       "                20.38,\n",
       "                26.38,\n",
       "                32.1,\n",
       "                35.13,\n",
       "                41.14,\n",
       "                52.87,\n",
       "                70.71,\n",
       "                87.73,\n",
       "                135.23,\n",
       "                183.02,\n",
       "                212.97,\n",
       "                227.54,\n",
       "                223.61,\n",
       "                219.85,\n",
       "                240.18\n",
       "            ],\n",
       "            \"showBackground\": false,\n",
       "            \"barMinHeight\": 0,\n",
       "            \"barCategoryGap\": \"20%\",\n",
       "            \"barGap\": \"0%\",\n",
       "            \"large\": false,\n",
       "            \"largeThreshold\": 400,\n",
       "            \"seriesLayoutBy\": \"column\",\n",
       "            \"datasetIndex\": 0,\n",
       "            \"clip\": true,\n",
       "            \"zlevel\": 0,\n",
       "            \"z\": 2,\n",
       "            \"label\": {\n",
       "                \"show\": false,\n",
       "                \"position\": \"top\",\n",
       "                \"margin\": 8\n",
       "            },\n",
       "            \"rippleEffect\": {\n",
       "                \"show\": true,\n",
       "                \"brushType\": \"stroke\",\n",
       "                \"scale\": 2.5,\n",
       "                \"period\": 4\n",
       "            }\n",
       "        },\n",
       "        {\n",
       "            \"type\": \"bar\",\n",
       "            \"name\": \"\\u603b\\u8d1f\\u503a\",\n",
       "            \"legendHoverLink\": true,\n",
       "            \"data\": [\n",
       "                6.3,\n",
       "                8.24,\n",
       "                9.26,\n",
       "                10.56,\n",
       "                14.86,\n",
       "                21.57,\n",
       "                28.95,\n",
       "                33.94,\n",
       "                21.13,\n",
       "                42.51,\n",
       "                51.18,\n",
       "                70.38,\n",
       "                94.97,\n",
       "                95.44,\n",
       "                113.25,\n",
       "                105.62,\n",
       "                200.67,\n",
       "                370.36,\n",
       "                385.9,\n",
       "                424.38,\n",
       "                411.66\n",
       "            ],\n",
       "            \"showBackground\": false,\n",
       "            \"barMinHeight\": 0,\n",
       "            \"barCategoryGap\": \"20%\",\n",
       "            \"barGap\": \"0%\",\n",
       "            \"large\": false,\n",
       "            \"largeThreshold\": 400,\n",
       "            \"seriesLayoutBy\": \"column\",\n",
       "            \"datasetIndex\": 0,\n",
       "            \"clip\": true,\n",
       "            \"zlevel\": 0,\n",
       "            \"z\": 2,\n",
       "            \"label\": {\n",
       "                \"show\": false,\n",
       "                \"position\": \"top\",\n",
       "                \"margin\": 8\n",
       "            },\n",
       "            \"rippleEffect\": {\n",
       "                \"show\": true,\n",
       "                \"brushType\": \"stroke\",\n",
       "                \"scale\": 2.5,\n",
       "                \"period\": 4\n",
       "            }\n",
       "        },\n",
       "        {\n",
       "            \"type\": \"bar\",\n",
       "            \"name\": \"\\u6d41\\u52a8\\u8d1f\\u503a\",\n",
       "            \"legendHoverLink\": true,\n",
       "            \"data\": [\n",
       "                6.3,\n",
       "                8.24,\n",
       "                9.26,\n",
       "                10.56,\n",
       "                14.86,\n",
       "                21.57,\n",
       "                28.95,\n",
       "                33.94,\n",
       "                21.13,\n",
       "                42.51,\n",
       "                51.08,\n",
       "                70.28,\n",
       "                94.81,\n",
       "                95.26,\n",
       "                113.07,\n",
       "                105.44,\n",
       "                200.52,\n",
       "                370.2,\n",
       "                385.75,\n",
       "                424.38,\n",
       "                410.93\n",
       "            ],\n",
       "            \"showBackground\": false,\n",
       "            \"barMinHeight\": 0,\n",
       "            \"barCategoryGap\": \"20%\",\n",
       "            \"barGap\": \"0%\",\n",
       "            \"large\": false,\n",
       "            \"largeThreshold\": 400,\n",
       "            \"seriesLayoutBy\": \"column\",\n",
       "            \"datasetIndex\": 0,\n",
       "            \"clip\": true,\n",
       "            \"zlevel\": 0,\n",
       "            \"z\": 2,\n",
       "            \"label\": {\n",
       "                \"show\": false,\n",
       "                \"position\": \"top\",\n",
       "                \"margin\": 8\n",
       "            },\n",
       "            \"rippleEffect\": {\n",
       "                \"show\": true,\n",
       "                \"brushType\": \"stroke\",\n",
       "                \"scale\": 2.5,\n",
       "                \"period\": 4\n",
       "            }\n",
       "        },\n",
       "        {\n",
       "            \"type\": \"bar\",\n",
       "            \"name\": \"\\u975e\\u6d41\\u52a8\\u8d1f\\u503a\",\n",
       "            \"legendHoverLink\": true,\n",
       "            \"data\": [\n",
       "                0.0,\n",
       "                0.0,\n",
       "                null,\n",
       "                0.0,\n",
       "                0.0,\n",
       "                0.0,\n",
       "                0.0,\n",
       "                0.0,\n",
       "                null,\n",
       "                null,\n",
       "                0.1,\n",
       "                0.1,\n",
       "                0.17,\n",
       "                0.18,\n",
       "                0.18,\n",
       "                0.18,\n",
       "                0.16,\n",
       "                0.16,\n",
       "                0.16,\n",
       "                null,\n",
       "                0.73\n",
       "            ],\n",
       "            \"showBackground\": false,\n",
       "            \"barMinHeight\": 0,\n",
       "            \"barCategoryGap\": \"20%\",\n",
       "            \"barGap\": \"0%\",\n",
       "            \"large\": false,\n",
       "            \"largeThreshold\": 400,\n",
       "            \"seriesLayoutBy\": \"column\",\n",
       "            \"datasetIndex\": 0,\n",
       "            \"clip\": true,\n",
       "            \"zlevel\": 0,\n",
       "            \"z\": 2,\n",
       "            \"label\": {\n",
       "                \"show\": false,\n",
       "                \"position\": \"top\",\n",
       "                \"margin\": 8\n",
       "            },\n",
       "            \"rippleEffect\": {\n",
       "                \"show\": true,\n",
       "                \"brushType\": \"stroke\",\n",
       "                \"scale\": 2.5,\n",
       "                \"period\": 4\n",
       "            }\n",
       "        },\n",
       "        {\n",
       "            \"type\": \"bar\",\n",
       "            \"name\": \"\\u80a1\\u4e1c\\u6743\\u76ca\",\n",
       "            \"legendHoverLink\": true,\n",
       "            \"data\": [\n",
       "                2.85,\n",
       "                4.44,\n",
       "                25.31,\n",
       "                28.53,\n",
       "                34.71,\n",
       "                42.17,\n",
       "                51.62,\n",
       "                59.95,\n",
       "                83.69,\n",
       "                115.03,\n",
       "                146.52,\n",
       "                185.49,\n",
       "                254.03,\n",
       "                354.54,\n",
       "                441.29,\n",
       "                553.12,\n",
       "                662.34,\n",
       "                758.99,\n",
       "                960.2,\n",
       "                1174.08,\n",
       "                1418.76\n",
       "            ],\n",
       "            \"showBackground\": false,\n",
       "            \"barMinHeight\": 0,\n",
       "            \"barCategoryGap\": \"20%\",\n",
       "            \"barGap\": \"0%\",\n",
       "            \"large\": false,\n",
       "            \"largeThreshold\": 400,\n",
       "            \"seriesLayoutBy\": \"column\",\n",
       "            \"datasetIndex\": 0,\n",
       "            \"clip\": true,\n",
       "            \"zlevel\": 0,\n",
       "            \"z\": 2,\n",
       "            \"label\": {\n",
       "                \"show\": false,\n",
       "                \"position\": \"top\",\n",
       "                \"margin\": 8\n",
       "            },\n",
       "            \"rippleEffect\": {\n",
       "                \"show\": true,\n",
       "                \"brushType\": \"stroke\",\n",
       "                \"scale\": 2.5,\n",
       "                \"period\": 4\n",
       "            }\n",
       "        }\n",
       "    ],\n",
       "    \"legend\": [\n",
       "        {\n",
       "            \"data\": [\n",
       "                \"\\u603b\\u8d44\\u4ea7\",\n",
       "                \"\\u6d41\\u52a8\\u8d44\\u4ea7\",\n",
       "                \"\\u975e\\u6d41\\u52a8\\u8d44\\u4ea7\",\n",
       "                \"\\u603b\\u8d1f\\u503a\",\n",
       "                \"\\u6d41\\u52a8\\u8d1f\\u503a\",\n",
       "                \"\\u975e\\u6d41\\u52a8\\u8d1f\\u503a\",\n",
       "                \"\\u80a1\\u4e1c\\u6743\\u76ca\"\n",
       "            ],\n",
       "            \"selected\": {\n",
       "                \"\\u603b\\u8d44\\u4ea7\": true,\n",
       "                \"\\u6d41\\u52a8\\u8d44\\u4ea7\": true,\n",
       "                \"\\u975e\\u6d41\\u52a8\\u8d44\\u4ea7\": true,\n",
       "                \"\\u603b\\u8d1f\\u503a\": true,\n",
       "                \"\\u6d41\\u52a8\\u8d1f\\u503a\": true,\n",
       "                \"\\u975e\\u6d41\\u52a8\\u8d1f\\u503a\": true,\n",
       "                \"\\u80a1\\u4e1c\\u6743\\u76ca\": true\n",
       "            },\n",
       "            \"show\": true,\n",
       "            \"padding\": 5,\n",
       "            \"itemGap\": 10,\n",
       "            \"itemWidth\": 25,\n",
       "            \"itemHeight\": 14\n",
       "        }\n",
       "    ],\n",
       "    \"tooltip\": {\n",
       "        \"show\": true,\n",
       "        \"trigger\": \"item\",\n",
       "        \"triggerOn\": \"mousemove|click\",\n",
       "        \"axisPointer\": {\n",
       "            \"type\": \"line\"\n",
       "        },\n",
       "        \"showContent\": true,\n",
       "        \"alwaysShowContent\": false,\n",
       "        \"showDelay\": 0,\n",
       "        \"hideDelay\": 100,\n",
       "        \"textStyle\": {\n",
       "            \"fontSize\": 14\n",
       "        },\n",
       "        \"borderWidth\": 0,\n",
       "        \"padding\": 5\n",
       "    },\n",
       "    \"xAxis\": [\n",
       "        {\n",
       "            \"show\": true,\n",
       "            \"scale\": false,\n",
       "            \"nameLocation\": \"end\",\n",
       "            \"nameGap\": 15,\n",
       "            \"gridIndex\": 0,\n",
       "            \"inverse\": false,\n",
       "            \"offset\": 0,\n",
       "            \"splitNumber\": 5,\n",
       "            \"minInterval\": 0,\n",
       "            \"splitLine\": {\n",
       "                \"show\": false,\n",
       "                \"lineStyle\": {\n",
       "                    \"show\": true,\n",
       "                    \"width\": 1,\n",
       "                    \"opacity\": 1,\n",
       "                    \"curveness\": 0,\n",
       "                    \"type\": \"solid\"\n",
       "                }\n",
       "            },\n",
       "            \"data\": [\n",
       "                1999,\n",
       "                2000,\n",
       "                2001,\n",
       "                2002,\n",
       "                2003,\n",
       "                2004,\n",
       "                2005,\n",
       "                2006,\n",
       "                2007,\n",
       "                2008,\n",
       "                2009,\n",
       "                2010,\n",
       "                2011,\n",
       "                2012,\n",
       "                2013,\n",
       "                2014,\n",
       "                2015,\n",
       "                2016,\n",
       "                2017,\n",
       "                2018,\n",
       "                2019\n",
       "            ]\n",
       "        }\n",
       "    ],\n",
       "    \"yAxis\": [\n",
       "        {\n",
       "            \"show\": true,\n",
       "            \"scale\": false,\n",
       "            \"nameLocation\": \"end\",\n",
       "            \"nameGap\": 15,\n",
       "            \"gridIndex\": 0,\n",
       "            \"axisLabel\": {\n",
       "                \"show\": true,\n",
       "                \"position\": \"top\",\n",
       "                \"margin\": 8,\n",
       "                \"formatter\": \"{value} /\\u4ebf\"\n",
       "            },\n",
       "            \"inverse\": false,\n",
       "            \"offset\": 0,\n",
       "            \"splitNumber\": 5,\n",
       "            \"minInterval\": 0,\n",
       "            \"splitLine\": {\n",
       "                \"show\": false,\n",
       "                \"lineStyle\": {\n",
       "                    \"show\": true,\n",
       "                    \"width\": 1,\n",
       "                    \"opacity\": 1,\n",
       "                    \"curveness\": 0,\n",
       "                    \"type\": \"solid\"\n",
       "                }\n",
       "            }\n",
       "        }\n",
       "    ],\n",
       "    \"title\": [\n",
       "        {\n",
       "            \"padding\": 5,\n",
       "            \"itemGap\": 10\n",
       "        }\n",
       "    ],\n",
       "    \"dataZoom\": {\n",
       "        \"show\": true,\n",
       "        \"type\": \"slider\",\n",
       "        \"realtime\": true,\n",
       "        \"start\": 20,\n",
       "        \"end\": 80,\n",
       "        \"orient\": \"horizontal\",\n",
       "        \"zoomLock\": false,\n",
       "        \"filterMode\": \"filter\"\n",
       "    }\n",
       "};\n",
       "                chart_1b74b57c01414ec38aa1fbabdd406459.setOption(option_1b74b57c01414ec38aa1fbabdd406459);\n",
       "                var chart_e61226002a6643eb89ed65db92a4ad4b = echarts.init(\n",
       "                    document.getElementById('e61226002a6643eb89ed65db92a4ad4b'), 'white', {renderer: 'canvas'});\n",
       "                var option_e61226002a6643eb89ed65db92a4ad4b = {\n",
       "    \"animation\": true,\n",
       "    \"animationThreshold\": 2000,\n",
       "    \"animationDuration\": 1000,\n",
       "    \"animationEasing\": \"cubicOut\",\n",
       "    \"animationDelay\": 0,\n",
       "    \"animationDurationUpdate\": 300,\n",
       "    \"animationEasingUpdate\": \"cubicOut\",\n",
       "    \"animationDelayUpdate\": 0,\n",
       "    \"color\": [\n",
       "        \"#c23531\",\n",
       "        \"#2f4554\",\n",
       "        \"#61a0a8\",\n",
       "        \"#d48265\",\n",
       "        \"#749f83\",\n",
       "        \"#ca8622\",\n",
       "        \"#bda29a\",\n",
       "        \"#6e7074\",\n",
       "        \"#546570\",\n",
       "        \"#c4ccd3\",\n",
       "        \"#f05b72\",\n",
       "        \"#ef5b9c\",\n",
       "        \"#f47920\",\n",
       "        \"#905a3d\",\n",
       "        \"#fab27b\",\n",
       "        \"#2a5caa\",\n",
       "        \"#444693\",\n",
       "        \"#726930\",\n",
       "        \"#b2d235\",\n",
       "        \"#6d8346\",\n",
       "        \"#ac6767\",\n",
       "        \"#1d953f\",\n",
       "        \"#6950a1\",\n",
       "        \"#918597\"\n",
       "    ],\n",
       "    \"series\": [\n",
       "        {\n",
       "            \"type\": \"bar\",\n",
       "            \"name\": \"\\u7ecf\\u8425\\u6d3b\\u52a8\\u4ea7\\u751f\\u7684\\u73b0\\u91d1\\u6d41\\u91cf\\u51c0\\u989d\\u7ecf\\u8425\",\n",
       "            \"legendHoverLink\": true,\n",
       "            \"data\": [\n",
       "                9.15,\n",
       "                12.69,\n",
       "                34.63,\n",
       "                39.31,\n",
       "                49.56,\n",
       "                63.74,\n",
       "                80.58,\n",
       "                93.89,\n",
       "                104.81,\n",
       "                157.54,\n",
       "                197.7,\n",
       "                255.88,\n",
       "                349.01,\n",
       "                449.98,\n",
       "                554.54,\n",
       "                658.73,\n",
       "                863.01,\n",
       "                1129.35,\n",
       "                1346.1,\n",
       "                1598.47,\n",
       "                1830.42\n",
       "            ],\n",
       "            \"showBackground\": false,\n",
       "            \"barMinHeight\": 0,\n",
       "            \"barCategoryGap\": \"20%\",\n",
       "            \"barGap\": \"0%\",\n",
       "            \"large\": false,\n",
       "            \"largeThreshold\": 400,\n",
       "            \"seriesLayoutBy\": \"column\",\n",
       "            \"datasetIndex\": 0,\n",
       "            \"clip\": true,\n",
       "            \"zlevel\": 0,\n",
       "            \"z\": 2,\n",
       "            \"label\": {\n",
       "                \"show\": false,\n",
       "                \"position\": \"top\",\n",
       "                \"margin\": 8\n",
       "            },\n",
       "            \"rippleEffect\": {\n",
       "                \"show\": true,\n",
       "                \"brushType\": \"stroke\",\n",
       "                \"scale\": 2.5,\n",
       "                \"period\": 4\n",
       "            }\n",
       "        },\n",
       "        {\n",
       "            \"type\": \"bar\",\n",
       "            \"name\": \"\\u6295\\u8d44\\u6d3b\\u52a8\\u4ea7\\u751f\\u7684\\u73b0\\u91d1\\u6d41\\u91cf\\u51c0\\u989d\",\n",
       "            \"legendHoverLink\": true,\n",
       "            \"data\": [\n",
       "                7.2,\n",
       "                10.7,\n",
       "                28.7,\n",
       "                29.91,\n",
       "                37.56,\n",
       "                47.73,\n",
       "                60.2,\n",
       "                67.51,\n",
       "                72.72,\n",
       "                122.41,\n",
       "                156.56,\n",
       "                203.0,\n",
       "                278.3,\n",
       "                362.25,\n",
       "                419.32,\n",
       "                475.71,\n",
       "                650.05,\n",
       "                901.81,\n",
       "                1122.49,\n",
       "                1378.62,\n",
       "                1590.24\n",
       "            ],\n",
       "            \"showBackground\": false,\n",
       "            \"barMinHeight\": 0,\n",
       "            \"barCategoryGap\": \"20%\",\n",
       "            \"barGap\": \"0%\",\n",
       "            \"large\": false,\n",
       "            \"largeThreshold\": 400,\n",
       "            \"seriesLayoutBy\": \"column\",\n",
       "            \"datasetIndex\": 0,\n",
       "            \"clip\": true,\n",
       "            \"zlevel\": 0,\n",
       "            \"z\": 2,\n",
       "            \"label\": {\n",
       "                \"show\": false,\n",
       "                \"position\": \"top\",\n",
       "                \"margin\": 8\n",
       "            },\n",
       "            \"rippleEffect\": {\n",
       "                \"show\": true,\n",
       "                \"brushType\": \"stroke\",\n",
       "                \"scale\": 2.5,\n",
       "                \"period\": 4\n",
       "            }\n",
       "        },\n",
       "        {\n",
       "            \"type\": \"bar\",\n",
       "            \"name\": \"\\u7b79\\u8d44\\u6d3b\\u52a8\\u4ea7\\u751f\\u7684\\u73b0\\u91d1\\u6d41\\u91cf\\u51c0\\u989d\",\n",
       "            \"legendHoverLink\": true,\n",
       "            \"data\": [\n",
       "                1.95,\n",
       "                1.99,\n",
       "                null,\n",
       "                9.4,\n",
       "                12.0,\n",
       "                16.01,\n",
       "                20.38,\n",
       "                26.38,\n",
       "                32.1,\n",
       "                35.13,\n",
       "                41.14,\n",
       "                52.87,\n",
       "                70.71,\n",
       "                87.73,\n",
       "                135.23,\n",
       "                183.02,\n",
       "                212.97,\n",
       "                227.54,\n",
       "                223.61,\n",
       "                219.85,\n",
       "                240.18\n",
       "            ],\n",
       "            \"showBackground\": false,\n",
       "            \"barMinHeight\": 0,\n",
       "            \"barCategoryGap\": \"20%\",\n",
       "            \"barGap\": \"0%\",\n",
       "            \"large\": false,\n",
       "            \"largeThreshold\": 400,\n",
       "            \"seriesLayoutBy\": \"column\",\n",
       "            \"datasetIndex\": 0,\n",
       "            \"clip\": true,\n",
       "            \"zlevel\": 0,\n",
       "            \"z\": 2,\n",
       "            \"label\": {\n",
       "                \"show\": false,\n",
       "                \"position\": \"top\",\n",
       "                \"margin\": 8\n",
       "            },\n",
       "            \"rippleEffect\": {\n",
       "                \"show\": true,\n",
       "                \"brushType\": \"stroke\",\n",
       "                \"scale\": 2.5,\n",
       "                \"period\": 4\n",
       "            }\n",
       "        },\n",
       "        {\n",
       "            \"type\": \"line\",\n",
       "            \"name\": \"\\u73b0\\u91d1\\u53ca\\u73b0\\u91d1\\u7b49\\u4ef7\\u7269\\u51c0\\u589e\\u52a0\\u989d\",\n",
       "            \"connectNulls\": false,\n",
       "            \"symbolSize\": 4,\n",
       "            \"showSymbol\": true,\n",
       "            \"smooth\": false,\n",
       "            \"clip\": true,\n",
       "            \"step\": false,\n",
       "            \"data\": [\n",
       "                [\n",
       "                    \"2000\",\n",
       "                    2.63\n",
       "                ],\n",
       "                [\n",
       "                    \"2001\",\n",
       "                    14.95\n",
       "                ],\n",
       "                [\n",
       "                    \"2002\",\n",
       "                    -1.76\n",
       "                ],\n",
       "                [\n",
       "                    \"2003\",\n",
       "                    5.6\n",
       "                ],\n",
       "                [\n",
       "                    \"2004\",\n",
       "                    5.58\n",
       "                ],\n",
       "                [\n",
       "                    \"2005\",\n",
       "                    9.94\n",
       "                ],\n",
       "                [\n",
       "                    \"2006\",\n",
       "                    5.71\n",
       "                ],\n",
       "                [\n",
       "                    \"2007\",\n",
       "                    2.48\n",
       "                ],\n",
       "                [\n",
       "                    \"2008\",\n",
       "                    33.71\n",
       "                ],\n",
       "                [\n",
       "                    \"2009\",\n",
       "                    16.49\n",
       "                ],\n",
       "                [\n",
       "                    \"2010\",\n",
       "                    31.45\n",
       "                ],\n",
       "                [\n",
       "                    \"2011\",\n",
       "                    53.66\n",
       "                ],\n",
       "                [\n",
       "                    \"2012\",\n",
       "                    38.07\n",
       "                ],\n",
       "                [\n",
       "                    \"2013\",\n",
       "                    -0.7\n",
       "                ],\n",
       "                [\n",
       "                    \"2014\",\n",
       "                    30.05\n",
       "                ],\n",
       "                [\n",
       "                    \"2015\",\n",
       "                    97.83\n",
       "                ],\n",
       "                [\n",
       "                    \"2016\",\n",
       "                    280.14\n",
       "                ],\n",
       "                [\n",
       "                    \"2017\",\n",
       "                    121.33\n",
       "                ],\n",
       "                [\n",
       "                    \"2018\",\n",
       "                    233.15\n",
       "                ],\n",
       "                [\n",
       "                    \"2019\",\n",
       "                    227.61\n",
       "                ]\n",
       "            ],\n",
       "            \"hoverAnimation\": true,\n",
       "            \"label\": {\n",
       "                \"show\": false,\n",
       "                \"position\": \"top\",\n",
       "                \"margin\": 8\n",
       "            },\n",
       "            \"lineStyle\": {\n",
       "                \"show\": true,\n",
       "                \"width\": 1,\n",
       "                \"opacity\": 1,\n",
       "                \"curveness\": 0,\n",
       "                \"type\": \"solid\"\n",
       "            },\n",
       "            \"areaStyle\": {\n",
       "                \"opacity\": 0\n",
       "            },\n",
       "            \"zlevel\": 0,\n",
       "            \"z\": 0\n",
       "        },\n",
       "        {\n",
       "            \"type\": \"line\",\n",
       "            \"name\": \"\\u5e74\\u672b\\u73b0\\u91d1\\u53ca\\u73b0\\u91d1\\u7b49\\u4ef7\\u7269\",\n",
       "            \"connectNulls\": false,\n",
       "            \"symbolSize\": 4,\n",
       "            \"showSymbol\": true,\n",
       "            \"smooth\": false,\n",
       "            \"clip\": true,\n",
       "            \"step\": false,\n",
       "            \"data\": [\n",
       "                [\n",
       "                    \"2000\",\n",
       "                    0.0\n",
       "                ],\n",
       "                [\n",
       "                    \"2001\",\n",
       "                    19.56\n",
       "                ],\n",
       "                [\n",
       "                    \"2002\",\n",
       "                    17.8\n",
       "                ],\n",
       "                [\n",
       "                    \"2003\",\n",
       "                    23.4\n",
       "                ],\n",
       "                [\n",
       "                    \"2004\",\n",
       "                    28.98\n",
       "                ],\n",
       "                [\n",
       "                    \"2005\",\n",
       "                    38.92\n",
       "                ],\n",
       "                [\n",
       "                    \"2006\",\n",
       "                    44.63\n",
       "                ],\n",
       "                [\n",
       "                    \"2007\",\n",
       "                    47.23\n",
       "                ],\n",
       "                [\n",
       "                    \"2008\",\n",
       "                    80.94\n",
       "                ],\n",
       "                [\n",
       "                    \"2009\",\n",
       "                    97.43\n",
       "                ],\n",
       "                [\n",
       "                    \"2010\",\n",
       "                    128.88\n",
       "                ],\n",
       "                [\n",
       "                    \"2011\",\n",
       "                    182.55\n",
       "                ],\n",
       "                [\n",
       "                    \"2012\",\n",
       "                    220.62\n",
       "                ],\n",
       "                [\n",
       "                    \"2013\",\n",
       "                    219.92\n",
       "                ],\n",
       "                [\n",
       "                    \"2014\",\n",
       "                    249.97\n",
       "                ],\n",
       "                [\n",
       "                    \"2015\",\n",
       "                    347.8\n",
       "                ],\n",
       "                [\n",
       "                    \"2016\",\n",
       "                    627.95\n",
       "                ],\n",
       "                [\n",
       "                    \"2017\",\n",
       "                    749.28\n",
       "                ],\n",
       "                [\n",
       "                    \"2018\",\n",
       "                    982.43\n",
       "                ],\n",
       "                [\n",
       "                    \"2019\",\n",
       "                    1210.04\n",
       "                ]\n",
       "            ],\n",
       "            \"hoverAnimation\": true,\n",
       "            \"label\": {\n",
       "                \"show\": false,\n",
       "                \"position\": \"top\",\n",
       "                \"margin\": 8\n",
       "            },\n",
       "            \"lineStyle\": {\n",
       "                \"show\": true,\n",
       "                \"width\": 1,\n",
       "                \"opacity\": 1,\n",
       "                \"curveness\": 0,\n",
       "                \"type\": \"solid\"\n",
       "            },\n",
       "            \"areaStyle\": {\n",
       "                \"opacity\": 0\n",
       "            },\n",
       "            \"zlevel\": 0,\n",
       "            \"z\": 0\n",
       "        }\n",
       "    ],\n",
       "    \"legend\": [\n",
       "        {\n",
       "            \"data\": [\n",
       "                \"\\u7ecf\\u8425\\u6d3b\\u52a8\\u4ea7\\u751f\\u7684\\u73b0\\u91d1\\u6d41\\u91cf\\u51c0\\u989d\\u7ecf\\u8425\",\n",
       "                \"\\u6295\\u8d44\\u6d3b\\u52a8\\u4ea7\\u751f\\u7684\\u73b0\\u91d1\\u6d41\\u91cf\\u51c0\\u989d\",\n",
       "                \"\\u7b79\\u8d44\\u6d3b\\u52a8\\u4ea7\\u751f\\u7684\\u73b0\\u91d1\\u6d41\\u91cf\\u51c0\\u989d\",\n",
       "                \"\\u73b0\\u91d1\\u53ca\\u73b0\\u91d1\\u7b49\\u4ef7\\u7269\\u51c0\\u589e\\u52a0\\u989d\",\n",
       "                \"\\u5e74\\u672b\\u73b0\\u91d1\\u53ca\\u73b0\\u91d1\\u7b49\\u4ef7\\u7269\"\n",
       "            ],\n",
       "            \"selected\": {\n",
       "                \"\\u7ecf\\u8425\\u6d3b\\u52a8\\u4ea7\\u751f\\u7684\\u73b0\\u91d1\\u6d41\\u91cf\\u51c0\\u989d\\u7ecf\\u8425\": true,\n",
       "                \"\\u6295\\u8d44\\u6d3b\\u52a8\\u4ea7\\u751f\\u7684\\u73b0\\u91d1\\u6d41\\u91cf\\u51c0\\u989d\": true,\n",
       "                \"\\u7b79\\u8d44\\u6d3b\\u52a8\\u4ea7\\u751f\\u7684\\u73b0\\u91d1\\u6d41\\u91cf\\u51c0\\u989d\": true,\n",
       "                \"\\u73b0\\u91d1\\u53ca\\u73b0\\u91d1\\u7b49\\u4ef7\\u7269\\u51c0\\u589e\\u52a0\\u989d\": true,\n",
       "                \"\\u5e74\\u672b\\u73b0\\u91d1\\u53ca\\u73b0\\u91d1\\u7b49\\u4ef7\\u7269\": true\n",
       "            },\n",
       "            \"show\": true,\n",
       "            \"padding\": 5,\n",
       "            \"itemGap\": 10,\n",
       "            \"itemWidth\": 25,\n",
       "            \"itemHeight\": 14\n",
       "        }\n",
       "    ],\n",
       "    \"tooltip\": {\n",
       "        \"show\": true,\n",
       "        \"trigger\": \"item\",\n",
       "        \"triggerOn\": \"mousemove|click\",\n",
       "        \"axisPointer\": {\n",
       "            \"type\": \"line\"\n",
       "        },\n",
       "        \"showContent\": true,\n",
       "        \"alwaysShowContent\": false,\n",
       "        \"showDelay\": 0,\n",
       "        \"hideDelay\": 100,\n",
       "        \"textStyle\": {\n",
       "            \"fontSize\": 14\n",
       "        },\n",
       "        \"borderWidth\": 0,\n",
       "        \"padding\": 5\n",
       "    },\n",
       "    \"xAxis\": [\n",
       "        {\n",
       "            \"show\": true,\n",
       "            \"scale\": false,\n",
       "            \"nameLocation\": \"end\",\n",
       "            \"nameGap\": 15,\n",
       "            \"gridIndex\": 0,\n",
       "            \"inverse\": false,\n",
       "            \"offset\": 0,\n",
       "            \"splitNumber\": 5,\n",
       "            \"minInterval\": 0,\n",
       "            \"splitLine\": {\n",
       "                \"show\": false,\n",
       "                \"lineStyle\": {\n",
       "                    \"show\": true,\n",
       "                    \"width\": 1,\n",
       "                    \"opacity\": 1,\n",
       "                    \"curveness\": 0,\n",
       "                    \"type\": \"solid\"\n",
       "                }\n",
       "            },\n",
       "            \"data\": [\n",
       "                \"2000\",\n",
       "                \"2001\",\n",
       "                \"2002\",\n",
       "                \"2003\",\n",
       "                \"2004\",\n",
       "                \"2005\",\n",
       "                \"2006\",\n",
       "                \"2007\",\n",
       "                \"2008\",\n",
       "                \"2009\",\n",
       "                \"2010\",\n",
       "                \"2011\",\n",
       "                \"2012\",\n",
       "                \"2013\",\n",
       "                \"2014\",\n",
       "                \"2015\",\n",
       "                \"2016\",\n",
       "                \"2017\",\n",
       "                \"2018\",\n",
       "                \"2019\"\n",
       "            ]\n",
       "        }\n",
       "    ],\n",
       "    \"yAxis\": [\n",
       "        {\n",
       "            \"show\": true,\n",
       "            \"scale\": false,\n",
       "            \"nameLocation\": \"end\",\n",
       "            \"nameGap\": 15,\n",
       "            \"gridIndex\": 0,\n",
       "            \"axisLabel\": {\n",
       "                \"show\": true,\n",
       "                \"position\": \"top\",\n",
       "                \"margin\": 8,\n",
       "                \"formatter\": \"{value}\\u4ebf\"\n",
       "            },\n",
       "            \"inverse\": false,\n",
       "            \"offset\": 0,\n",
       "            \"splitNumber\": 5,\n",
       "            \"minInterval\": 0,\n",
       "            \"splitLine\": {\n",
       "                \"show\": false,\n",
       "                \"lineStyle\": {\n",
       "                    \"show\": true,\n",
       "                    \"width\": 1,\n",
       "                    \"opacity\": 1,\n",
       "                    \"curveness\": 0,\n",
       "                    \"type\": \"solid\"\n",
       "                }\n",
       "            }\n",
       "        }\n",
       "    ],\n",
       "    \"title\": [\n",
       "        {\n",
       "            \"padding\": 5,\n",
       "            \"itemGap\": 10\n",
       "        }\n",
       "    ],\n",
       "    \"dataZoom\": {\n",
       "        \"show\": true,\n",
       "        \"type\": \"slider\",\n",
       "        \"realtime\": true,\n",
       "        \"start\": 20,\n",
       "        \"end\": 80,\n",
       "        \"orient\": \"horizontal\",\n",
       "        \"zoomLock\": false,\n",
       "        \"filterMode\": \"filter\"\n",
       "    }\n",
       "};\n",
       "                chart_e61226002a6643eb89ed65db92a4ad4b.setOption(option_e61226002a6643eb89ed65db92a4ad4b);\n",
       "        });\n",
       "    </script>\n",
       "<script>\n",
       "        (function() {\n",
       "            containers = document.getElementsByClassName(\"chart-container\");\n",
       "            if(containers.length > 0) {\n",
       "                containers[0].style.display = \"block\";\n",
       "            }\n",
       "        })()\n",
       "\n",
       "        function showChart(evt, chartID) {\n",
       "            let containers = document.getElementsByClassName(\"chart-container\");\n",
       "            for (let i = 0; i < containers.length; i++) {\n",
       "                containers[i].style.display = \"none\";\n",
       "            }\n",
       "\n",
       "            let tablinks = document.getElementsByClassName(\"tablinks\");\n",
       "            for (let i = 0; i < tablinks.length; i++) {\n",
       "                tablinks[i].className = \"tablinks\";\n",
       "            }\n",
       "\n",
       "            document.getElementById(chartID).style.display = \"block\";\n",
       "            evt.currentTarget.className += \" active\";\n",
       "        }\n",
       "    </script>\n"
      ],
      "text/plain": [
       "<pyecharts.render.display.HTML at 0x1dbed3fdaf0>"
      ]
     },
     "execution_count": 237,
     "metadata": {},
     "output_type": "execute_result"
    }
   ],
   "source": [
    "tab = Tab()\n",
    "tab.add(profit_chart, \"利润表\")\n",
    "tab.add(balance_chart, \"资产负债表\")\n",
    "tab.add(cashflow_chart, \"现金流量表\")\n",
    "tab.render_notebook()"
   ]
  },
  {
   "cell_type": "code",
   "execution_count": 244,
   "metadata": {},
   "outputs": [
    {
     "data": {
      "text/plain": [
       "'<!DOCTYPE html>\\n<html>\\n<head>\\n    <meta charset=\"UTF-8\">\\n    <title>Awesome-pyecharts</title>\\n            <script type=\"text/javascript\" src=\"https://assets.pyecharts.org/assets/echarts.min.js\"></script>\\n\\n    \\n</head>\\n<body>\\n        <style>\\n        .tab {\\n            overflow: hidden;\\n            border: 1px solid #ccc;\\n            background-color: #f1f1f1;\\n        }\\n\\n        .tab button {\\n            background-color: inherit;\\n            float: left;\\n            border: none;\\n            outline: none;\\n            cursor: pointer;\\n            padding: 12px 16px;\\n            transition: 0.3s;\\n        }\\n\\n        .tab button:hover {\\n            background-color: #ddd;\\n        }\\n\\n        .tab button.active {\\n            background-color: #ccc;\\n        }\\n\\n        .chart-container {\\n            display: none;\\n            padding: 6px 12px;\\n            border-top: none;\\n        }\\n    </style>\\n    <div class=\"tab\">\\n            <button class=\"tablinks\" onclick=\"showChart(event, \\'8d4d6eca6e0d4549928b8525806b5b96\\')\">利润表</button>\\n            <button class=\"tablinks\" onclick=\"showChart(event, \\'1b74b57c01414ec38aa1fbabdd406459\\')\">资产负债表</button>\\n            <button class=\"tablinks\" onclick=\"showChart(event, \\'e61226002a6643eb89ed65db92a4ad4b\\')\">现金流量表</button>\\n    </div>\\n\\n    <div class=\"box\">\\n                <div id=\"8d4d6eca6e0d4549928b8525806b5b96\" class=\"chart-container\" style=\"width:900px; height:500px;\"></div>\\n    <script>\\n        var chart_8d4d6eca6e0d4549928b8525806b5b96 = echarts.init(\\n            document.getElementById(\\'8d4d6eca6e0d4549928b8525806b5b96\\'), \\'white\\', {renderer: \\'canvas\\'});\\n        var option_8d4d6eca6e0d4549928b8525806b5b96 = {\\n    \"animation\": true,\\n    \"animationThreshold\": 2000,\\n    \"animationDuration\": 1000,\\n    \"animationEasing\": \"cubicOut\",\\n    \"animationDelay\": 0,\\n    \"animationDurationUpdate\": 300,\\n    \"animationEasingUpdate\": \"cubicOut\",\\n    \"animationDelayUpdate\": 0,\\n    \"color\": [\\n        \"#c23531\",\\n        \"#2f4554\",\\n        \"#61a0a8\",\\n        \"#d48265\",\\n        \"#749f83\",\\n        \"#ca8622\",\\n        \"#bda29a\",\\n        \"#6e7074\",\\n        \"#546570\",\\n        \"#c4ccd3\",\\n        \"#f05b72\",\\n        \"#ef5b9c\",\\n        \"#f47920\",\\n        \"#905a3d\",\\n        \"#fab27b\",\\n        \"#2a5caa\",\\n        \"#444693\",\\n        \"#726930\",\\n        \"#b2d235\",\\n        \"#6d8346\",\\n        \"#ac6767\",\\n        \"#1d953f\",\\n        \"#6950a1\",\\n        \"#918597\"\\n    ],\\n    \"series\": [\\n        {\\n            \"type\": \"bar\",\\n            \"name\": \"\\\\u8425\\\\u4e1a\\\\u603b\\\\u6536\\\\u5165\",\\n            \"legendHoverLink\": true,\\n            \"data\": [\\n                null,\\n                null,\\n                null,\\n                null,\\n                24.01,\\n                30.1,\\n                39.31,\\n                48.96,\\n                72.37,\\n                82.42,\\n                96.7,\\n                116.33,\\n                184.02,\\n                264.55,\\n                310.71,\\n                322.17,\\n                334.47,\\n                401.55,\\n                610.63,\\n                771.99,\\n                888.54\\n            ],\\n            \"showBackground\": false,\\n            \"barMinHeight\": 0,\\n            \"barCategoryGap\": \"20%\",\\n            \"barGap\": \"0%\",\\n            \"large\": false,\\n            \"largeThreshold\": 400,\\n            \"seriesLayoutBy\": \"column\",\\n            \"datasetIndex\": 0,\\n            \"clip\": true,\\n            \"zlevel\": 0,\\n            \"z\": 2,\\n            \"label\": {\\n                \"show\": false,\\n                \"position\": \"top\",\\n                \"margin\": 8\\n            },\\n            \"rippleEffect\": {\\n                \"show\": true,\\n                \"brushType\": \"stroke\",\\n                \"scale\": 2.5,\\n                \"period\": 4\\n            }\\n        },\\n        {\\n            \"type\": \"bar\",\\n            \"name\": \"\\\\u8425\\\\u4e1a\\\\u603b\\\\u6210\\\\u672c\",\\n            \"legendHoverLink\": true,\\n            \"data\": [\\n                4.08,\\n                4.69,\\n                7.22,\\n                8.48,\\n                14.27,\\n                15.22,\\n                20.12,\\n                24.13,\\n                27.14,\\n                28.53,\\n                35.96,\\n                44.73,\\n                60.7,\\n                76.28,\\n                92.82,\\n                101.17,\\n                112.92,\\n                158.89,\\n                221.23,\\n                258.66,\\n                298.12\\n            ],\\n            \"showBackground\": false,\\n            \"barMinHeight\": 0,\\n            \"barCategoryGap\": \"20%\",\\n            \"barGap\": \"0%\",\\n            \"large\": false,\\n            \"largeThreshold\": 400,\\n            \"seriesLayoutBy\": \"column\",\\n            \"datasetIndex\": 0,\\n            \"clip\": true,\\n            \"zlevel\": 0,\\n            \"z\": 2,\\n            \"label\": {\\n                \"show\": false,\\n                \"position\": \"top\",\\n                \"margin\": 8\\n            },\\n            \"rippleEffect\": {\\n                \"show\": true,\\n                \"brushType\": \"stroke\",\\n                \"scale\": 2.5,\\n                \"period\": 4\\n            }\\n        },\\n        {\\n            \"type\": \"bar\",\\n            \"name\": \"\\\\u603b\\\\u5229\\\\u6da6\",\\n            \"legendHoverLink\": true,\\n            \"data\": [\\n                3.54,\\n                4.46,\\n                6.07,\\n                6.49,\\n                9.77,\\n                14.91,\\n                19.2,\\n                24.88,\\n                45.22,\\n                53.85,\\n                60.81,\\n                71.62,\\n                123.35,\\n                187.0,\\n                214.32,\\n                218.82,\\n                220.02,\\n                239.58,\\n                387.4,\\n                508.28,\\n                587.83\\n            ],\\n            \"showBackground\": false,\\n            \"barMinHeight\": 0,\\n            \"barCategoryGap\": \"20%\",\\n            \"barGap\": \"0%\",\\n            \"large\": false,\\n            \"largeThreshold\": 400,\\n            \"seriesLayoutBy\": \"column\",\\n            \"datasetIndex\": 0,\\n            \"clip\": true,\\n            \"zlevel\": 0,\\n            \"z\": 2,\\n            \"label\": {\\n                \"show\": false,\\n                \"position\": \"top\",\\n                \"margin\": 8\\n            },\\n            \"rippleEffect\": {\\n                \"show\": true,\\n                \"brushType\": \"stroke\",\\n                \"scale\": 2.5,\\n                \"period\": 4\\n            }\\n        },\\n        {\\n            \"type\": \"bar\",\\n            \"name\": \"\\\\u51c0\\\\u5229\\\\u6da6\",\\n            \"legendHoverLink\": true,\\n            \"data\": [\\n                2.16,\\n                2.51,\\n                3.28,\\n                3.77,\\n                6.09,\\n                8.54,\\n                11.69,\\n                15.74,\\n                29.66,\\n                40.01,\\n                45.53,\\n                53.4,\\n                92.5,\\n                140.08,\\n                159.65,\\n                162.69,\\n                164.55,\\n                179.31,\\n                290.06,\\n                378.3,\\n                439.7\\n            ],\\n            \"showBackground\": false,\\n            \"barMinHeight\": 0,\\n            \"barCategoryGap\": \"20%\",\\n            \"barGap\": \"0%\",\\n            \"large\": false,\\n            \"largeThreshold\": 400,\\n            \"seriesLayoutBy\": \"column\",\\n            \"datasetIndex\": 0,\\n            \"clip\": true,\\n            \"zlevel\": 0,\\n            \"z\": 2,\\n            \"label\": {\\n                \"show\": false,\\n                \"position\": \"top\",\\n                \"margin\": 8\\n            },\\n            \"rippleEffect\": {\\n                \"show\": true,\\n                \"brushType\": \"stroke\",\\n                \"scale\": 2.5,\\n                \"period\": 4\\n            }\\n        }\\n    ],\\n    \"legend\": [\\n        {\\n            \"data\": [\\n                \"\\\\u8425\\\\u4e1a\\\\u603b\\\\u6536\\\\u5165\",\\n                \"\\\\u8425\\\\u4e1a\\\\u603b\\\\u6210\\\\u672c\",\\n                \"\\\\u603b\\\\u5229\\\\u6da6\",\\n                \"\\\\u51c0\\\\u5229\\\\u6da6\"\\n            ],\\n            \"selected\": {\\n                \"\\\\u8425\\\\u4e1a\\\\u603b\\\\u6536\\\\u5165\": true,\\n                \"\\\\u8425\\\\u4e1a\\\\u603b\\\\u6210\\\\u672c\": true,\\n                \"\\\\u603b\\\\u5229\\\\u6da6\": true,\\n                \"\\\\u51c0\\\\u5229\\\\u6da6\": true\\n            },\\n            \"show\": true,\\n            \"padding\": 5,\\n            \"itemGap\": 10,\\n            \"itemWidth\": 25,\\n            \"itemHeight\": 14\\n        }\\n    ],\\n    \"tooltip\": {\\n        \"show\": true,\\n        \"trigger\": \"item\",\\n        \"triggerOn\": \"mousemove|click\",\\n        \"axisPointer\": {\\n            \"type\": \"line\"\\n        },\\n        \"showContent\": true,\\n        \"alwaysShowContent\": false,\\n        \"showDelay\": 0,\\n        \"hideDelay\": 100,\\n        \"textStyle\": {\\n            \"fontSize\": 14\\n        },\\n        \"borderWidth\": 0,\\n        \"padding\": 5\\n    },\\n    \"xAxis\": [\\n        {\\n            \"show\": true,\\n            \"scale\": false,\\n            \"nameLocation\": \"end\",\\n            \"nameGap\": 15,\\n            \"gridIndex\": 0,\\n            \"inverse\": false,\\n            \"offset\": 0,\\n            \"splitNumber\": 5,\\n            \"minInterval\": 0,\\n            \"splitLine\": {\\n                \"show\": false,\\n                \"lineStyle\": {\\n                    \"show\": true,\\n                    \"width\": 1,\\n                    \"opacity\": 1,\\n                    \"curveness\": 0,\\n                    \"type\": \"solid\"\\n                }\\n            },\\n            \"data\": [\\n                \"1999\",\\n                \"2000\",\\n                \"2001\",\\n                \"2002\",\\n                \"2003\",\\n                \"2004\",\\n                \"2005\",\\n                \"2006\",\\n                \"2007\",\\n                \"2008\",\\n                \"2009\",\\n                \"2010\",\\n                \"2011\",\\n                \"2012\",\\n                \"2013\",\\n                \"2014\",\\n                \"2015\",\\n                \"2016\",\\n                \"2017\",\\n                \"2018\",\\n                \"2019\"\\n            ]\\n        }\\n    ],\\n    \"yAxis\": [\\n        {\\n            \"show\": true,\\n            \"scale\": false,\\n            \"nameLocation\": \"end\",\\n            \"nameGap\": 15,\\n            \"gridIndex\": 0,\\n            \"axisLabel\": {\\n                \"show\": true,\\n                \"position\": \"top\",\\n                \"margin\": 8,\\n                \"formatter\": \"{value} /\\\\u4ebf\"\\n            },\\n            \"inverse\": false,\\n            \"offset\": 0,\\n            \"splitNumber\": 5,\\n            \"minInterval\": 0,\\n            \"splitLine\": {\\n                \"show\": false,\\n                \"lineStyle\": {\\n                    \"show\": true,\\n                    \"width\": 1,\\n                    \"opacity\": 1,\\n                    \"curveness\": 0,\\n                    \"type\": \"solid\"\\n                }\\n            }\\n        }\\n    ],\\n    \"title\": [\\n        {\\n            \"padding\": 5,\\n            \"itemGap\": 10\\n        }\\n    ],\\n    \"dataZoom\": {\\n        \"show\": true,\\n        \"type\": \"slider\",\\n        \"realtime\": true,\\n        \"start\": 20,\\n        \"end\": 80,\\n        \"orient\": \"horizontal\",\\n        \"zoomLock\": false,\\n        \"filterMode\": \"filter\"\\n    }\\n};\\n        chart_8d4d6eca6e0d4549928b8525806b5b96.setOption(option_8d4d6eca6e0d4549928b8525806b5b96);\\n    </script>\\n                <div id=\"1b74b57c01414ec38aa1fbabdd406459\" class=\"chart-container\" style=\"width:900px; height:500px;\"></div>\\n    <script>\\n        var chart_1b74b57c01414ec38aa1fbabdd406459 = echarts.init(\\n            document.getElementById(\\'1b74b57c01414ec38aa1fbabdd406459\\'), \\'white\\', {renderer: \\'canvas\\'});\\n        var option_1b74b57c01414ec38aa1fbabdd406459 = {\\n    \"animation\": true,\\n    \"animationThreshold\": 2000,\\n    \"animationDuration\": 1000,\\n    \"animationEasing\": \"cubicOut\",\\n    \"animationDelay\": 0,\\n    \"animationDurationUpdate\": 300,\\n    \"animationEasingUpdate\": \"cubicOut\",\\n    \"animationDelayUpdate\": 0,\\n    \"color\": [\\n        \"#c23531\",\\n        \"#2f4554\",\\n        \"#61a0a8\",\\n        \"#d48265\",\\n        \"#749f83\",\\n        \"#ca8622\",\\n        \"#bda29a\",\\n        \"#6e7074\",\\n        \"#546570\",\\n        \"#c4ccd3\",\\n        \"#f05b72\",\\n        \"#ef5b9c\",\\n        \"#f47920\",\\n        \"#905a3d\",\\n        \"#fab27b\",\\n        \"#2a5caa\",\\n        \"#444693\",\\n        \"#726930\",\\n        \"#b2d235\",\\n        \"#6d8346\",\\n        \"#ac6767\",\\n        \"#1d953f\",\\n        \"#6950a1\",\\n        \"#918597\"\\n    ],\\n    \"series\": [\\n        {\\n            \"type\": \"bar\",\\n            \"name\": \"\\\\u603b\\\\u8d44\\\\u4ea7\",\\n            \"legendHoverLink\": true,\\n            \"data\": [\\n                9.15,\\n                12.69,\\n                34.63,\\n                39.31,\\n                49.56,\\n                63.74,\\n                80.58,\\n                93.89,\\n                104.81,\\n                157.54,\\n                197.7,\\n                255.88,\\n                349.01,\\n                449.98,\\n                554.54,\\n                658.73,\\n                863.01,\\n                1129.35,\\n                1346.1,\\n                1598.47,\\n                1830.42\\n            ],\\n            \"showBackground\": false,\\n            \"barMinHeight\": 0,\\n            \"barCategoryGap\": \"20%\",\\n            \"barGap\": \"0%\",\\n            \"large\": false,\\n            \"largeThreshold\": 400,\\n            \"seriesLayoutBy\": \"column\",\\n            \"datasetIndex\": 0,\\n            \"clip\": true,\\n            \"zlevel\": 0,\\n            \"z\": 2,\\n            \"label\": {\\n                \"show\": false,\\n                \"position\": \"top\",\\n                \"margin\": 8\\n            },\\n            \"rippleEffect\": {\\n                \"show\": true,\\n                \"brushType\": \"stroke\",\\n                \"scale\": 2.5,\\n                \"period\": 4\\n            }\\n        },\\n        {\\n            \"type\": \"bar\",\\n            \"name\": \"\\\\u6d41\\\\u52a8\\\\u8d44\\\\u4ea7\",\\n            \"legendHoverLink\": true,\\n            \"data\": [\\n                7.2,\\n                10.7,\\n                28.7,\\n                29.91,\\n                37.56,\\n                47.73,\\n                60.2,\\n                67.51,\\n                72.72,\\n                122.41,\\n                156.56,\\n                203.0,\\n                278.3,\\n                362.25,\\n                419.32,\\n                475.71,\\n                650.05,\\n                901.81,\\n                1122.49,\\n                1378.62,\\n                1590.24\\n            ],\\n            \"showBackground\": false,\\n            \"barMinHeight\": 0,\\n            \"barCategoryGap\": \"20%\",\\n            \"barGap\": \"0%\",\\n            \"large\": false,\\n            \"largeThreshold\": 400,\\n            \"seriesLayoutBy\": \"column\",\\n            \"datasetIndex\": 0,\\n            \"clip\": true,\\n            \"zlevel\": 0,\\n            \"z\": 2,\\n            \"label\": {\\n                \"show\": false,\\n                \"position\": \"top\",\\n                \"margin\": 8\\n            },\\n            \"rippleEffect\": {\\n                \"show\": true,\\n                \"brushType\": \"stroke\",\\n                \"scale\": 2.5,\\n                \"period\": 4\\n            }\\n        },\\n        {\\n            \"type\": \"bar\",\\n            \"name\": \"\\\\u975e\\\\u6d41\\\\u52a8\\\\u8d44\\\\u4ea7\",\\n            \"legendHoverLink\": true,\\n            \"data\": [\\n                1.95,\\n                1.99,\\n                null,\\n                9.4,\\n                12.0,\\n                16.01,\\n                20.38,\\n                26.38,\\n                32.1,\\n                35.13,\\n                41.14,\\n                52.87,\\n                70.71,\\n                87.73,\\n                135.23,\\n                183.02,\\n                212.97,\\n                227.54,\\n                223.61,\\n                219.85,\\n                240.18\\n            ],\\n            \"showBackground\": false,\\n            \"barMinHeight\": 0,\\n            \"barCategoryGap\": \"20%\",\\n            \"barGap\": \"0%\",\\n            \"large\": false,\\n            \"largeThreshold\": 400,\\n            \"seriesLayoutBy\": \"column\",\\n            \"datasetIndex\": 0,\\n            \"clip\": true,\\n            \"zlevel\": 0,\\n            \"z\": 2,\\n            \"label\": {\\n                \"show\": false,\\n                \"position\": \"top\",\\n                \"margin\": 8\\n            },\\n            \"rippleEffect\": {\\n                \"show\": true,\\n                \"brushType\": \"stroke\",\\n                \"scale\": 2.5,\\n                \"period\": 4\\n            }\\n        },\\n        {\\n            \"type\": \"bar\",\\n            \"name\": \"\\\\u603b\\\\u8d1f\\\\u503a\",\\n            \"legendHoverLink\": true,\\n            \"data\": [\\n                6.3,\\n                8.24,\\n                9.26,\\n                10.56,\\n                14.86,\\n                21.57,\\n                28.95,\\n                33.94,\\n                21.13,\\n                42.51,\\n                51.18,\\n                70.38,\\n                94.97,\\n                95.44,\\n                113.25,\\n                105.62,\\n                200.67,\\n                370.36,\\n                385.9,\\n                424.38,\\n                411.66\\n            ],\\n            \"showBackground\": false,\\n            \"barMinHeight\": 0,\\n            \"barCategoryGap\": \"20%\",\\n            \"barGap\": \"0%\",\\n            \"large\": false,\\n            \"largeThreshold\": 400,\\n            \"seriesLayoutBy\": \"column\",\\n            \"datasetIndex\": 0,\\n            \"clip\": true,\\n            \"zlevel\": 0,\\n            \"z\": 2,\\n            \"label\": {\\n                \"show\": false,\\n                \"position\": \"top\",\\n                \"margin\": 8\\n            },\\n            \"rippleEffect\": {\\n                \"show\": true,\\n                \"brushType\": \"stroke\",\\n                \"scale\": 2.5,\\n                \"period\": 4\\n            }\\n        },\\n        {\\n            \"type\": \"bar\",\\n            \"name\": \"\\\\u6d41\\\\u52a8\\\\u8d1f\\\\u503a\",\\n            \"legendHoverLink\": true,\\n            \"data\": [\\n                6.3,\\n                8.24,\\n                9.26,\\n                10.56,\\n                14.86,\\n                21.57,\\n                28.95,\\n                33.94,\\n                21.13,\\n                42.51,\\n                51.08,\\n                70.28,\\n                94.81,\\n                95.26,\\n                113.07,\\n                105.44,\\n                200.52,\\n                370.2,\\n                385.75,\\n                424.38,\\n                410.93\\n            ],\\n            \"showBackground\": false,\\n            \"barMinHeight\": 0,\\n            \"barCategoryGap\": \"20%\",\\n            \"barGap\": \"0%\",\\n            \"large\": false,\\n            \"largeThreshold\": 400,\\n            \"seriesLayoutBy\": \"column\",\\n            \"datasetIndex\": 0,\\n            \"clip\": true,\\n            \"zlevel\": 0,\\n            \"z\": 2,\\n            \"label\": {\\n                \"show\": false,\\n                \"position\": \"top\",\\n                \"margin\": 8\\n            },\\n            \"rippleEffect\": {\\n                \"show\": true,\\n                \"brushType\": \"stroke\",\\n                \"scale\": 2.5,\\n                \"period\": 4\\n            }\\n        },\\n        {\\n            \"type\": \"bar\",\\n            \"name\": \"\\\\u975e\\\\u6d41\\\\u52a8\\\\u8d1f\\\\u503a\",\\n            \"legendHoverLink\": true,\\n            \"data\": [\\n                0.0,\\n                0.0,\\n                null,\\n                0.0,\\n                0.0,\\n                0.0,\\n                0.0,\\n                0.0,\\n                null,\\n                null,\\n                0.1,\\n                0.1,\\n                0.17,\\n                0.18,\\n                0.18,\\n                0.18,\\n                0.16,\\n                0.16,\\n                0.16,\\n                null,\\n                0.73\\n            ],\\n            \"showBackground\": false,\\n            \"barMinHeight\": 0,\\n            \"barCategoryGap\": \"20%\",\\n            \"barGap\": \"0%\",\\n            \"large\": false,\\n            \"largeThreshold\": 400,\\n            \"seriesLayoutBy\": \"column\",\\n            \"datasetIndex\": 0,\\n            \"clip\": true,\\n            \"zlevel\": 0,\\n            \"z\": 2,\\n            \"label\": {\\n                \"show\": false,\\n                \"position\": \"top\",\\n                \"margin\": 8\\n            },\\n            \"rippleEffect\": {\\n                \"show\": true,\\n                \"brushType\": \"stroke\",\\n                \"scale\": 2.5,\\n                \"period\": 4\\n            }\\n        },\\n        {\\n            \"type\": \"bar\",\\n            \"name\": \"\\\\u80a1\\\\u4e1c\\\\u6743\\\\u76ca\",\\n            \"legendHoverLink\": true,\\n            \"data\": [\\n                2.85,\\n                4.44,\\n                25.31,\\n                28.53,\\n                34.71,\\n                42.17,\\n                51.62,\\n                59.95,\\n                83.69,\\n                115.03,\\n                146.52,\\n                185.49,\\n                254.03,\\n                354.54,\\n                441.29,\\n                553.12,\\n                662.34,\\n                758.99,\\n                960.2,\\n                1174.08,\\n                1418.76\\n            ],\\n            \"showBackground\": false,\\n            \"barMinHeight\": 0,\\n            \"barCategoryGap\": \"20%\",\\n            \"barGap\": \"0%\",\\n            \"large\": false,\\n            \"largeThreshold\": 400,\\n            \"seriesLayoutBy\": \"column\",\\n            \"datasetIndex\": 0,\\n            \"clip\": true,\\n            \"zlevel\": 0,\\n            \"z\": 2,\\n            \"label\": {\\n                \"show\": false,\\n                \"position\": \"top\",\\n                \"margin\": 8\\n            },\\n            \"rippleEffect\": {\\n                \"show\": true,\\n                \"brushType\": \"stroke\",\\n                \"scale\": 2.5,\\n                \"period\": 4\\n            }\\n        }\\n    ],\\n    \"legend\": [\\n        {\\n            \"data\": [\\n                \"\\\\u603b\\\\u8d44\\\\u4ea7\",\\n                \"\\\\u6d41\\\\u52a8\\\\u8d44\\\\u4ea7\",\\n                \"\\\\u975e\\\\u6d41\\\\u52a8\\\\u8d44\\\\u4ea7\",\\n                \"\\\\u603b\\\\u8d1f\\\\u503a\",\\n                \"\\\\u6d41\\\\u52a8\\\\u8d1f\\\\u503a\",\\n                \"\\\\u975e\\\\u6d41\\\\u52a8\\\\u8d1f\\\\u503a\",\\n                \"\\\\u80a1\\\\u4e1c\\\\u6743\\\\u76ca\"\\n            ],\\n            \"selected\": {\\n                \"\\\\u603b\\\\u8d44\\\\u4ea7\": true,\\n                \"\\\\u6d41\\\\u52a8\\\\u8d44\\\\u4ea7\": true,\\n                \"\\\\u975e\\\\u6d41\\\\u52a8\\\\u8d44\\\\u4ea7\": true,\\n                \"\\\\u603b\\\\u8d1f\\\\u503a\": true,\\n                \"\\\\u6d41\\\\u52a8\\\\u8d1f\\\\u503a\": true,\\n                \"\\\\u975e\\\\u6d41\\\\u52a8\\\\u8d1f\\\\u503a\": true,\\n                \"\\\\u80a1\\\\u4e1c\\\\u6743\\\\u76ca\": true\\n            },\\n            \"show\": true,\\n            \"padding\": 5,\\n            \"itemGap\": 10,\\n            \"itemWidth\": 25,\\n            \"itemHeight\": 14\\n        }\\n    ],\\n    \"tooltip\": {\\n        \"show\": true,\\n        \"trigger\": \"item\",\\n        \"triggerOn\": \"mousemove|click\",\\n        \"axisPointer\": {\\n            \"type\": \"line\"\\n        },\\n        \"showContent\": true,\\n        \"alwaysShowContent\": false,\\n        \"showDelay\": 0,\\n        \"hideDelay\": 100,\\n        \"textStyle\": {\\n            \"fontSize\": 14\\n        },\\n        \"borderWidth\": 0,\\n        \"padding\": 5\\n    },\\n    \"xAxis\": [\\n        {\\n            \"show\": true,\\n            \"scale\": false,\\n            \"nameLocation\": \"end\",\\n            \"nameGap\": 15,\\n            \"gridIndex\": 0,\\n            \"inverse\": false,\\n            \"offset\": 0,\\n            \"splitNumber\": 5,\\n            \"minInterval\": 0,\\n            \"splitLine\": {\\n                \"show\": false,\\n                \"lineStyle\": {\\n                    \"show\": true,\\n                    \"width\": 1,\\n                    \"opacity\": 1,\\n                    \"curveness\": 0,\\n                    \"type\": \"solid\"\\n                }\\n            },\\n            \"data\": [\\n                1999,\\n                2000,\\n                2001,\\n                2002,\\n                2003,\\n                2004,\\n                2005,\\n                2006,\\n                2007,\\n                2008,\\n                2009,\\n                2010,\\n                2011,\\n                2012,\\n                2013,\\n                2014,\\n                2015,\\n                2016,\\n                2017,\\n                2018,\\n                2019\\n            ]\\n        }\\n    ],\\n    \"yAxis\": [\\n        {\\n            \"show\": true,\\n            \"scale\": false,\\n            \"nameLocation\": \"end\",\\n            \"nameGap\": 15,\\n            \"gridIndex\": 0,\\n            \"axisLabel\": {\\n                \"show\": true,\\n                \"position\": \"top\",\\n                \"margin\": 8,\\n                \"formatter\": \"{value} /\\\\u4ebf\"\\n            },\\n            \"inverse\": false,\\n            \"offset\": 0,\\n            \"splitNumber\": 5,\\n            \"minInterval\": 0,\\n            \"splitLine\": {\\n                \"show\": false,\\n                \"lineStyle\": {\\n                    \"show\": true,\\n                    \"width\": 1,\\n                    \"opacity\": 1,\\n                    \"curveness\": 0,\\n                    \"type\": \"solid\"\\n                }\\n            }\\n        }\\n    ],\\n    \"title\": [\\n        {\\n            \"padding\": 5,\\n            \"itemGap\": 10\\n        }\\n    ],\\n    \"dataZoom\": {\\n        \"show\": true,\\n        \"type\": \"slider\",\\n        \"realtime\": true,\\n        \"start\": 20,\\n        \"end\": 80,\\n        \"orient\": \"horizontal\",\\n        \"zoomLock\": false,\\n        \"filterMode\": \"filter\"\\n    }\\n};\\n        chart_1b74b57c01414ec38aa1fbabdd406459.setOption(option_1b74b57c01414ec38aa1fbabdd406459);\\n    </script>\\n                <div id=\"e61226002a6643eb89ed65db92a4ad4b\" class=\"chart-container\" style=\"width:900px; height:500px;\"></div>\\n    <script>\\n        var chart_e61226002a6643eb89ed65db92a4ad4b = echarts.init(\\n            document.getElementById(\\'e61226002a6643eb89ed65db92a4ad4b\\'), \\'white\\', {renderer: \\'canvas\\'});\\n        var option_e61226002a6643eb89ed65db92a4ad4b = {\\n    \"animation\": true,\\n    \"animationThreshold\": 2000,\\n    \"animationDuration\": 1000,\\n    \"animationEasing\": \"cubicOut\",\\n    \"animationDelay\": 0,\\n    \"animationDurationUpdate\": 300,\\n    \"animationEasingUpdate\": \"cubicOut\",\\n    \"animationDelayUpdate\": 0,\\n    \"color\": [\\n        \"#c23531\",\\n        \"#2f4554\",\\n        \"#61a0a8\",\\n        \"#d48265\",\\n        \"#749f83\",\\n        \"#ca8622\",\\n        \"#bda29a\",\\n        \"#6e7074\",\\n        \"#546570\",\\n        \"#c4ccd3\",\\n        \"#f05b72\",\\n        \"#ef5b9c\",\\n        \"#f47920\",\\n        \"#905a3d\",\\n        \"#fab27b\",\\n        \"#2a5caa\",\\n        \"#444693\",\\n        \"#726930\",\\n        \"#b2d235\",\\n        \"#6d8346\",\\n        \"#ac6767\",\\n        \"#1d953f\",\\n        \"#6950a1\",\\n        \"#918597\"\\n    ],\\n    \"series\": [\\n        {\\n            \"type\": \"bar\",\\n            \"name\": \"\\\\u7ecf\\\\u8425\\\\u6d3b\\\\u52a8\\\\u4ea7\\\\u751f\\\\u7684\\\\u73b0\\\\u91d1\\\\u6d41\\\\u91cf\\\\u51c0\\\\u989d\\\\u7ecf\\\\u8425\",\\n            \"legendHoverLink\": true,\\n            \"data\": [\\n                9.15,\\n                12.69,\\n                34.63,\\n                39.31,\\n                49.56,\\n                63.74,\\n                80.58,\\n                93.89,\\n                104.81,\\n                157.54,\\n                197.7,\\n                255.88,\\n                349.01,\\n                449.98,\\n                554.54,\\n                658.73,\\n                863.01,\\n                1129.35,\\n                1346.1,\\n                1598.47,\\n                1830.42\\n            ],\\n            \"showBackground\": false,\\n            \"barMinHeight\": 0,\\n            \"barCategoryGap\": \"20%\",\\n            \"barGap\": \"0%\",\\n            \"large\": false,\\n            \"largeThreshold\": 400,\\n            \"seriesLayoutBy\": \"column\",\\n            \"datasetIndex\": 0,\\n            \"clip\": true,\\n            \"zlevel\": 0,\\n            \"z\": 2,\\n            \"label\": {\\n                \"show\": false,\\n                \"position\": \"top\",\\n                \"margin\": 8\\n            },\\n            \"rippleEffect\": {\\n                \"show\": true,\\n                \"brushType\": \"stroke\",\\n                \"scale\": 2.5,\\n                \"period\": 4\\n            }\\n        },\\n        {\\n            \"type\": \"bar\",\\n            \"name\": \"\\\\u6295\\\\u8d44\\\\u6d3b\\\\u52a8\\\\u4ea7\\\\u751f\\\\u7684\\\\u73b0\\\\u91d1\\\\u6d41\\\\u91cf\\\\u51c0\\\\u989d\",\\n            \"legendHoverLink\": true,\\n            \"data\": [\\n                7.2,\\n                10.7,\\n                28.7,\\n                29.91,\\n                37.56,\\n                47.73,\\n                60.2,\\n                67.51,\\n                72.72,\\n                122.41,\\n                156.56,\\n                203.0,\\n                278.3,\\n                362.25,\\n                419.32,\\n                475.71,\\n                650.05,\\n                901.81,\\n                1122.49,\\n                1378.62,\\n                1590.24\\n            ],\\n            \"showBackground\": false,\\n            \"barMinHeight\": 0,\\n            \"barCategoryGap\": \"20%\",\\n            \"barGap\": \"0%\",\\n            \"large\": false,\\n            \"largeThreshold\": 400,\\n            \"seriesLayoutBy\": \"column\",\\n            \"datasetIndex\": 0,\\n            \"clip\": true,\\n            \"zlevel\": 0,\\n            \"z\": 2,\\n            \"label\": {\\n                \"show\": false,\\n                \"position\": \"top\",\\n                \"margin\": 8\\n            },\\n            \"rippleEffect\": {\\n                \"show\": true,\\n                \"brushType\": \"stroke\",\\n                \"scale\": 2.5,\\n                \"period\": 4\\n            }\\n        },\\n        {\\n            \"type\": \"bar\",\\n            \"name\": \"\\\\u7b79\\\\u8d44\\\\u6d3b\\\\u52a8\\\\u4ea7\\\\u751f\\\\u7684\\\\u73b0\\\\u91d1\\\\u6d41\\\\u91cf\\\\u51c0\\\\u989d\",\\n            \"legendHoverLink\": true,\\n            \"data\": [\\n                1.95,\\n                1.99,\\n                null,\\n                9.4,\\n                12.0,\\n                16.01,\\n                20.38,\\n                26.38,\\n                32.1,\\n                35.13,\\n                41.14,\\n                52.87,\\n                70.71,\\n                87.73,\\n                135.23,\\n                183.02,\\n                212.97,\\n                227.54,\\n                223.61,\\n                219.85,\\n                240.18\\n            ],\\n            \"showBackground\": false,\\n            \"barMinHeight\": 0,\\n            \"barCategoryGap\": \"20%\",\\n            \"barGap\": \"0%\",\\n            \"large\": false,\\n            \"largeThreshold\": 400,\\n            \"seriesLayoutBy\": \"column\",\\n            \"datasetIndex\": 0,\\n            \"clip\": true,\\n            \"zlevel\": 0,\\n            \"z\": 2,\\n            \"label\": {\\n                \"show\": false,\\n                \"position\": \"top\",\\n                \"margin\": 8\\n            },\\n            \"rippleEffect\": {\\n                \"show\": true,\\n                \"brushType\": \"stroke\",\\n                \"scale\": 2.5,\\n                \"period\": 4\\n            }\\n        },\\n        {\\n            \"type\": \"line\",\\n            \"name\": \"\\\\u73b0\\\\u91d1\\\\u53ca\\\\u73b0\\\\u91d1\\\\u7b49\\\\u4ef7\\\\u7269\\\\u51c0\\\\u589e\\\\u52a0\\\\u989d\",\\n            \"connectNulls\": false,\\n            \"symbolSize\": 4,\\n            \"showSymbol\": true,\\n            \"smooth\": false,\\n            \"clip\": true,\\n            \"step\": false,\\n            \"data\": [\\n                [\\n                    \"2000\",\\n                    2.63\\n                ],\\n                [\\n                    \"2001\",\\n                    14.95\\n                ],\\n                [\\n                    \"2002\",\\n                    -1.76\\n                ],\\n                [\\n                    \"2003\",\\n                    5.6\\n                ],\\n                [\\n                    \"2004\",\\n                    5.58\\n                ],\\n                [\\n                    \"2005\",\\n                    9.94\\n                ],\\n                [\\n                    \"2006\",\\n                    5.71\\n                ],\\n                [\\n                    \"2007\",\\n                    2.48\\n                ],\\n                [\\n                    \"2008\",\\n                    33.71\\n                ],\\n                [\\n                    \"2009\",\\n                    16.49\\n                ],\\n                [\\n                    \"2010\",\\n                    31.45\\n                ],\\n                [\\n                    \"2011\",\\n                    53.66\\n                ],\\n                [\\n                    \"2012\",\\n                    38.07\\n                ],\\n                [\\n                    \"2013\",\\n                    -0.7\\n                ],\\n                [\\n                    \"2014\",\\n                    30.05\\n                ],\\n                [\\n                    \"2015\",\\n                    97.83\\n                ],\\n                [\\n                    \"2016\",\\n                    280.14\\n                ],\\n                [\\n                    \"2017\",\\n                    121.33\\n                ],\\n                [\\n                    \"2018\",\\n                    233.15\\n                ],\\n                [\\n                    \"2019\",\\n                    227.61\\n                ]\\n            ],\\n            \"hoverAnimation\": true,\\n            \"label\": {\\n                \"show\": false,\\n                \"position\": \"top\",\\n                \"margin\": 8\\n            },\\n            \"lineStyle\": {\\n                \"show\": true,\\n                \"width\": 1,\\n                \"opacity\": 1,\\n                \"curveness\": 0,\\n                \"type\": \"solid\"\\n            },\\n            \"areaStyle\": {\\n                \"opacity\": 0\\n            },\\n            \"zlevel\": 0,\\n            \"z\": 0\\n        },\\n        {\\n            \"type\": \"line\",\\n            \"name\": \"\\\\u5e74\\\\u672b\\\\u73b0\\\\u91d1\\\\u53ca\\\\u73b0\\\\u91d1\\\\u7b49\\\\u4ef7\\\\u7269\",\\n            \"connectNulls\": false,\\n            \"symbolSize\": 4,\\n            \"showSymbol\": true,\\n            \"smooth\": false,\\n            \"clip\": true,\\n            \"step\": false,\\n            \"data\": [\\n                [\\n                    \"2000\",\\n                    0.0\\n                ],\\n                [\\n                    \"2001\",\\n                    19.56\\n                ],\\n                [\\n                    \"2002\",\\n                    17.8\\n                ],\\n                [\\n                    \"2003\",\\n                    23.4\\n                ],\\n                [\\n                    \"2004\",\\n                    28.98\\n                ],\\n                [\\n                    \"2005\",\\n                    38.92\\n                ],\\n                [\\n                    \"2006\",\\n                    44.63\\n                ],\\n                [\\n                    \"2007\",\\n                    47.23\\n                ],\\n                [\\n                    \"2008\",\\n                    80.94\\n                ],\\n                [\\n                    \"2009\",\\n                    97.43\\n                ],\\n                [\\n                    \"2010\",\\n                    128.88\\n                ],\\n                [\\n                    \"2011\",\\n                    182.55\\n                ],\\n                [\\n                    \"2012\",\\n                    220.62\\n                ],\\n                [\\n                    \"2013\",\\n                    219.92\\n                ],\\n                [\\n                    \"2014\",\\n                    249.97\\n                ],\\n                [\\n                    \"2015\",\\n                    347.8\\n                ],\\n                [\\n                    \"2016\",\\n                    627.95\\n                ],\\n                [\\n                    \"2017\",\\n                    749.28\\n                ],\\n                [\\n                    \"2018\",\\n                    982.43\\n                ],\\n                [\\n                    \"2019\",\\n                    1210.04\\n                ]\\n            ],\\n            \"hoverAnimation\": true,\\n            \"label\": {\\n                \"show\": false,\\n                \"position\": \"top\",\\n                \"margin\": 8\\n            },\\n            \"lineStyle\": {\\n                \"show\": true,\\n                \"width\": 1,\\n                \"opacity\": 1,\\n                \"curveness\": 0,\\n                \"type\": \"solid\"\\n            },\\n            \"areaStyle\": {\\n                \"opacity\": 0\\n            },\\n            \"zlevel\": 0,\\n            \"z\": 0\\n        }\\n    ],\\n    \"legend\": [\\n        {\\n            \"data\": [\\n                \"\\\\u7ecf\\\\u8425\\\\u6d3b\\\\u52a8\\\\u4ea7\\\\u751f\\\\u7684\\\\u73b0\\\\u91d1\\\\u6d41\\\\u91cf\\\\u51c0\\\\u989d\\\\u7ecf\\\\u8425\",\\n                \"\\\\u6295\\\\u8d44\\\\u6d3b\\\\u52a8\\\\u4ea7\\\\u751f\\\\u7684\\\\u73b0\\\\u91d1\\\\u6d41\\\\u91cf\\\\u51c0\\\\u989d\",\\n                \"\\\\u7b79\\\\u8d44\\\\u6d3b\\\\u52a8\\\\u4ea7\\\\u751f\\\\u7684\\\\u73b0\\\\u91d1\\\\u6d41\\\\u91cf\\\\u51c0\\\\u989d\",\\n                \"\\\\u73b0\\\\u91d1\\\\u53ca\\\\u73b0\\\\u91d1\\\\u7b49\\\\u4ef7\\\\u7269\\\\u51c0\\\\u589e\\\\u52a0\\\\u989d\",\\n                \"\\\\u5e74\\\\u672b\\\\u73b0\\\\u91d1\\\\u53ca\\\\u73b0\\\\u91d1\\\\u7b49\\\\u4ef7\\\\u7269\"\\n            ],\\n            \"selected\": {\\n                \"\\\\u7ecf\\\\u8425\\\\u6d3b\\\\u52a8\\\\u4ea7\\\\u751f\\\\u7684\\\\u73b0\\\\u91d1\\\\u6d41\\\\u91cf\\\\u51c0\\\\u989d\\\\u7ecf\\\\u8425\": true,\\n                \"\\\\u6295\\\\u8d44\\\\u6d3b\\\\u52a8\\\\u4ea7\\\\u751f\\\\u7684\\\\u73b0\\\\u91d1\\\\u6d41\\\\u91cf\\\\u51c0\\\\u989d\": true,\\n                \"\\\\u7b79\\\\u8d44\\\\u6d3b\\\\u52a8\\\\u4ea7\\\\u751f\\\\u7684\\\\u73b0\\\\u91d1\\\\u6d41\\\\u91cf\\\\u51c0\\\\u989d\": true,\\n                \"\\\\u73b0\\\\u91d1\\\\u53ca\\\\u73b0\\\\u91d1\\\\u7b49\\\\u4ef7\\\\u7269\\\\u51c0\\\\u589e\\\\u52a0\\\\u989d\": true,\\n                \"\\\\u5e74\\\\u672b\\\\u73b0\\\\u91d1\\\\u53ca\\\\u73b0\\\\u91d1\\\\u7b49\\\\u4ef7\\\\u7269\": true\\n            },\\n            \"show\": true,\\n            \"padding\": 5,\\n            \"itemGap\": 10,\\n            \"itemWidth\": 25,\\n            \"itemHeight\": 14\\n        }\\n    ],\\n    \"tooltip\": {\\n        \"show\": true,\\n        \"trigger\": \"item\",\\n        \"triggerOn\": \"mousemove|click\",\\n        \"axisPointer\": {\\n            \"type\": \"line\"\\n        },\\n        \"showContent\": true,\\n        \"alwaysShowContent\": false,\\n        \"showDelay\": 0,\\n        \"hideDelay\": 100,\\n        \"textStyle\": {\\n            \"fontSize\": 14\\n        },\\n        \"borderWidth\": 0,\\n        \"padding\": 5\\n    },\\n    \"xAxis\": [\\n        {\\n            \"show\": true,\\n            \"scale\": false,\\n            \"nameLocation\": \"end\",\\n            \"nameGap\": 15,\\n            \"gridIndex\": 0,\\n            \"inverse\": false,\\n            \"offset\": 0,\\n            \"splitNumber\": 5,\\n            \"minInterval\": 0,\\n            \"splitLine\": {\\n                \"show\": false,\\n                \"lineStyle\": {\\n                    \"show\": true,\\n                    \"width\": 1,\\n                    \"opacity\": 1,\\n                    \"curveness\": 0,\\n                    \"type\": \"solid\"\\n                }\\n            },\\n            \"data\": [\\n                \"2000\",\\n                \"2001\",\\n                \"2002\",\\n                \"2003\",\\n                \"2004\",\\n                \"2005\",\\n                \"2006\",\\n                \"2007\",\\n                \"2008\",\\n                \"2009\",\\n                \"2010\",\\n                \"2011\",\\n                \"2012\",\\n                \"2013\",\\n                \"2014\",\\n                \"2015\",\\n                \"2016\",\\n                \"2017\",\\n                \"2018\",\\n                \"2019\"\\n            ]\\n        }\\n    ],\\n    \"yAxis\": [\\n        {\\n            \"show\": true,\\n            \"scale\": false,\\n            \"nameLocation\": \"end\",\\n            \"nameGap\": 15,\\n            \"gridIndex\": 0,\\n            \"axisLabel\": {\\n                \"show\": true,\\n                \"position\": \"top\",\\n                \"margin\": 8,\\n                \"formatter\": \"{value}\\\\u4ebf\"\\n            },\\n            \"inverse\": false,\\n            \"offset\": 0,\\n            \"splitNumber\": 5,\\n            \"minInterval\": 0,\\n            \"splitLine\": {\\n                \"show\": false,\\n                \"lineStyle\": {\\n                    \"show\": true,\\n                    \"width\": 1,\\n                    \"opacity\": 1,\\n                    \"curveness\": 0,\\n                    \"type\": \"solid\"\\n                }\\n            }\\n        }\\n    ],\\n    \"title\": [\\n        {\\n            \"padding\": 5,\\n            \"itemGap\": 10\\n        }\\n    ],\\n    \"dataZoom\": {\\n        \"show\": true,\\n        \"type\": \"slider\",\\n        \"realtime\": true,\\n        \"start\": 20,\\n        \"end\": 80,\\n        \"orient\": \"horizontal\",\\n        \"zoomLock\": false,\\n        \"filterMode\": \"filter\"\\n    }\\n};\\n        chart_e61226002a6643eb89ed65db92a4ad4b.setOption(option_e61226002a6643eb89ed65db92a4ad4b);\\n    </script>\\n    </div>\\n\\n    <script>\\n    </script>\\n    <script>\\n        (function() {\\n            containers = document.getElementsByClassName(\"chart-container\");\\n            if(containers.length > 0) {\\n                containers[0].style.display = \"block\";\\n            }\\n        })()\\n\\n        function showChart(evt, chartID) {\\n            let containers = document.getElementsByClassName(\"chart-container\");\\n            for (let i = 0; i < containers.length; i++) {\\n                containers[i].style.display = \"none\";\\n            }\\n\\n            let tablinks = document.getElementsByClassName(\"tablinks\");\\n            for (let i = 0; i < tablinks.length; i++) {\\n                tablinks[i].className = \"tablinks\";\\n            }\\n\\n            document.getElementById(chartID).style.display = \"block\";\\n            evt.currentTarget.className += \" active\";\\n        }\\n    </script>\\n</body>\\n</html>\\n'"
      ]
     },
     "execution_count": 244,
     "metadata": {},
     "output_type": "execute_result"
    }
   ],
   "source": [
    "tab.render_embed()"
   ]
  },
  {
   "cell_type": "code",
   "execution_count": 239,
   "metadata": {},
   "outputs": [],
   "source": [
    "profit_df = finance.run_query(query(finance.STK_INCOME_STATEMENT) \\\n",
    "                                      .filter(finance.STK_INCOME_STATEMENT.company_name == '上海汉得信息技术股份有限公司', \\\n",
    "                                              finance.STK_INCOME_STATEMENT.report_type == 0, \\\n",
    "                                              finance.STK_INCOME_STATEMENT.report_date.ilike('_____12-31'))) \\\n",
    "            [['report_date', 'total_operating_revenue', 'total_operating_cost', 'operating_profit', 'total_profit',\n",
    "              'income_tax', 'net_profit']]"
   ]
  },
  {
   "cell_type": "code",
   "execution_count": 246,
   "metadata": {},
   "outputs": [],
   "source": [
    "from pyecharts.charts import Page,Grid"
   ]
  },
  {
   "cell_type": "code",
   "execution_count": 1,
   "metadata": {},
   "outputs": [],
   "source": [
    "from LAC import LAC\n",
    "from tqdm import tqdm\n",
    "lac = LAC(mode='lac')"
   ]
  },
  {
   "cell_type": "code",
   "execution_count": null,
   "metadata": {},
   "outputs": [],
   "source": [
    "lac."
   ]
  }
 ],
 "metadata": {
  "kernelspec": {
   "display_name": "Python 3",
   "language": "python",
   "name": "python3"
  },
  "language_info": {
   "codemirror_mode": {
    "name": "ipython",
    "version": 3
   },
   "file_extension": ".py",
   "mimetype": "text/x-python",
   "name": "python",
   "nbconvert_exporter": "python",
   "pygments_lexer": "ipython3",
   "version": "3.8.3"
  }
 },
 "nbformat": 4,
 "nbformat_minor": 4
}
